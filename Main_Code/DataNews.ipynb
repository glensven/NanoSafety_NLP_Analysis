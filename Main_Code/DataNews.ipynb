{
 "cells": [
  {
   "cell_type": "markdown",
   "metadata": {},
   "source": [
    "# Install DataNews Package"
   ]
  },
  {
   "cell_type": "code",
   "execution_count": 10,
   "metadata": {},
   "outputs": [
    {
     "name": "stdout",
     "output_type": "stream",
     "text": [
      "Collecting elsapy\n",
      "  Downloading elsapy-0.5.0-py3-none-any.whl (12 kB)\n",
      "Requirement already satisfied: requests in c:\\users\\gss8640\\anaconda3\\envs\\pyvizenv\\lib\\site-packages (from elsapy) (2.25.1)\n",
      "Requirement already satisfied: certifi>=2017.4.17 in c:\\users\\gss8640\\anaconda3\\envs\\pyvizenv\\lib\\site-packages (from requests->elsapy) (2021.5.30)\n",
      "Requirement already satisfied: urllib3<1.27,>=1.21.1 in c:\\users\\gss8640\\anaconda3\\envs\\pyvizenv\\lib\\site-packages (from requests->elsapy) (1.26.4)\n",
      "Requirement already satisfied: chardet<5,>=3.0.2 in c:\\users\\gss8640\\anaconda3\\envs\\pyvizenv\\lib\\site-packages (from requests->elsapy) (4.0.0)\n",
      "Requirement already satisfied: idna<3,>=2.5 in c:\\users\\gss8640\\anaconda3\\envs\\pyvizenv\\lib\\site-packages (from requests->elsapy) (2.10)\n",
      "Installing collected packages: elsapy\n",
      "Successfully installed elsapy-0.5.0\n",
      "Note: you may need to restart the kernel to use updated packages.\n"
     ]
    }
   ],
   "source": [
    "pip install elsapy"
   ]
  },
  {
   "cell_type": "markdown",
   "metadata": {},
   "source": [
    "# Import all other pacakges"
   ]
  },
  {
   "cell_type": "code",
   "execution_count": 2,
   "metadata": {},
   "outputs": [],
   "source": [
    "import requests\n",
    "import pandas as pd\n",
    "import json\n",
    "from path import Path\n",
    "from dotenv import load_dotenv\n",
    "import os\n",
    "import requests\n",
    "import datanews\n",
    "from datetime import datetime\n",
    "import asyncio\n",
    "import time"
   ]
  },
  {
   "cell_type": "markdown",
   "metadata": {},
   "source": [
    "# DataNews API Key"
   ]
  },
  {
   "cell_type": "code",
   "execution_count": 3,
   "metadata": {},
   "outputs": [
    {
     "data": {
      "text/plain": [
       "True"
      ]
     },
     "execution_count": 3,
     "metadata": {},
     "output_type": "execute_result"
    }
   ],
   "source": [
    "# Laod .env environment\n",
    "load_dotenv()"
   ]
  },
  {
   "cell_type": "code",
   "execution_count": 4,
   "metadata": {},
   "outputs": [
    {
     "data": {
      "text/plain": [
       "str"
      ]
     },
     "execution_count": 4,
     "metadata": {},
     "output_type": "execute_result"
    }
   ],
   "source": [
    "# Load API Key\n",
    "datanews.api_key = os.getenv(\"datanews.api_key\")\n",
    "type(datanews.api_key)"
   ]
  },
  {
   "cell_type": "markdown",
   "metadata": {},
   "source": [
    "# Create Dataframes for Each Nanosafety"
   ]
  },
  {
   "cell_type": "code",
   "execution_count": 8,
   "metadata": {},
   "outputs": [],
   "source": [
    "# Create a desired date range for news articles\n",
    "datelist = pd.DataFrame(pd.period_range(start ='6/30/2006', end = '6/30/2021', freq ='D'), columns = ['Date'])"
   ]
  },
  {
   "cell_type": "code",
   "execution_count": 9,
   "metadata": {},
   "outputs": [
    {
     "name": "stdout",
     "output_type": "stream",
     "text": [
      "No Data\n"
     ]
    }
   ],
   "source": [
    "# Grab Nanosafety data from DataNews Api and load it into a dataframe\n",
    "nanosafety_appended_df = pd.DataFrame()\n",
    "for i in datelist.index:\n",
    "        time.sleep(.3)\n",
    "        response = datanews.news(q='nanosafety', language=['en'], from_date = str(datelist['Date'].values[i]), to_date = str(datelist['Date'].values[i]))\n",
    "        if len(response['hits']) > 0:\n",
    "            articles = response['hits']\n",
    "            nanosafety_df = pd.DataFrame(articles).fillna(0)\n",
    "            nanosafety_summary_df = nanosafety_df.loc[:,['pubDate','title','content']]\n",
    "            nanosafety_summary_df.pubDate = pd.to_datetime(nanosafety_summary_df.pubDate)\n",
    "            nanosafety_summary_df.set_index('pubDate', inplace = True)\n",
    "            nanosafety_summary_df.columns = ['Title','Content']\n",
    "            nanosafety_summary_df.index.names = ['Published Date']\n",
    "            nanosafety_appended_df = nanosafety_appended_df.append(nanosafety_summary_df)\n",
    "        else:\n",
    "            print(\"No Data\")\n",
    "            break\n",
    "\n",
    "        \n"
   ]
  },
  {
   "cell_type": "code",
   "execution_count": null,
   "metadata": {},
   "outputs": [],
   "source": [
    "# Check dataframe\n",
    "nanosafety_appended_df.head(20)"
   ]
  },
  {
   "cell_type": "markdown",
   "metadata": {},
   "source": [
    "# Create CSVs"
   ]
  },
  {
   "cell_type": "code",
   "execution_count": null,
   "metadata": {},
   "outputs": [],
   "source": [
    "# Turn dataframes into csv\n",
    "nanosafety_appended_df.to_csv('DataNews_Nanosafety.csv',  index = True)"
   ]
  },
  {
   "cell_type": "code",
   "execution_count": null,
   "metadata": {},
   "outputs": [],
   "source": []
  }
 ],
 "metadata": {
  "kernelspec": {
   "display_name": "Python [conda env:pyvizenv] *",
   "language": "python",
   "name": "conda-env-pyvizenv-py"
  },
  "language_info": {
   "codemirror_mode": {
    "name": "ipython",
    "version": 3
   },
   "file_extension": ".py",
   "mimetype": "text/x-python",
   "name": "python",
   "nbconvert_exporter": "python",
   "pygments_lexer": "ipython3",
   "version": "3.7.10"
  }
 },
 "nbformat": 4,
 "nbformat_minor": 4
}
