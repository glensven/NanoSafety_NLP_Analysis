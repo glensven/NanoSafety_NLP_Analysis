{
 "cells": [
  {
   "cell_type": "code",
   "execution_count": 1,
   "metadata": {},
   "outputs": [
    {
     "data": {
      "text/plain": [
       "5"
      ]
     },
     "execution_count": 1,
     "metadata": {},
     "output_type": "execute_result"
    }
   ],
   "source": [
    "import param\n",
    "class B(param.Parameterized):\n",
    "    def identity(x): return x\n",
    "    \n",
    "def print_time_of_day():\n",
    "    print(datetime.date.today())\n",
    "\n",
    "class A(param.Parameterized):\n",
    "    transformer = param.Callable(B.identity)\n",
    "    a = param.Action(print_time_of_day)\n",
    "    \n",
    "    def __call__(self, x):\n",
    "        return self.transformer(x)\n",
    " \n",
    "a = A()\n",
    "a(5)"
   ]
  },
  {
   "cell_type": "code",
   "execution_count": null,
   "metadata": {},
   "outputs": [],
   "source": []
  }
 ],
 "metadata": {
  "kernelspec": {
   "display_name": "Python 3",
   "language": "python",
   "name": "python3"
  },
  "language_info": {
   "codemirror_mode": {
    "name": "ipython",
    "version": 3
   },
   "file_extension": ".py",
   "mimetype": "text/x-python",
   "name": "python",
   "nbconvert_exporter": "python",
   "pygments_lexer": "ipython3",
   "version": "3.7.9"
  }
 },
 "nbformat": 4,
 "nbformat_minor": 4
}
