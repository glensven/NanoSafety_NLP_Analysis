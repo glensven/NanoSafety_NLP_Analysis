{
 "cells": [
  {
   "cell_type": "code",
   "execution_count": 238,
   "metadata": {},
   "outputs": [],
   "source": [
    "from pathlib import Path\n",
    "import json\n",
    "import pandas as pd\n",
    "import nltk\n",
    "import re\n",
    "import io\n",
    "from nltk.corpus import stopwords, reuters\n",
    "from nltk.tokenize import word_tokenize\n",
    "from nltk.stem import WordNetLemmatizer\n",
    "from wordcloud import WordCloud\n",
    "import matplotlib.pyplot as plt\n",
    "import matplotlib as mpl\n",
    "from sklearn.feature_extraction.text import CountVectorizer\n",
    "import hvplot.pandas as hv\n",
    "import plotly.express as px\n",
    "import plotly.graph_objects as go\n",
    "lemmatizer = WordNetLemmatizer()\n",
    "\n",
    "path = Path('Nanosafety_2010_2020.csv')\n",
    "\n",
    "scopus = pd.read_csv(path)\n",
    "\n",
    "\n",
    "for row in scopus:\n",
    "    big_string_title = ''.join(str(scopus['Title']))\n",
    "    big_string_content = ''.join(str(scopus['Content']))\n",
    "sw = set(stopwords.words('english'))\n",
    "regex = re.compile(\"[^a-zA-Z ]\")\n",
    "wordlist = re.sub(\"[^\\w]\", \" \", 'ha').split()\n",
    "sw_addons = {'of', 'and', 'for', 'in', 'a', 'the', 'one', 'by', 'inf', 'with', 'an', 'using', 'via', 'based', 'nan', 'date', 'used', 'b', 'tio', 'nanote'}\n",
    "sw_addons.update(wordlist)\n",
    "re_clean_title = regex.sub('', big_string_title)\n",
    "re_clean_content = regex.sub('', big_string_content)\n",
    "words_title = word_tokenize(re_clean_title)\n",
    "words_content = word_tokenize(re_clean_content)\n",
    "lem_title = [lemmatizer.lemmatize(word) for word in words_title]\n",
    "lem_content = [lemmatizer.lemmatize(word) for word in words_content]\n",
    "output_title = [word.lower() for word in lem_title if word.lower() not in sw.union(sw_addons)]\n",
    "output_content = [word.lower() for word in lem_content if word.lower() not in sw.union(sw_addons)]\n",
    "full_string_title = ' '.join(output_title)\n",
    "full_string_content = ' '.join(output_content)"
   ]
  },
  {
   "cell_type": "code",
   "execution_count": 199,
   "metadata": {},
   "outputs": [
    {
     "data": {
      "text/plain": [
       "\u001b[1;31mType:\u001b[0m        Pattern\n",
       "\u001b[1;31mString form:\u001b[0m re.compile('[^a-zA-Z ]')\n",
       "\u001b[1;31mFile:\u001b[0m        c:\\users\\gss8640\\anaconda3\\envs\\dlenv\\lib\\re.py\n",
       "\u001b[1;31mDocstring:\u001b[0m   Compiled regular expression object.\n"
      ]
     },
     "metadata": {},
     "output_type": "display_data"
    }
   ],
   "source": []
  },
  {
   "cell_type": "code",
   "execution_count": 294,
   "metadata": {},
   "outputs": [
    {
     "data": {
      "text/html": [
       "<div>\n",
       "<style scoped>\n",
       "    .dataframe tbody tr th:only-of-type {\n",
       "        vertical-align: middle;\n",
       "    }\n",
       "\n",
       "    .dataframe tbody tr th {\n",
       "        vertical-align: top;\n",
       "    }\n",
       "\n",
       "    .dataframe thead th {\n",
       "        text-align: right;\n",
       "    }\n",
       "</style>\n",
       "<table border=\"1\" class=\"dataframe\">\n",
       "  <thead>\n",
       "    <tr style=\"text-align: right;\">\n",
       "      <th></th>\n",
       "      <th>Date</th>\n",
       "      <th>Title</th>\n",
       "      <th>Content</th>\n",
       "    </tr>\n",
       "  </thead>\n",
       "  <tbody>\n",
       "    <tr>\n",
       "      <th>0</th>\n",
       "      <td>2020-12-30</td>\n",
       "      <td>relationship between chemical composition phys...</td>\n",
       "      <td>background aims decades after introduction nan...</td>\n",
       "    </tr>\n",
       "    <tr>\n",
       "      <th>1</th>\n",
       "      <td>2020-12-30</td>\n",
       "      <td>self protecting biomimetic nanozyme selective ...</td>\n",
       "      <td>clearance peripheral amyloid been demonstrated...</td>\n",
       "    </tr>\n",
       "    <tr>\n",
       "      <th>2</th>\n",
       "      <td>2020-12-30</td>\n",
       "      <td>phage capsid nanoparticles multivalent inhibit...</td>\n",
       "      <td></td>\n",
       "    </tr>\n",
       "    <tr>\n",
       "      <th>3</th>\n",
       "      <td>2020-12-22</td>\n",
       "      <td>bacterial outer membrane vesicles presenting p...</td>\n",
       "      <td>natural extracellular membrane vesicles secret...</td>\n",
       "    </tr>\n",
       "    <tr>\n",
       "      <th>4</th>\n",
       "      <td>2020-12-22</td>\n",
       "      <td>bright aggregation induced emission nanopartic...</td>\n",
       "      <td>photodynamic therapy noninvasive therapeutic s...</td>\n",
       "    </tr>\n",
       "    <tr>\n",
       "      <th>5</th>\n",
       "      <td>2020-12-21</td>\n",
       "      <td>combinatorial mirna replenishment irinotecan d...</td>\n",
       "      <td>synergistic combination microrna mirna modula...</td>\n",
       "    </tr>\n",
       "    <tr>\n",
       "      <th>6</th>\n",
       "      <td>2020-12-21</td>\n",
       "      <td>doped bayf upconversion nanoparticles with en...</td>\n",
       "      <td>this work bayf abbreviated bayf where upconve...</td>\n",
       "    </tr>\n",
       "    <tr>\n",
       "      <th>7</th>\n",
       "      <td>2020-12-21</td>\n",
       "      <td>activating antibacterial effect diamino pyrimi...</td>\n",
       "      <td>adequately decorated gold nanoparticles gnps h...</td>\n",
       "    </tr>\n",
       "    <tr>\n",
       "      <th>8</th>\n",
       "      <td>2020-12-18</td>\n",
       "      <td>perspective lung particles fibers nanomaterial...</td>\n",
       "      <td>studies have shown that wide range factors inc...</td>\n",
       "    </tr>\n",
       "    <tr>\n",
       "      <th>9</th>\n",
       "      <td>2020-12-15</td>\n",
       "      <td>supernucleation crystalline structure thermal ...</td>\n",
       "      <td>naturally occurring thymine incorporated into ...</td>\n",
       "    </tr>\n",
       "    <tr>\n",
       "      <th>10</th>\n",
       "      <td>2020-12-10</td>\n",
       "      <td>disentangling biomolecular corona interactions...</td>\n",
       "      <td>nanoparticles promising tools nanomedicine wid...</td>\n",
       "    </tr>\n",
       "    <tr>\n",
       "      <th>11</th>\n",
       "      <td>2020-12-10</td>\n",
       "      <td>polysaccharide based nanomaterials ocular drug...</td>\n",
       "      <td>ocular drug delivery most challenging issues o...</td>\n",
       "    </tr>\n",
       "    <tr>\n",
       "      <th>12</th>\n",
       "      <td>2020-12-10</td>\n",
       "      <td>elucidating origin surface functionalization d...</td>\n",
       "      <td>previous studies have shown that toxicity grap...</td>\n",
       "    </tr>\n",
       "    <tr>\n",
       "      <th>13</th>\n",
       "      <td>2020-12-07</td>\n",
       "      <td>engineering protein corona structure gold nano...</td>\n",
       "      <td>application emitters gastrointestinal tract i...</td>\n",
       "    </tr>\n",
       "    <tr>\n",
       "      <th>14</th>\n",
       "      <td>2020-12-02</td>\n",
       "      <td>impact nanoparticles innate immune activation...</td>\n",
       "      <td>innate immune system evolved detect react aga...</td>\n",
       "    </tr>\n",
       "    <tr>\n",
       "      <th>15</th>\n",
       "      <td>2020-12-02</td>\n",
       "      <td>management occupational risk prevention nanoma...</td>\n",
       "      <td>currently nanotechnology plays role technologi...</td>\n",
       "    </tr>\n",
       "    <tr>\n",
       "      <th>16</th>\n",
       "      <td>2020-12-02</td>\n",
       "      <td>nanomaterials therapeutic delivery</td>\n",
       "      <td>recent years have witnessed tremendous develop...</td>\n",
       "    </tr>\n",
       "    <tr>\n",
       "      <th>17</th>\n",
       "      <td>2020-12-01</td>\n",
       "      <td>assessing nanotechnology grounds costs benefit...</td>\n",
       "      <td>background technical innovations based princip...</td>\n",
       "    </tr>\n",
       "    <tr>\n",
       "      <th>18</th>\n",
       "      <td>2020-12-01</td>\n",
       "      <td>sers active sensor sensitive detection organic...</td>\n",
       "      <td>metal organic frameworks mofs been considered ...</td>\n",
       "    </tr>\n",
       "    <tr>\n",
       "      <th>19</th>\n",
       "      <td>2020-12-01</td>\n",
       "      <td>inchi nano address need simplified representa...</td>\n",
       "      <td>chemoinformatics developed efficient ways repr...</td>\n",
       "    </tr>\n",
       "    <tr>\n",
       "      <th>20</th>\n",
       "      <td>2020-12-01</td>\n",
       "      <td>subtoxic cell responses silica particles with ...</td>\n",
       "      <td>health risks from particles priority challenge...</td>\n",
       "    </tr>\n",
       "    <tr>\n",
       "      <th>21</th>\n",
       "      <td>2020-12-01</td>\n",
       "      <td>epigenetics breast cancer therapy strategies f...</td>\n",
       "      <td>epigenetic dysregulation been recognized criti...</td>\n",
       "    </tr>\n",
       "    <tr>\n",
       "      <th>22</th>\n",
       "      <td>2020-12-01</td>\n",
       "      <td>physicochemical characterization genotoxicity ...</td>\n",
       "      <td>background carbon nanotubes nanofibers have kn...</td>\n",
       "    </tr>\n",
       "    <tr>\n",
       "      <th>23</th>\n",
       "      <td>2020-12-01</td>\n",
       "      <td>engineering nucleophilic active oxygen species...</td>\n",
       "      <td>industrialization resulted rapid increase vola...</td>\n",
       "    </tr>\n",
       "    <tr>\n",
       "      <th>24</th>\n",
       "      <td>2020-12-01</td>\n",
       "      <td>nanomaterials from diesel engine exhaust indu...</td>\n",
       "      <td>cerium dioxide nanomaterials widely used nano ...</td>\n",
       "    </tr>\n",
       "    <tr>\n",
       "      <th>25</th>\n",
       "      <td>2020-12-01</td>\n",
       "      <td>defect rich adhesive molybdenum disulfide vert...</td>\n",
       "      <td>nanomaterials with intrinsic enzyme like activ...</td>\n",
       "    </tr>\n",
       "    <tr>\n",
       "      <th>26</th>\n",
       "      <td>2020-12-01</td>\n",
       "      <td>evolution biobased nanotechnology packaging re...</td>\n",
       "      <td>this review deals with evolution based packagi...</td>\n",
       "    </tr>\n",
       "    <tr>\n",
       "      <th>27</th>\n",
       "      <td>2020-12-01</td>\n",
       "      <td>proton driven transformable nanovaccine cancer...</td>\n",
       "      <td>cancer vaccines hold great promise improved ca...</td>\n",
       "    </tr>\n",
       "    <tr>\n",
       "      <th>28</th>\n",
       "      <td>2020-12-01</td>\n",
       "      <td>progress challenges future nanomedicine</td>\n",
       "      <td>nanotherapeutics exhibit unique advantages cli...</td>\n",
       "    </tr>\n",
       "    <tr>\n",
       "      <th>29</th>\n",
       "      <td>2020-12-01</td>\n",
       "      <td>metal organic framework based nanocatalytic me...</td>\n",
       "      <td></td>\n",
       "    </tr>\n",
       "    <tr>\n",
       "      <th>...</th>\n",
       "      <td>...</td>\n",
       "      <td>...</td>\n",
       "      <td>...</td>\n",
       "    </tr>\n",
       "    <tr>\n",
       "      <th>4541</th>\n",
       "      <td>2010-06-01</td>\n",
       "      <td>toxicity zinc oxide nanoparticles zebrafish em...</td>\n",
       "      <td>biological impact engineered nanomaterials re...</td>\n",
       "    </tr>\n",
       "    <tr>\n",
       "      <th>4542</th>\n",
       "      <td>2010-05-25</td>\n",
       "      <td>potent angiogenesis inhibition particulate for...</td>\n",
       "      <td>antiangiogenesis effective strategy cancer tre...</td>\n",
       "    </tr>\n",
       "    <tr>\n",
       "      <th>4543</th>\n",
       "      <td>2010-05-19</td>\n",
       "      <td>shift photoluminescence dopants strained case...</td>\n",
       "      <td>photoluminescence dopants heteronanostructure...</td>\n",
       "    </tr>\n",
       "    <tr>\n",
       "      <th>4544</th>\n",
       "      <td>2010-05-15</td>\n",
       "      <td>microfluidic western blot</td>\n",
       "      <td>develop novel method western blot based micro...</td>\n",
       "    </tr>\n",
       "    <tr>\n",
       "      <th>4545</th>\n",
       "      <td>2010-05-06</td>\n",
       "      <td>first endohedral metallofullerene containing p...</td>\n",
       "      <td>metallofullerene containing copolymers were fi...</td>\n",
       "    </tr>\n",
       "    <tr>\n",
       "      <th>4546</th>\n",
       "      <td>2010-05-01</td>\n",
       "      <td>effects nanoparticles antioxidant enzyme syste...</td>\n",
       "      <td>toxicity effects nano suspension antioxidant ...</td>\n",
       "    </tr>\n",
       "    <tr>\n",
       "      <th>4547</th>\n",
       "      <td>2010-05-01</td>\n",
       "      <td>structures electronic properties clusters dens...</td>\n",
       "      <td>geometries electronic properties electrons at...</td>\n",
       "    </tr>\n",
       "    <tr>\n",
       "      <th>4548</th>\n",
       "      <td>2010-04-20</td>\n",
       "      <td>metallofullerene nanoparticles circumvent tumo...</td>\n",
       "      <td>cisplatin chemotherapeutic drug commonly used ...</td>\n",
       "    </tr>\n",
       "    <tr>\n",
       "      <th>4549</th>\n",
       "      <td>2010-04-12</td>\n",
       "      <td>enhanced exciton migration electrospun poly me...</td>\n",
       "      <td>present studies static transient optical char...</td>\n",
       "    </tr>\n",
       "    <tr>\n",
       "      <th>4550</th>\n",
       "      <td>2010-04-01</td>\n",
       "      <td>loop mediated isothermal amplification integra...</td>\n",
       "      <td>this work shows that loop mediated isothermal ...</td>\n",
       "    </tr>\n",
       "    <tr>\n",
       "      <th>4551</th>\n",
       "      <td>2010-03-24</td>\n",
       "      <td>chemistry carbon nanotubes biomedical applicat...</td>\n",
       "      <td>carbon nanotubes cnts have attracted great int...</td>\n",
       "    </tr>\n",
       "    <tr>\n",
       "      <th>4552</th>\n",
       "      <td>2010-03-12</td>\n",
       "      <td>applications toxicological issues surrounding ...</td>\n",
       "      <td>with rapid development nanotechnology presence...</td>\n",
       "    </tr>\n",
       "    <tr>\n",
       "      <th>4553</th>\n",
       "      <td>2010-03-08</td>\n",
       "      <td>physico chemical behaviour algal toxicity nano...</td>\n",
       "      <td>assessing risks posed nanomaterials environme...</td>\n",
       "    </tr>\n",
       "    <tr>\n",
       "      <th>4554</th>\n",
       "      <td>2010-03-05</td>\n",
       "      <td>size dependent mechanical properties nanofiber...</td>\n",
       "      <td>organic nanowires fibers have great potential ...</td>\n",
       "    </tr>\n",
       "    <tr>\n",
       "      <th>4555</th>\n",
       "      <td>2010-03-01</td>\n",
       "      <td>preparation anatase type nanoparticals from so...</td>\n",
       "      <td>anatase type fine powders were synthesized und...</td>\n",
       "    </tr>\n",
       "    <tr>\n",
       "      <th>4556</th>\n",
       "      <td>2010-03-01</td>\n",
       "      <td>therapeutic strategies underpinning developmen...</td>\n",
       "      <td>replication cycle offers multiple targets che...</td>\n",
       "    </tr>\n",
       "    <tr>\n",
       "      <th>4557</th>\n",
       "      <td>2010-02-23</td>\n",
       "      <td>nanoparticles induce dendritic cell maturatio...</td>\n",
       "      <td>dendritic cells play pivotal role host immune ...</td>\n",
       "    </tr>\n",
       "    <tr>\n",
       "      <th>4558</th>\n",
       "      <td>2010-02-01</td>\n",
       "      <td>polycationic nanoparticles nonviral vectors em...</td>\n",
       "      <td>currently polycationic nanoparticles polycatio...</td>\n",
       "    </tr>\n",
       "    <tr>\n",
       "      <th>4559</th>\n",
       "      <td>2010-01-26</td>\n",
       "      <td>rapid cytotoxicity screening approach enginee...</td>\n",
       "      <td>establishment verifiably safe nanotechnology ...</td>\n",
       "    </tr>\n",
       "    <tr>\n",
       "      <th>4560</th>\n",
       "      <td>2010-01-19</td>\n",
       "      <td>fabrication necklace like structures electrosp...</td>\n",
       "      <td>report step method fabricate necklace like st...</td>\n",
       "    </tr>\n",
       "    <tr>\n",
       "      <th>4561</th>\n",
       "      <td>2010-01-15</td>\n",
       "      <td>probing magnetic structural properties impurit...</td>\n",
       "      <td>geometries electronic magnetic properties imp...</td>\n",
       "    </tr>\n",
       "    <tr>\n",
       "      <th>4562</th>\n",
       "      <td>2010-01-01</td>\n",
       "      <td>functionalization cloisite with fluorescent dyes</td>\n",
       "      <td>organo montmorillonite cloisite modified with...</td>\n",
       "    </tr>\n",
       "    <tr>\n",
       "      <th>4563</th>\n",
       "      <td>2010-01-01</td>\n",
       "      <td>electrochemical tuning spin states endohedral ...</td>\n",
       "      <td></td>\n",
       "    </tr>\n",
       "    <tr>\n",
       "      <th>4564</th>\n",
       "      <td>2010-01-01</td>\n",
       "      <td>green blue luminescence from znga nanowire ar...</td>\n",
       "      <td>large area vertically aligned znga doped znga ...</td>\n",
       "    </tr>\n",
       "    <tr>\n",
       "      <th>4565</th>\n",
       "      <td>2010-01-01</td>\n",
       "      <td>characterization gold nanorods vivo integrated...</td>\n",
       "      <td>integrated analytical techniques were used stu...</td>\n",
       "    </tr>\n",
       "    <tr>\n",
       "      <th>4566</th>\n",
       "      <td>2010-01-01</td>\n",
       "      <td>reported nanosafety practices research laborat...</td>\n",
       "      <td></td>\n",
       "    </tr>\n",
       "    <tr>\n",
       "      <th>4567</th>\n",
       "      <td>2010-01-01</td>\n",
       "      <td>experimental evaluation individual protection ...</td>\n",
       "      <td>this study different conventional individual ...</td>\n",
       "    </tr>\n",
       "    <tr>\n",
       "      <th>4568</th>\n",
       "      <td>2010-01-01</td>\n",
       "      <td>circumventing tumor resistance chemotherapy na...</td>\n",
       "      <td>patient relapse metastasis malignant cells ver...</td>\n",
       "    </tr>\n",
       "    <tr>\n",
       "      <th>4569</th>\n",
       "      <td>2010-01-01</td>\n",
       "      <td>personal protective equipment against nanopart...</td>\n",
       "      <td>nanomaterials manufacture full expansion with ...</td>\n",
       "    </tr>\n",
       "    <tr>\n",
       "      <th>4570</th>\n",
       "      <td>2010-01-01</td>\n",
       "      <td>effects rare earth oxide nanoparticles root el...</td>\n",
       "      <td>phytotoxicity four rare earth oxide nanoparti...</td>\n",
       "    </tr>\n",
       "  </tbody>\n",
       "</table>\n",
       "<p>4571 rows × 3 columns</p>\n",
       "</div>"
      ],
      "text/plain": [
       "           Date                                              Title  \\\n",
       "0    2020-12-30  relationship between chemical composition phys...   \n",
       "1    2020-12-30  self protecting biomimetic nanozyme selective ...   \n",
       "2    2020-12-30  phage capsid nanoparticles multivalent inhibit...   \n",
       "3    2020-12-22  bacterial outer membrane vesicles presenting p...   \n",
       "4    2020-12-22  bright aggregation induced emission nanopartic...   \n",
       "5    2020-12-21  combinatorial mirna replenishment irinotecan d...   \n",
       "6    2020-12-21   doped bayf upconversion nanoparticles with en...   \n",
       "7    2020-12-21  activating antibacterial effect diamino pyrimi...   \n",
       "8    2020-12-18  perspective lung particles fibers nanomaterial...   \n",
       "9    2020-12-15  supernucleation crystalline structure thermal ...   \n",
       "10   2020-12-10  disentangling biomolecular corona interactions...   \n",
       "11   2020-12-10  polysaccharide based nanomaterials ocular drug...   \n",
       "12   2020-12-10  elucidating origin surface functionalization d...   \n",
       "13   2020-12-07  engineering protein corona structure gold nano...   \n",
       "14   2020-12-02   impact nanoparticles innate immune activation...   \n",
       "15   2020-12-02  management occupational risk prevention nanoma...   \n",
       "16   2020-12-02                 nanomaterials therapeutic delivery   \n",
       "17   2020-12-01  assessing nanotechnology grounds costs benefit...   \n",
       "18   2020-12-01  sers active sensor sensitive detection organic...   \n",
       "19   2020-12-01   inchi nano address need simplified representa...   \n",
       "20   2020-12-01  subtoxic cell responses silica particles with ...   \n",
       "21   2020-12-01  epigenetics breast cancer therapy strategies f...   \n",
       "22   2020-12-01  physicochemical characterization genotoxicity ...   \n",
       "23   2020-12-01  engineering nucleophilic active oxygen species...   \n",
       "24   2020-12-01   nanomaterials from diesel engine exhaust indu...   \n",
       "25   2020-12-01  defect rich adhesive molybdenum disulfide vert...   \n",
       "26   2020-12-01  evolution biobased nanotechnology packaging re...   \n",
       "27   2020-12-01  proton driven transformable nanovaccine cancer...   \n",
       "28   2020-12-01            progress challenges future nanomedicine   \n",
       "29   2020-12-01  metal organic framework based nanocatalytic me...   \n",
       "...         ...                                                ...   \n",
       "4541 2010-06-01  toxicity zinc oxide nanoparticles zebrafish em...   \n",
       "4542 2010-05-25  potent angiogenesis inhibition particulate for...   \n",
       "4543 2010-05-19   shift photoluminescence dopants strained case...   \n",
       "4544 2010-05-15                          microfluidic western blot   \n",
       "4545 2010-05-06  first endohedral metallofullerene containing p...   \n",
       "4546 2010-05-01  effects nanoparticles antioxidant enzyme syste...   \n",
       "4547 2010-05-01  structures electronic properties clusters dens...   \n",
       "4548 2010-04-20  metallofullerene nanoparticles circumvent tumo...   \n",
       "4549 2010-04-12  enhanced exciton migration electrospun poly me...   \n",
       "4550 2010-04-01  loop mediated isothermal amplification integra...   \n",
       "4551 2010-03-24  chemistry carbon nanotubes biomedical applicat...   \n",
       "4552 2010-03-12  applications toxicological issues surrounding ...   \n",
       "4553 2010-03-08  physico chemical behaviour algal toxicity nano...   \n",
       "4554 2010-03-05  size dependent mechanical properties nanofiber...   \n",
       "4555 2010-03-01  preparation anatase type nanoparticals from so...   \n",
       "4556 2010-03-01  therapeutic strategies underpinning developmen...   \n",
       "4557 2010-02-23   nanoparticles induce dendritic cell maturatio...   \n",
       "4558 2010-02-01  polycationic nanoparticles nonviral vectors em...   \n",
       "4559 2010-01-26   rapid cytotoxicity screening approach enginee...   \n",
       "4560 2010-01-19  fabrication necklace like structures electrosp...   \n",
       "4561 2010-01-15  probing magnetic structural properties impurit...   \n",
       "4562 2010-01-01   functionalization cloisite with fluorescent dyes   \n",
       "4563 2010-01-01  electrochemical tuning spin states endohedral ...   \n",
       "4564 2010-01-01   green blue luminescence from znga nanowire ar...   \n",
       "4565 2010-01-01  characterization gold nanorods vivo integrated...   \n",
       "4566 2010-01-01  reported nanosafety practices research laborat...   \n",
       "4567 2010-01-01  experimental evaluation individual protection ...   \n",
       "4568 2010-01-01  circumventing tumor resistance chemotherapy na...   \n",
       "4569 2010-01-01  personal protective equipment against nanopart...   \n",
       "4570 2010-01-01  effects rare earth oxide nanoparticles root el...   \n",
       "\n",
       "                                                Content  \n",
       "0     background aims decades after introduction nan...  \n",
       "1     clearance peripheral amyloid been demonstrated...  \n",
       "2                                                        \n",
       "3     natural extracellular membrane vesicles secret...  \n",
       "4     photodynamic therapy noninvasive therapeutic s...  \n",
       "5      synergistic combination microrna mirna modula...  \n",
       "6      this work bayf abbreviated bayf where upconve...  \n",
       "7     adequately decorated gold nanoparticles gnps h...  \n",
       "8     studies have shown that wide range factors inc...  \n",
       "9     naturally occurring thymine incorporated into ...  \n",
       "10    nanoparticles promising tools nanomedicine wid...  \n",
       "11    ocular drug delivery most challenging issues o...  \n",
       "12    previous studies have shown that toxicity grap...  \n",
       "13     application emitters gastrointestinal tract i...  \n",
       "14     innate immune system evolved detect react aga...  \n",
       "15    currently nanotechnology plays role technologi...  \n",
       "16    recent years have witnessed tremendous develop...  \n",
       "17    background technical innovations based princip...  \n",
       "18    metal organic frameworks mofs been considered ...  \n",
       "19    chemoinformatics developed efficient ways repr...  \n",
       "20    health risks from particles priority challenge...  \n",
       "21    epigenetic dysregulation been recognized criti...  \n",
       "22    background carbon nanotubes nanofibers have kn...  \n",
       "23    industrialization resulted rapid increase vola...  \n",
       "24    cerium dioxide nanomaterials widely used nano ...  \n",
       "25    nanomaterials with intrinsic enzyme like activ...  \n",
       "26    this review deals with evolution based packagi...  \n",
       "27    cancer vaccines hold great promise improved ca...  \n",
       "28    nanotherapeutics exhibit unique advantages cli...  \n",
       "29                                                       \n",
       "...                                                 ...  \n",
       "4541   biological impact engineered nanomaterials re...  \n",
       "4542  antiangiogenesis effective strategy cancer tre...  \n",
       "4543   photoluminescence dopants heteronanostructure...  \n",
       "4544   develop novel method western blot based micro...  \n",
       "4545  metallofullerene containing copolymers were fi...  \n",
       "4546   toxicity effects nano suspension antioxidant ...  \n",
       "4547   geometries electronic properties electrons at...  \n",
       "4548  cisplatin chemotherapeutic drug commonly used ...  \n",
       "4549   present studies static transient optical char...  \n",
       "4550  this work shows that loop mediated isothermal ...  \n",
       "4551  carbon nanotubes cnts have attracted great int...  \n",
       "4552  with rapid development nanotechnology presence...  \n",
       "4553   assessing risks posed nanomaterials environme...  \n",
       "4554  organic nanowires fibers have great potential ...  \n",
       "4555  anatase type fine powders were synthesized und...  \n",
       "4556   replication cycle offers multiple targets che...  \n",
       "4557  dendritic cells play pivotal role host immune ...  \n",
       "4558  currently polycationic nanoparticles polycatio...  \n",
       "4559   establishment verifiably safe nanotechnology ...  \n",
       "4560   report step method fabricate necklace like st...  \n",
       "4561   geometries electronic magnetic properties imp...  \n",
       "4562   organo montmorillonite cloisite modified with...  \n",
       "4563                                                     \n",
       "4564  large area vertically aligned znga doped znga ...  \n",
       "4565  integrated analytical techniques were used stu...  \n",
       "4566                                                     \n",
       "4567   this study different conventional individual ...  \n",
       "4568  patient relapse metastasis malignant cells ver...  \n",
       "4569  nanomaterials manufacture full expansion with ...  \n",
       "4570   phytotoxicity four rare earth oxide nanoparti...  \n",
       "\n",
       "[4571 rows x 3 columns]"
      ]
     },
     "execution_count": 294,
     "metadata": {},
     "output_type": "execute_result"
    }
   ],
   "source": [
    "scopus['Date'] = pd.DatetimeIndex(scopus['Date'])\n",
    "sw = set(stopwords.words('english'))\n",
    "regex = re.compile(\"[^a-zA-Z ]\")\n",
    "wordlist = re.sub(\"[^\\w]\", \" \", 'ha').split()\n",
    "sw_addons = {'of', 'and', 'for', 'in', 'a', 'the', 'one', 'by', 'inf', 'with', 'an', 'using', 'via', 'based', 'nan', 'date', 'used', 'b', 'tio', 'nanote'}\n",
    "sw_addons.update(wordlist)\n",
    "for i in range(len(scopus)): \n",
    "    # Remove all the special characters\n",
    "    scopus_title_clean = re.sub(r'[?|$|.|!]', r' ', str(scopus.iloc[i].Title))\n",
    "    scopus_content_clean = re.sub(r'[?|$|.|!]', r' ', str(scopus.iloc[i].Content))\n",
    "    # Remove non-alphabet characters\n",
    "    scopus_title_clean = re.sub(r'[^a-z A-Z]',r' ', scopus_title_clean)  \n",
    "    scopus_content_clean = re.sub(r'[^a-z A-Z]',r' ', scopus_content_clean)\n",
    "    # Convert the whole text to lowercase\n",
    "    scopus_title_clean = scopus_title_clean.lower()\n",
    "    scopus_content_clean = scopus_content_clean.lower()\n",
    "    # Delete any word which is less than 3-characters mostly those are stopwords\n",
    "    scopus_title_clean = re.sub(r'\\b\\w{1,3}\\b', ' ', scopus_title_clean)\n",
    "    scopus_content_clean = re.sub(r'\\b\\w{1,3}\\b', ' ', scopus_content_clean)\n",
    "    # Strip extra spaces in the text\n",
    "    scopus_title_clean = re.sub(r' +', ' ', scopus_title_clean)\n",
    "    scopus_content_clean = re.sub(r' +', ' ', scopus_content_clean)\n",
    "    # Replace row with cleaned string\n",
    "    scopus.Title = scopus.Title.replace(scopus.iloc[i].Title, scopus_title_clean)\n",
    "    scopus.Content = scopus.Content.replace(scopus.iloc[i].Content, scopus_content_clean)\n",
    "scopus"
   ]
  },
  {
   "cell_type": "code",
   "execution_count": 298,
   "metadata": {},
   "outputs": [
    {
     "data": {
      "text/html": [
       "<div>\n",
       "<style scoped>\n",
       "    .dataframe tbody tr th:only-of-type {\n",
       "        vertical-align: middle;\n",
       "    }\n",
       "\n",
       "    .dataframe tbody tr th {\n",
       "        vertical-align: top;\n",
       "    }\n",
       "\n",
       "    .dataframe thead th {\n",
       "        text-align: right;\n",
       "    }\n",
       "</style>\n",
       "<table border=\"1\" class=\"dataframe\">\n",
       "  <thead>\n",
       "    <tr style=\"text-align: right;\">\n",
       "      <th></th>\n",
       "      <th>Date</th>\n",
       "      <th>Content</th>\n",
       "    </tr>\n",
       "  </thead>\n",
       "  <tbody>\n",
       "    <tr>\n",
       "      <th>0</th>\n",
       "      <td>2010-12-31</td>\n",
       "      <td>organo montmorillonite cloisite modified with...</td>\n",
       "    </tr>\n",
       "    <tr>\n",
       "      <th>1</th>\n",
       "      <td>2011-12-31</td>\n",
       "      <td>substances used prepare coatings food pharmace...</td>\n",
       "    </tr>\n",
       "    <tr>\n",
       "      <th>2</th>\n",
       "      <td>2012-12-31</td>\n",
       "      <td>research policies united states european union...</td>\n",
       "    </tr>\n",
       "    <tr>\n",
       "      <th>3</th>\n",
       "      <td>2013-12-31</td>\n",
       "      <td>begin this chapter nanosafety animals cell cu...</td>\n",
       "    </tr>\n",
       "    <tr>\n",
       "      <th>4</th>\n",
       "      <td>2014-12-31</td>\n",
       "      <td>brain nervous system disorders represent large...</td>\n",
       "    </tr>\n",
       "    <tr>\n",
       "      <th>5</th>\n",
       "      <td>2015-12-31</td>\n",
       "      <td>nanotechnology being presented third industria...</td>\n",
       "    </tr>\n",
       "    <tr>\n",
       "      <th>6</th>\n",
       "      <td>2016-12-31</td>\n",
       "      <td>apoptosis critical role both physiological p...</td>\n",
       "    </tr>\n",
       "    <tr>\n",
       "      <th>7</th>\n",
       "      <td>2017-12-31</td>\n",
       "      <td>emerging crispr system represents promising p...</td>\n",
       "    </tr>\n",
       "    <tr>\n",
       "      <th>8</th>\n",
       "      <td>2018-12-31</td>\n",
       "      <td>selective targeting plus optimal biocompatibil...</td>\n",
       "    </tr>\n",
       "    <tr>\n",
       "      <th>9</th>\n",
       "      <td>2019-12-31</td>\n",
       "      <td>systematic agrochemicals generated numerous d...</td>\n",
       "    </tr>\n",
       "    <tr>\n",
       "      <th>10</th>\n",
       "      <td>2020-12-31</td>\n",
       "      <td>increased demands high materials focus develop...</td>\n",
       "    </tr>\n",
       "  </tbody>\n",
       "</table>\n",
       "</div>"
      ],
      "text/plain": [
       "         Date                                            Content\n",
       "0  2010-12-31   organo montmorillonite cloisite modified with...\n",
       "1  2011-12-31  substances used prepare coatings food pharmace...\n",
       "2  2012-12-31  research policies united states european union...\n",
       "3  2013-12-31   begin this chapter nanosafety animals cell cu...\n",
       "4  2014-12-31  brain nervous system disorders represent large...\n",
       "5  2015-12-31  nanotechnology being presented third industria...\n",
       "6  2016-12-31    apoptosis critical role both physiological p...\n",
       "7  2017-12-31   emerging crispr system represents promising p...\n",
       "8  2018-12-31  selective targeting plus optimal biocompatibil...\n",
       "9  2019-12-31   systematic agrochemicals generated numerous d...\n",
       "10 2020-12-31  increased demands high materials focus develop..."
      ]
     },
     "execution_count": 298,
     "metadata": {},
     "output_type": "execute_result"
    }
   ],
   "source": [
    "# Group by year for Title and Content\n",
    "grouped_title = scopus[['Date','Title']].groupby(pd.Grouper(key='Date', axis = 0,\n",
    "                      freq='Y')).agg(lambda col: ' '.join(col))\n",
    "grouped_title = grouped_title.reset_index()\n",
    "\n",
    "grouped_content = scopus[['Date','Content']].groupby(pd.Grouper(key='Date', axis = 0,\n",
    "                      freq='Y')).agg(lambda col: ' '.join(col))\n",
    "grouped_content = grouped_content.reset_index()\n",
    "\n",
    "# grouped_title\n",
    "grouped_content"
   ]
  },
  {
   "cell_type": "code",
   "execution_count": null,
   "metadata": {},
   "outputs": [],
   "source": []
  },
  {
   "cell_type": "code",
   "execution_count": 299,
   "metadata": {},
   "outputs": [
    {
     "data": {
      "text/html": [
       "<div>\n",
       "<style scoped>\n",
       "    .dataframe tbody tr th:only-of-type {\n",
       "        vertical-align: middle;\n",
       "    }\n",
       "\n",
       "    .dataframe tbody tr th {\n",
       "        vertical-align: top;\n",
       "    }\n",
       "\n",
       "    .dataframe thead th {\n",
       "        text-align: right;\n",
       "    }\n",
       "</style>\n",
       "<table border=\"1\" class=\"dataframe\">\n",
       "  <thead>\n",
       "    <tr style=\"text-align: right;\">\n",
       "      <th></th>\n",
       "      <th>ability</th>\n",
       "      <th>ablation</th>\n",
       "      <th>abrasion</th>\n",
       "      <th>absence</th>\n",
       "      <th>absorbing</th>\n",
       "      <th>absorption</th>\n",
       "      <th>academic</th>\n",
       "      <th>accelerated</th>\n",
       "      <th>accumulation</th>\n",
       "      <th>accurate</th>\n",
       "      <th>...</th>\n",
       "      <th>workplaces</th>\n",
       "      <th>workshop</th>\n",
       "      <th>world</th>\n",
       "      <th>wound</th>\n",
       "      <th>wrapped</th>\n",
       "      <th>yeast</th>\n",
       "      <th>zebrafish</th>\n",
       "      <th>zeta</th>\n",
       "      <th>zinc</th>\n",
       "      <th>zwitterionic</th>\n",
       "    </tr>\n",
       "    <tr>\n",
       "      <th>Date</th>\n",
       "      <th></th>\n",
       "      <th></th>\n",
       "      <th></th>\n",
       "      <th></th>\n",
       "      <th></th>\n",
       "      <th></th>\n",
       "      <th></th>\n",
       "      <th></th>\n",
       "      <th></th>\n",
       "      <th></th>\n",
       "      <th></th>\n",
       "      <th></th>\n",
       "      <th></th>\n",
       "      <th></th>\n",
       "      <th></th>\n",
       "      <th></th>\n",
       "      <th></th>\n",
       "      <th></th>\n",
       "      <th></th>\n",
       "      <th></th>\n",
       "      <th></th>\n",
       "    </tr>\n",
       "  </thead>\n",
       "  <tbody>\n",
       "    <tr>\n",
       "      <th>2010-12-31</th>\n",
       "      <td>0</td>\n",
       "      <td>0</td>\n",
       "      <td>0</td>\n",
       "      <td>0</td>\n",
       "      <td>0</td>\n",
       "      <td>1</td>\n",
       "      <td>0</td>\n",
       "      <td>0</td>\n",
       "      <td>0</td>\n",
       "      <td>0</td>\n",
       "      <td>...</td>\n",
       "      <td>0</td>\n",
       "      <td>0</td>\n",
       "      <td>0</td>\n",
       "      <td>0</td>\n",
       "      <td>0</td>\n",
       "      <td>0</td>\n",
       "      <td>3</td>\n",
       "      <td>0</td>\n",
       "      <td>3</td>\n",
       "      <td>0</td>\n",
       "    </tr>\n",
       "    <tr>\n",
       "      <th>2011-12-31</th>\n",
       "      <td>1</td>\n",
       "      <td>1</td>\n",
       "      <td>0</td>\n",
       "      <td>0</td>\n",
       "      <td>0</td>\n",
       "      <td>0</td>\n",
       "      <td>0</td>\n",
       "      <td>0</td>\n",
       "      <td>1</td>\n",
       "      <td>0</td>\n",
       "      <td>...</td>\n",
       "      <td>0</td>\n",
       "      <td>0</td>\n",
       "      <td>0</td>\n",
       "      <td>1</td>\n",
       "      <td>0</td>\n",
       "      <td>0</td>\n",
       "      <td>1</td>\n",
       "      <td>0</td>\n",
       "      <td>0</td>\n",
       "      <td>0</td>\n",
       "    </tr>\n",
       "    <tr>\n",
       "      <th>2012-12-31</th>\n",
       "      <td>0</td>\n",
       "      <td>0</td>\n",
       "      <td>0</td>\n",
       "      <td>0</td>\n",
       "      <td>0</td>\n",
       "      <td>0</td>\n",
       "      <td>0</td>\n",
       "      <td>0</td>\n",
       "      <td>0</td>\n",
       "      <td>0</td>\n",
       "      <td>...</td>\n",
       "      <td>0</td>\n",
       "      <td>0</td>\n",
       "      <td>0</td>\n",
       "      <td>1</td>\n",
       "      <td>0</td>\n",
       "      <td>0</td>\n",
       "      <td>1</td>\n",
       "      <td>0</td>\n",
       "      <td>1</td>\n",
       "      <td>0</td>\n",
       "    </tr>\n",
       "    <tr>\n",
       "      <th>2013-12-31</th>\n",
       "      <td>0</td>\n",
       "      <td>0</td>\n",
       "      <td>0</td>\n",
       "      <td>1</td>\n",
       "      <td>0</td>\n",
       "      <td>0</td>\n",
       "      <td>0</td>\n",
       "      <td>0</td>\n",
       "      <td>1</td>\n",
       "      <td>0</td>\n",
       "      <td>...</td>\n",
       "      <td>0</td>\n",
       "      <td>0</td>\n",
       "      <td>0</td>\n",
       "      <td>0</td>\n",
       "      <td>0</td>\n",
       "      <td>0</td>\n",
       "      <td>0</td>\n",
       "      <td>0</td>\n",
       "      <td>0</td>\n",
       "      <td>0</td>\n",
       "    </tr>\n",
       "    <tr>\n",
       "      <th>2014-12-31</th>\n",
       "      <td>0</td>\n",
       "      <td>2</td>\n",
       "      <td>2</td>\n",
       "      <td>0</td>\n",
       "      <td>0</td>\n",
       "      <td>1</td>\n",
       "      <td>0</td>\n",
       "      <td>0</td>\n",
       "      <td>4</td>\n",
       "      <td>2</td>\n",
       "      <td>...</td>\n",
       "      <td>0</td>\n",
       "      <td>0</td>\n",
       "      <td>0</td>\n",
       "      <td>0</td>\n",
       "      <td>1</td>\n",
       "      <td>1</td>\n",
       "      <td>0</td>\n",
       "      <td>0</td>\n",
       "      <td>4</td>\n",
       "      <td>1</td>\n",
       "    </tr>\n",
       "    <tr>\n",
       "      <th>2015-12-31</th>\n",
       "      <td>2</td>\n",
       "      <td>1</td>\n",
       "      <td>2</td>\n",
       "      <td>2</td>\n",
       "      <td>0</td>\n",
       "      <td>3</td>\n",
       "      <td>1</td>\n",
       "      <td>3</td>\n",
       "      <td>4</td>\n",
       "      <td>1</td>\n",
       "      <td>...</td>\n",
       "      <td>2</td>\n",
       "      <td>3</td>\n",
       "      <td>2</td>\n",
       "      <td>2</td>\n",
       "      <td>0</td>\n",
       "      <td>0</td>\n",
       "      <td>2</td>\n",
       "      <td>1</td>\n",
       "      <td>4</td>\n",
       "      <td>0</td>\n",
       "    </tr>\n",
       "    <tr>\n",
       "      <th>2016-12-31</th>\n",
       "      <td>0</td>\n",
       "      <td>3</td>\n",
       "      <td>2</td>\n",
       "      <td>1</td>\n",
       "      <td>2</td>\n",
       "      <td>1</td>\n",
       "      <td>0</td>\n",
       "      <td>1</td>\n",
       "      <td>2</td>\n",
       "      <td>0</td>\n",
       "      <td>...</td>\n",
       "      <td>1</td>\n",
       "      <td>0</td>\n",
       "      <td>0</td>\n",
       "      <td>3</td>\n",
       "      <td>1</td>\n",
       "      <td>2</td>\n",
       "      <td>2</td>\n",
       "      <td>1</td>\n",
       "      <td>3</td>\n",
       "      <td>3</td>\n",
       "    </tr>\n",
       "    <tr>\n",
       "      <th>2017-12-31</th>\n",
       "      <td>0</td>\n",
       "      <td>3</td>\n",
       "      <td>1</td>\n",
       "      <td>0</td>\n",
       "      <td>0</td>\n",
       "      <td>3</td>\n",
       "      <td>0</td>\n",
       "      <td>1</td>\n",
       "      <td>2</td>\n",
       "      <td>1</td>\n",
       "      <td>...</td>\n",
       "      <td>2</td>\n",
       "      <td>0</td>\n",
       "      <td>3</td>\n",
       "      <td>2</td>\n",
       "      <td>0</td>\n",
       "      <td>1</td>\n",
       "      <td>1</td>\n",
       "      <td>1</td>\n",
       "      <td>0</td>\n",
       "      <td>0</td>\n",
       "    </tr>\n",
       "    <tr>\n",
       "      <th>2018-12-31</th>\n",
       "      <td>1</td>\n",
       "      <td>1</td>\n",
       "      <td>0</td>\n",
       "      <td>0</td>\n",
       "      <td>1</td>\n",
       "      <td>0</td>\n",
       "      <td>1</td>\n",
       "      <td>1</td>\n",
       "      <td>0</td>\n",
       "      <td>0</td>\n",
       "      <td>...</td>\n",
       "      <td>0</td>\n",
       "      <td>1</td>\n",
       "      <td>0</td>\n",
       "      <td>5</td>\n",
       "      <td>0</td>\n",
       "      <td>0</td>\n",
       "      <td>4</td>\n",
       "      <td>0</td>\n",
       "      <td>2</td>\n",
       "      <td>0</td>\n",
       "    </tr>\n",
       "    <tr>\n",
       "      <th>2019-12-31</th>\n",
       "      <td>1</td>\n",
       "      <td>2</td>\n",
       "      <td>0</td>\n",
       "      <td>1</td>\n",
       "      <td>1</td>\n",
       "      <td>2</td>\n",
       "      <td>0</td>\n",
       "      <td>0</td>\n",
       "      <td>4</td>\n",
       "      <td>1</td>\n",
       "      <td>...</td>\n",
       "      <td>0</td>\n",
       "      <td>3</td>\n",
       "      <td>1</td>\n",
       "      <td>3</td>\n",
       "      <td>1</td>\n",
       "      <td>0</td>\n",
       "      <td>2</td>\n",
       "      <td>0</td>\n",
       "      <td>5</td>\n",
       "      <td>0</td>\n",
       "    </tr>\n",
       "    <tr>\n",
       "      <th>2020-12-31</th>\n",
       "      <td>1</td>\n",
       "      <td>2</td>\n",
       "      <td>0</td>\n",
       "      <td>1</td>\n",
       "      <td>1</td>\n",
       "      <td>5</td>\n",
       "      <td>1</td>\n",
       "      <td>0</td>\n",
       "      <td>3</td>\n",
       "      <td>0</td>\n",
       "      <td>...</td>\n",
       "      <td>0</td>\n",
       "      <td>1</td>\n",
       "      <td>1</td>\n",
       "      <td>2</td>\n",
       "      <td>0</td>\n",
       "      <td>2</td>\n",
       "      <td>4</td>\n",
       "      <td>0</td>\n",
       "      <td>3</td>\n",
       "      <td>1</td>\n",
       "    </tr>\n",
       "  </tbody>\n",
       "</table>\n",
       "<p>11 rows × 2141 columns</p>\n",
       "</div>"
      ],
      "text/plain": [
       "            ability  ablation  abrasion  absence  absorbing  absorption  \\\n",
       "Date                                                                      \n",
       "2010-12-31        0         0         0        0          0           1   \n",
       "2011-12-31        1         1         0        0          0           0   \n",
       "2012-12-31        0         0         0        0          0           0   \n",
       "2013-12-31        0         0         0        1          0           0   \n",
       "2014-12-31        0         2         2        0          0           1   \n",
       "2015-12-31        2         1         2        2          0           3   \n",
       "2016-12-31        0         3         2        1          2           1   \n",
       "2017-12-31        0         3         1        0          0           3   \n",
       "2018-12-31        1         1         0        0          1           0   \n",
       "2019-12-31        1         2         0        1          1           2   \n",
       "2020-12-31        1         2         0        1          1           5   \n",
       "\n",
       "            academic  accelerated  accumulation  accurate  ...  workplaces  \\\n",
       "Date                                                       ...               \n",
       "2010-12-31         0            0             0         0  ...           0   \n",
       "2011-12-31         0            0             1         0  ...           0   \n",
       "2012-12-31         0            0             0         0  ...           0   \n",
       "2013-12-31         0            0             1         0  ...           0   \n",
       "2014-12-31         0            0             4         2  ...           0   \n",
       "2015-12-31         1            3             4         1  ...           2   \n",
       "2016-12-31         0            1             2         0  ...           1   \n",
       "2017-12-31         0            1             2         1  ...           2   \n",
       "2018-12-31         1            1             0         0  ...           0   \n",
       "2019-12-31         0            0             4         1  ...           0   \n",
       "2020-12-31         1            0             3         0  ...           0   \n",
       "\n",
       "            workshop  world  wound  wrapped  yeast  zebrafish  zeta  zinc  \\\n",
       "Date                                                                        \n",
       "2010-12-31         0      0      0        0      0          3     0     3   \n",
       "2011-12-31         0      0      1        0      0          1     0     0   \n",
       "2012-12-31         0      0      1        0      0          1     0     1   \n",
       "2013-12-31         0      0      0        0      0          0     0     0   \n",
       "2014-12-31         0      0      0        1      1          0     0     4   \n",
       "2015-12-31         3      2      2        0      0          2     1     4   \n",
       "2016-12-31         0      0      3        1      2          2     1     3   \n",
       "2017-12-31         0      3      2        0      1          1     1     0   \n",
       "2018-12-31         1      0      5        0      0          4     0     2   \n",
       "2019-12-31         3      1      3        1      0          2     0     5   \n",
       "2020-12-31         1      1      2        0      2          4     0     3   \n",
       "\n",
       "            zwitterionic  \n",
       "Date                      \n",
       "2010-12-31             0  \n",
       "2011-12-31             0  \n",
       "2012-12-31             0  \n",
       "2013-12-31             0  \n",
       "2014-12-31             1  \n",
       "2015-12-31             0  \n",
       "2016-12-31             3  \n",
       "2017-12-31             0  \n",
       "2018-12-31             0  \n",
       "2019-12-31             0  \n",
       "2020-12-31             1  \n",
       "\n",
       "[11 rows x 2141 columns]"
      ]
     },
     "execution_count": 299,
     "metadata": {},
     "output_type": "execute_result"
    }
   ],
   "source": [
    "# create a list of years\n",
    "grouped_title = grouped_title.reset_index()\n",
    "grouped_title.Title = grouped_title.Title.astype(str)\n",
    "years = grouped_title.Date.unique()\n",
    "\n",
    "years_df = pd.DataFrame(years)\n",
    "years_df.columns = ['Date']\n",
    "years_df\n",
    "\n",
    "corpus = [''.join(str(grouped_title[(grouped_title.Date == year)].Title.tolist())) for year in years]\n",
    "cv=CountVectorizer(ngram_range=(1, 1), stop_words = sw.union(sw_addons), min_df = 3)\n",
    "X = cv.fit_transform(corpus)\n",
    "X = X.toarray()\n",
    "\n",
    "bow=pd.DataFrame(X, columns = cv.get_feature_names())\n",
    "main_df = pd.merge(years_df, bow, right_index=True, left_index=True)\n",
    "main_df = main_df.set_index('Date')\n",
    "main_df\n",
    "\n"
   ]
  },
  {
   "cell_type": "code",
   "execution_count": null,
   "metadata": {},
   "outputs": [],
   "source": []
  },
  {
   "cell_type": "code",
   "execution_count": 306,
   "metadata": {},
   "outputs": [
    {
     "data": {
      "text/html": [
       "<div>\n",
       "<style scoped>\n",
       "    .dataframe tbody tr th:only-of-type {\n",
       "        vertical-align: middle;\n",
       "    }\n",
       "\n",
       "    .dataframe tbody tr th {\n",
       "        vertical-align: top;\n",
       "    }\n",
       "\n",
       "    .dataframe thead th {\n",
       "        text-align: right;\n",
       "    }\n",
       "</style>\n",
       "<table border=\"1\" class=\"dataframe\">\n",
       "  <thead>\n",
       "    <tr style=\"text-align: right;\">\n",
       "      <th></th>\n",
       "      <th>2017-12-31 00:00:00</th>\n",
       "    </tr>\n",
       "  </thead>\n",
       "  <tbody>\n",
       "    <tr>\n",
       "      <th>nanoparticles</th>\n",
       "      <td>142</td>\n",
       "    </tr>\n",
       "    <tr>\n",
       "      <th>nanomaterials</th>\n",
       "      <td>75</td>\n",
       "    </tr>\n",
       "    <tr>\n",
       "      <th>assessment</th>\n",
       "      <td>40</td>\n",
       "    </tr>\n",
       "    <tr>\n",
       "      <th>cells</th>\n",
       "      <td>39</td>\n",
       "    </tr>\n",
       "    <tr>\n",
       "      <th>therapy</th>\n",
       "      <td>39</td>\n",
       "    </tr>\n",
       "    <tr>\n",
       "      <th>tumor</th>\n",
       "      <td>31</td>\n",
       "    </tr>\n",
       "    <tr>\n",
       "      <th>cancer</th>\n",
       "      <td>31</td>\n",
       "    </tr>\n",
       "    <tr>\n",
       "      <th>gold</th>\n",
       "      <td>31</td>\n",
       "    </tr>\n",
       "    <tr>\n",
       "      <th>oxide</th>\n",
       "      <td>31</td>\n",
       "    </tr>\n",
       "    <tr>\n",
       "      <th>toxicity</th>\n",
       "      <td>31</td>\n",
       "    </tr>\n",
       "  </tbody>\n",
       "</table>\n",
       "</div>"
      ],
      "text/plain": [
       "               2017-12-31\n",
       "nanoparticles         142\n",
       "nanomaterials          75\n",
       "assessment             40\n",
       "cells                  39\n",
       "therapy                39\n",
       "tumor                  31\n",
       "cancer                 31\n",
       "gold                   31\n",
       "oxide                  31\n",
       "toxicity               31"
      ]
     },
     "execution_count": 306,
     "metadata": {},
     "output_type": "execute_result"
    }
   ],
   "source": [
    "text=main_df.iloc[7].sort_values(ascending=False)\n",
    "text_top = text[:10]\n",
    "title_df = pd.DataFrame.from_dict({main_df.index[7]: text_top})\n",
    "\n",
    "title_df"
   ]
  },
  {
   "cell_type": "code",
   "execution_count": 301,
   "metadata": {},
   "outputs": [
    {
     "data": {
      "text/html": [
       "<div>\n",
       "<style scoped>\n",
       "    .dataframe tbody tr th:only-of-type {\n",
       "        vertical-align: middle;\n",
       "    }\n",
       "\n",
       "    .dataframe tbody tr th {\n",
       "        vertical-align: top;\n",
       "    }\n",
       "\n",
       "    .dataframe thead th {\n",
       "        text-align: right;\n",
       "    }\n",
       "</style>\n",
       "<table border=\"1\" class=\"dataframe\">\n",
       "  <thead>\n",
       "    <tr style=\"text-align: right;\">\n",
       "      <th></th>\n",
       "      <th>assessment</th>\n",
       "      <th>cancer</th>\n",
       "      <th>carbon</th>\n",
       "      <th>cell</th>\n",
       "      <th>cells</th>\n",
       "      <th>delivery</th>\n",
       "      <th>drug</th>\n",
       "      <th>effects</th>\n",
       "      <th>exposure</th>\n",
       "      <th>gold</th>\n",
       "      <th>...</th>\n",
       "      <th>nanoparticles</th>\n",
       "      <th>nanotechnology</th>\n",
       "      <th>nanotubes</th>\n",
       "      <th>oxide</th>\n",
       "      <th>poly</th>\n",
       "      <th>safety</th>\n",
       "      <th>surface</th>\n",
       "      <th>therapy</th>\n",
       "      <th>toxicity</th>\n",
       "      <th>tumor</th>\n",
       "    </tr>\n",
       "  </thead>\n",
       "  <tbody>\n",
       "    <tr>\n",
       "      <th>2010-12-31</th>\n",
       "      <td>NaN</td>\n",
       "      <td>NaN</td>\n",
       "      <td>NaN</td>\n",
       "      <td>NaN</td>\n",
       "      <td>5.0</td>\n",
       "      <td>8.0</td>\n",
       "      <td>NaN</td>\n",
       "      <td>NaN</td>\n",
       "      <td>NaN</td>\n",
       "      <td>5.0</td>\n",
       "      <td>...</td>\n",
       "      <td>19.0</td>\n",
       "      <td>5.0</td>\n",
       "      <td>NaN</td>\n",
       "      <td>7.0</td>\n",
       "      <td>NaN</td>\n",
       "      <td>NaN</td>\n",
       "      <td>NaN</td>\n",
       "      <td>NaN</td>\n",
       "      <td>NaN</td>\n",
       "      <td>5.0</td>\n",
       "    </tr>\n",
       "    <tr>\n",
       "      <th>2011-12-31</th>\n",
       "      <td>NaN</td>\n",
       "      <td>NaN</td>\n",
       "      <td>12.0</td>\n",
       "      <td>NaN</td>\n",
       "      <td>7.0</td>\n",
       "      <td>10.0</td>\n",
       "      <td>8.0</td>\n",
       "      <td>NaN</td>\n",
       "      <td>NaN</td>\n",
       "      <td>11.0</td>\n",
       "      <td>...</td>\n",
       "      <td>40.0</td>\n",
       "      <td>NaN</td>\n",
       "      <td>11.0</td>\n",
       "      <td>NaN</td>\n",
       "      <td>9.0</td>\n",
       "      <td>NaN</td>\n",
       "      <td>8.0</td>\n",
       "      <td>NaN</td>\n",
       "      <td>NaN</td>\n",
       "      <td>NaN</td>\n",
       "    </tr>\n",
       "    <tr>\n",
       "      <th>2012-12-31</th>\n",
       "      <td>NaN</td>\n",
       "      <td>12.0</td>\n",
       "      <td>11.0</td>\n",
       "      <td>10.0</td>\n",
       "      <td>18.0</td>\n",
       "      <td>NaN</td>\n",
       "      <td>NaN</td>\n",
       "      <td>17.0</td>\n",
       "      <td>NaN</td>\n",
       "      <td>17.0</td>\n",
       "      <td>...</td>\n",
       "      <td>52.0</td>\n",
       "      <td>NaN</td>\n",
       "      <td>NaN</td>\n",
       "      <td>NaN</td>\n",
       "      <td>NaN</td>\n",
       "      <td>NaN</td>\n",
       "      <td>NaN</td>\n",
       "      <td>NaN</td>\n",
       "      <td>NaN</td>\n",
       "      <td>NaN</td>\n",
       "    </tr>\n",
       "    <tr>\n",
       "      <th>2013-12-31</th>\n",
       "      <td>NaN</td>\n",
       "      <td>18.0</td>\n",
       "      <td>32.0</td>\n",
       "      <td>20.0</td>\n",
       "      <td>24.0</td>\n",
       "      <td>21.0</td>\n",
       "      <td>NaN</td>\n",
       "      <td>NaN</td>\n",
       "      <td>NaN</td>\n",
       "      <td>NaN</td>\n",
       "      <td>...</td>\n",
       "      <td>60.0</td>\n",
       "      <td>NaN</td>\n",
       "      <td>22.0</td>\n",
       "      <td>NaN</td>\n",
       "      <td>NaN</td>\n",
       "      <td>17.0</td>\n",
       "      <td>NaN</td>\n",
       "      <td>NaN</td>\n",
       "      <td>17.0</td>\n",
       "      <td>NaN</td>\n",
       "    </tr>\n",
       "    <tr>\n",
       "      <th>2014-12-31</th>\n",
       "      <td>NaN</td>\n",
       "      <td>28.0</td>\n",
       "      <td>28.0</td>\n",
       "      <td>NaN</td>\n",
       "      <td>21.0</td>\n",
       "      <td>25.0</td>\n",
       "      <td>22.0</td>\n",
       "      <td>NaN</td>\n",
       "      <td>23.0</td>\n",
       "      <td>26.0</td>\n",
       "      <td>...</td>\n",
       "      <td>85.0</td>\n",
       "      <td>NaN</td>\n",
       "      <td>NaN</td>\n",
       "      <td>24.0</td>\n",
       "      <td>NaN</td>\n",
       "      <td>NaN</td>\n",
       "      <td>NaN</td>\n",
       "      <td>NaN</td>\n",
       "      <td>NaN</td>\n",
       "      <td>NaN</td>\n",
       "    </tr>\n",
       "    <tr>\n",
       "      <th>2015-12-31</th>\n",
       "      <td>NaN</td>\n",
       "      <td>37.0</td>\n",
       "      <td>46.0</td>\n",
       "      <td>NaN</td>\n",
       "      <td>35.0</td>\n",
       "      <td>26.0</td>\n",
       "      <td>28.0</td>\n",
       "      <td>26.0</td>\n",
       "      <td>NaN</td>\n",
       "      <td>25.0</td>\n",
       "      <td>...</td>\n",
       "      <td>115.0</td>\n",
       "      <td>NaN</td>\n",
       "      <td>NaN</td>\n",
       "      <td>NaN</td>\n",
       "      <td>NaN</td>\n",
       "      <td>NaN</td>\n",
       "      <td>NaN</td>\n",
       "      <td>NaN</td>\n",
       "      <td>28.0</td>\n",
       "      <td>NaN</td>\n",
       "    </tr>\n",
       "    <tr>\n",
       "      <th>2016-12-31</th>\n",
       "      <td>NaN</td>\n",
       "      <td>44.0</td>\n",
       "      <td>43.0</td>\n",
       "      <td>NaN</td>\n",
       "      <td>31.0</td>\n",
       "      <td>30.0</td>\n",
       "      <td>30.0</td>\n",
       "      <td>NaN</td>\n",
       "      <td>NaN</td>\n",
       "      <td>NaN</td>\n",
       "      <td>...</td>\n",
       "      <td>115.0</td>\n",
       "      <td>NaN</td>\n",
       "      <td>NaN</td>\n",
       "      <td>29.0</td>\n",
       "      <td>NaN</td>\n",
       "      <td>NaN</td>\n",
       "      <td>NaN</td>\n",
       "      <td>33.0</td>\n",
       "      <td>NaN</td>\n",
       "      <td>NaN</td>\n",
       "    </tr>\n",
       "    <tr>\n",
       "      <th>2017-12-31</th>\n",
       "      <td>40.0</td>\n",
       "      <td>31.0</td>\n",
       "      <td>NaN</td>\n",
       "      <td>NaN</td>\n",
       "      <td>39.0</td>\n",
       "      <td>NaN</td>\n",
       "      <td>NaN</td>\n",
       "      <td>NaN</td>\n",
       "      <td>NaN</td>\n",
       "      <td>31.0</td>\n",
       "      <td>...</td>\n",
       "      <td>142.0</td>\n",
       "      <td>NaN</td>\n",
       "      <td>NaN</td>\n",
       "      <td>31.0</td>\n",
       "      <td>NaN</td>\n",
       "      <td>NaN</td>\n",
       "      <td>NaN</td>\n",
       "      <td>39.0</td>\n",
       "      <td>31.0</td>\n",
       "      <td>31.0</td>\n",
       "    </tr>\n",
       "    <tr>\n",
       "      <th>2018-12-31</th>\n",
       "      <td>34.0</td>\n",
       "      <td>46.0</td>\n",
       "      <td>NaN</td>\n",
       "      <td>29.0</td>\n",
       "      <td>NaN</td>\n",
       "      <td>NaN</td>\n",
       "      <td>NaN</td>\n",
       "      <td>32.0</td>\n",
       "      <td>NaN</td>\n",
       "      <td>NaN</td>\n",
       "      <td>...</td>\n",
       "      <td>128.0</td>\n",
       "      <td>NaN</td>\n",
       "      <td>NaN</td>\n",
       "      <td>39.0</td>\n",
       "      <td>NaN</td>\n",
       "      <td>NaN</td>\n",
       "      <td>NaN</td>\n",
       "      <td>37.0</td>\n",
       "      <td>NaN</td>\n",
       "      <td>42.0</td>\n",
       "    </tr>\n",
       "    <tr>\n",
       "      <th>2019-12-31</th>\n",
       "      <td>NaN</td>\n",
       "      <td>61.0</td>\n",
       "      <td>NaN</td>\n",
       "      <td>32.0</td>\n",
       "      <td>35.0</td>\n",
       "      <td>32.0</td>\n",
       "      <td>32.0</td>\n",
       "      <td>NaN</td>\n",
       "      <td>NaN</td>\n",
       "      <td>NaN</td>\n",
       "      <td>...</td>\n",
       "      <td>125.0</td>\n",
       "      <td>NaN</td>\n",
       "      <td>NaN</td>\n",
       "      <td>NaN</td>\n",
       "      <td>NaN</td>\n",
       "      <td>NaN</td>\n",
       "      <td>NaN</td>\n",
       "      <td>48.0</td>\n",
       "      <td>NaN</td>\n",
       "      <td>49.0</td>\n",
       "    </tr>\n",
       "    <tr>\n",
       "      <th>2020-12-31</th>\n",
       "      <td>NaN</td>\n",
       "      <td>50.0</td>\n",
       "      <td>NaN</td>\n",
       "      <td>34.0</td>\n",
       "      <td>42.0</td>\n",
       "      <td>NaN</td>\n",
       "      <td>NaN</td>\n",
       "      <td>NaN</td>\n",
       "      <td>NaN</td>\n",
       "      <td>NaN</td>\n",
       "      <td>...</td>\n",
       "      <td>111.0</td>\n",
       "      <td>NaN</td>\n",
       "      <td>NaN</td>\n",
       "      <td>34.0</td>\n",
       "      <td>NaN</td>\n",
       "      <td>NaN</td>\n",
       "      <td>NaN</td>\n",
       "      <td>34.0</td>\n",
       "      <td>NaN</td>\n",
       "      <td>35.0</td>\n",
       "    </tr>\n",
       "  </tbody>\n",
       "</table>\n",
       "<p>11 rows × 28 columns</p>\n",
       "</div>"
      ],
      "text/plain": [
       "            assessment  cancer  carbon  cell  cells  delivery  drug  effects  \\\n",
       "2010-12-31         NaN     NaN     NaN   NaN    5.0       8.0   NaN      NaN   \n",
       "2011-12-31         NaN     NaN    12.0   NaN    7.0      10.0   8.0      NaN   \n",
       "2012-12-31         NaN    12.0    11.0  10.0   18.0       NaN   NaN     17.0   \n",
       "2013-12-31         NaN    18.0    32.0  20.0   24.0      21.0   NaN      NaN   \n",
       "2014-12-31         NaN    28.0    28.0   NaN   21.0      25.0  22.0      NaN   \n",
       "2015-12-31         NaN    37.0    46.0   NaN   35.0      26.0  28.0     26.0   \n",
       "2016-12-31         NaN    44.0    43.0   NaN   31.0      30.0  30.0      NaN   \n",
       "2017-12-31        40.0    31.0     NaN   NaN   39.0       NaN   NaN      NaN   \n",
       "2018-12-31        34.0    46.0     NaN  29.0    NaN       NaN   NaN     32.0   \n",
       "2019-12-31         NaN    61.0     NaN  32.0   35.0      32.0  32.0      NaN   \n",
       "2020-12-31         NaN    50.0     NaN  34.0   42.0       NaN   NaN      NaN   \n",
       "\n",
       "            exposure  gold  ...  nanoparticles  nanotechnology  nanotubes  \\\n",
       "2010-12-31       NaN   5.0  ...           19.0             5.0        NaN   \n",
       "2011-12-31       NaN  11.0  ...           40.0             NaN       11.0   \n",
       "2012-12-31       NaN  17.0  ...           52.0             NaN        NaN   \n",
       "2013-12-31       NaN   NaN  ...           60.0             NaN       22.0   \n",
       "2014-12-31      23.0  26.0  ...           85.0             NaN        NaN   \n",
       "2015-12-31       NaN  25.0  ...          115.0             NaN        NaN   \n",
       "2016-12-31       NaN   NaN  ...          115.0             NaN        NaN   \n",
       "2017-12-31       NaN  31.0  ...          142.0             NaN        NaN   \n",
       "2018-12-31       NaN   NaN  ...          128.0             NaN        NaN   \n",
       "2019-12-31       NaN   NaN  ...          125.0             NaN        NaN   \n",
       "2020-12-31       NaN   NaN  ...          111.0             NaN        NaN   \n",
       "\n",
       "            oxide  poly  safety  surface  therapy  toxicity  tumor  \n",
       "2010-12-31    7.0   NaN     NaN      NaN      NaN       NaN    5.0  \n",
       "2011-12-31    NaN   9.0     NaN      8.0      NaN       NaN    NaN  \n",
       "2012-12-31    NaN   NaN     NaN      NaN      NaN       NaN    NaN  \n",
       "2013-12-31    NaN   NaN    17.0      NaN      NaN      17.0    NaN  \n",
       "2014-12-31   24.0   NaN     NaN      NaN      NaN       NaN    NaN  \n",
       "2015-12-31    NaN   NaN     NaN      NaN      NaN      28.0    NaN  \n",
       "2016-12-31   29.0   NaN     NaN      NaN     33.0       NaN    NaN  \n",
       "2017-12-31   31.0   NaN     NaN      NaN     39.0      31.0   31.0  \n",
       "2018-12-31   39.0   NaN     NaN      NaN     37.0       NaN   42.0  \n",
       "2019-12-31    NaN   NaN     NaN      NaN     48.0       NaN   49.0  \n",
       "2020-12-31   34.0   NaN     NaN      NaN     34.0       NaN   35.0  \n",
       "\n",
       "[11 rows x 28 columns]"
      ]
     },
     "execution_count": 301,
     "metadata": {},
     "output_type": "execute_result"
    }
   ],
   "source": [
    "big_dict = {}\n",
    "for n in range(len(main_df)): \n",
    "    text= main_df.iloc[n].sort_values(ascending=False)\n",
    "    text_top = text[:10]\n",
    "    text_top_dict=text_top.sort_values(ascending=False).to_dict()\n",
    "    big_dict.update({main_df.index[n]: text_top_dict})\n",
    "    \n",
    "wordcloud = WordCloud(min_word_length =3, background_color='white')\n",
    "\n",
    "#freqwordcloud.generate_from_frequencies(text2_dict)\n",
    "\n",
    "big_dict_df = pd.DataFrame(big_dict)\n",
    "big_dict_df = big_dict_df.T\n",
    "big_dict_df"
   ]
  },
  {
   "cell_type": "code",
   "execution_count": 214,
   "metadata": {
    "collapsed": true,
    "jupyter": {
     "outputs_hidden": true
    }
   },
   "outputs": [
    {
     "data": {
      "text/plain": [
       "\u001b[1;31mInit signature:\u001b[0m\n",
       "\u001b[0mWordCloud\u001b[0m\u001b[1;33m(\u001b[0m\u001b[1;33m\n",
       "\u001b[0m    \u001b[0mfont_path\u001b[0m\u001b[1;33m=\u001b[0m\u001b[1;32mNone\u001b[0m\u001b[1;33m,\u001b[0m\u001b[1;33m\n",
       "\u001b[0m    \u001b[0mwidth\u001b[0m\u001b[1;33m=\u001b[0m\u001b[1;36m400\u001b[0m\u001b[1;33m,\u001b[0m\u001b[1;33m\n",
       "\u001b[0m    \u001b[0mheight\u001b[0m\u001b[1;33m=\u001b[0m\u001b[1;36m200\u001b[0m\u001b[1;33m,\u001b[0m\u001b[1;33m\n",
       "\u001b[0m    \u001b[0mmargin\u001b[0m\u001b[1;33m=\u001b[0m\u001b[1;36m2\u001b[0m\u001b[1;33m,\u001b[0m\u001b[1;33m\n",
       "\u001b[0m    \u001b[0mranks_only\u001b[0m\u001b[1;33m=\u001b[0m\u001b[1;32mNone\u001b[0m\u001b[1;33m,\u001b[0m\u001b[1;33m\n",
       "\u001b[0m    \u001b[0mprefer_horizontal\u001b[0m\u001b[1;33m=\u001b[0m\u001b[1;36m0.9\u001b[0m\u001b[1;33m,\u001b[0m\u001b[1;33m\n",
       "\u001b[0m    \u001b[0mmask\u001b[0m\u001b[1;33m=\u001b[0m\u001b[1;32mNone\u001b[0m\u001b[1;33m,\u001b[0m\u001b[1;33m\n",
       "\u001b[0m    \u001b[0mscale\u001b[0m\u001b[1;33m=\u001b[0m\u001b[1;36m1\u001b[0m\u001b[1;33m,\u001b[0m\u001b[1;33m\n",
       "\u001b[0m    \u001b[0mcolor_func\u001b[0m\u001b[1;33m=\u001b[0m\u001b[1;32mNone\u001b[0m\u001b[1;33m,\u001b[0m\u001b[1;33m\n",
       "\u001b[0m    \u001b[0mmax_words\u001b[0m\u001b[1;33m=\u001b[0m\u001b[1;36m200\u001b[0m\u001b[1;33m,\u001b[0m\u001b[1;33m\n",
       "\u001b[0m    \u001b[0mmin_font_size\u001b[0m\u001b[1;33m=\u001b[0m\u001b[1;36m4\u001b[0m\u001b[1;33m,\u001b[0m\u001b[1;33m\n",
       "\u001b[0m    \u001b[0mstopwords\u001b[0m\u001b[1;33m=\u001b[0m\u001b[1;32mNone\u001b[0m\u001b[1;33m,\u001b[0m\u001b[1;33m\n",
       "\u001b[0m    \u001b[0mrandom_state\u001b[0m\u001b[1;33m=\u001b[0m\u001b[1;32mNone\u001b[0m\u001b[1;33m,\u001b[0m\u001b[1;33m\n",
       "\u001b[0m    \u001b[0mbackground_color\u001b[0m\u001b[1;33m=\u001b[0m\u001b[1;34m'black'\u001b[0m\u001b[1;33m,\u001b[0m\u001b[1;33m\n",
       "\u001b[0m    \u001b[0mmax_font_size\u001b[0m\u001b[1;33m=\u001b[0m\u001b[1;32mNone\u001b[0m\u001b[1;33m,\u001b[0m\u001b[1;33m\n",
       "\u001b[0m    \u001b[0mfont_step\u001b[0m\u001b[1;33m=\u001b[0m\u001b[1;36m1\u001b[0m\u001b[1;33m,\u001b[0m\u001b[1;33m\n",
       "\u001b[0m    \u001b[0mmode\u001b[0m\u001b[1;33m=\u001b[0m\u001b[1;34m'RGB'\u001b[0m\u001b[1;33m,\u001b[0m\u001b[1;33m\n",
       "\u001b[0m    \u001b[0mrelative_scaling\u001b[0m\u001b[1;33m=\u001b[0m\u001b[1;34m'auto'\u001b[0m\u001b[1;33m,\u001b[0m\u001b[1;33m\n",
       "\u001b[0m    \u001b[0mregexp\u001b[0m\u001b[1;33m=\u001b[0m\u001b[1;32mNone\u001b[0m\u001b[1;33m,\u001b[0m\u001b[1;33m\n",
       "\u001b[0m    \u001b[0mcollocations\u001b[0m\u001b[1;33m=\u001b[0m\u001b[1;32mTrue\u001b[0m\u001b[1;33m,\u001b[0m\u001b[1;33m\n",
       "\u001b[0m    \u001b[0mcolormap\u001b[0m\u001b[1;33m=\u001b[0m\u001b[1;32mNone\u001b[0m\u001b[1;33m,\u001b[0m\u001b[1;33m\n",
       "\u001b[0m    \u001b[0mnormalize_plurals\u001b[0m\u001b[1;33m=\u001b[0m\u001b[1;32mTrue\u001b[0m\u001b[1;33m,\u001b[0m\u001b[1;33m\n",
       "\u001b[0m    \u001b[0mcontour_width\u001b[0m\u001b[1;33m=\u001b[0m\u001b[1;36m0\u001b[0m\u001b[1;33m,\u001b[0m\u001b[1;33m\n",
       "\u001b[0m    \u001b[0mcontour_color\u001b[0m\u001b[1;33m=\u001b[0m\u001b[1;34m'black'\u001b[0m\u001b[1;33m,\u001b[0m\u001b[1;33m\n",
       "\u001b[0m    \u001b[0mrepeat\u001b[0m\u001b[1;33m=\u001b[0m\u001b[1;32mFalse\u001b[0m\u001b[1;33m,\u001b[0m\u001b[1;33m\n",
       "\u001b[0m    \u001b[0minclude_numbers\u001b[0m\u001b[1;33m=\u001b[0m\u001b[1;32mFalse\u001b[0m\u001b[1;33m,\u001b[0m\u001b[1;33m\n",
       "\u001b[0m    \u001b[0mmin_word_length\u001b[0m\u001b[1;33m=\u001b[0m\u001b[1;36m0\u001b[0m\u001b[1;33m,\u001b[0m\u001b[1;33m\n",
       "\u001b[0m    \u001b[0mcollocation_threshold\u001b[0m\u001b[1;33m=\u001b[0m\u001b[1;36m30\u001b[0m\u001b[1;33m,\u001b[0m\u001b[1;33m\n",
       "\u001b[0m\u001b[1;33m)\u001b[0m\u001b[1;33m\u001b[0m\u001b[1;33m\u001b[0m\u001b[0m\n",
       "\u001b[1;31mDocstring:\u001b[0m     \n",
       "Word cloud object for generating and drawing.\n",
       "\n",
       "Parameters\n",
       "----------\n",
       "font_path : string\n",
       "    Font path to the font that will be used (OTF or TTF).\n",
       "    Defaults to DroidSansMono path on a Linux machine. If you are on\n",
       "    another OS or don't have this font, you need to adjust this path.\n",
       "\n",
       "width : int (default=400)\n",
       "    Width of the canvas.\n",
       "\n",
       "height : int (default=200)\n",
       "    Height of the canvas.\n",
       "\n",
       "prefer_horizontal : float (default=0.90)\n",
       "    The ratio of times to try horizontal fitting as opposed to vertical.\n",
       "    If prefer_horizontal < 1, the algorithm will try rotating the word\n",
       "    if it doesn't fit. (There is currently no built-in way to get only\n",
       "    vertical words.)\n",
       "\n",
       "mask : nd-array or None (default=None)\n",
       "    If not None, gives a binary mask on where to draw words. If mask is not\n",
       "    None, width and height will be ignored and the shape of mask will be\n",
       "    used instead. All white (#FF or #FFFFFF) entries will be considerd\n",
       "    \"masked out\" while other entries will be free to draw on. [This\n",
       "    changed in the most recent version!]\n",
       "\n",
       "contour_width: float (default=0)\n",
       "    If mask is not None and contour_width > 0, draw the mask contour.\n",
       "\n",
       "contour_color: color value (default=\"black\")\n",
       "    Mask contour color.\n",
       "\n",
       "scale : float (default=1)\n",
       "    Scaling between computation and drawing. For large word-cloud images,\n",
       "    using scale instead of larger canvas size is significantly faster, but\n",
       "    might lead to a coarser fit for the words.\n",
       "\n",
       "min_font_size : int (default=4)\n",
       "    Smallest font size to use. Will stop when there is no more room in this\n",
       "    size.\n",
       "\n",
       "font_step : int (default=1)\n",
       "    Step size for the font. font_step > 1 might speed up computation but\n",
       "    give a worse fit.\n",
       "\n",
       "max_words : number (default=200)\n",
       "    The maximum number of words.\n",
       "\n",
       "stopwords : set of strings or None\n",
       "    The words that will be eliminated. If None, the build-in STOPWORDS\n",
       "    list will be used. Ignored if using generate_from_frequencies.\n",
       "\n",
       "background_color : color value (default=\"black\")\n",
       "    Background color for the word cloud image.\n",
       "\n",
       "max_font_size : int or None (default=None)\n",
       "    Maximum font size for the largest word. If None, height of the image is\n",
       "    used.\n",
       "\n",
       "mode : string (default=\"RGB\")\n",
       "    Transparent background will be generated when mode is \"RGBA\" and\n",
       "    background_color is None.\n",
       "\n",
       "relative_scaling : float (default='auto')\n",
       "    Importance of relative word frequencies for font-size.  With\n",
       "    relative_scaling=0, only word-ranks are considered.  With\n",
       "    relative_scaling=1, a word that is twice as frequent will have twice\n",
       "    the size.  If you want to consider the word frequencies and not only\n",
       "    their rank, relative_scaling around .5 often looks good.\n",
       "    If 'auto' it will be set to 0.5 unless repeat is true, in which\n",
       "    case it will be set to 0.\n",
       "\n",
       "    .. versionchanged: 2.0\n",
       "        Default is now 'auto'.\n",
       "\n",
       "color_func : callable, default=None\n",
       "    Callable with parameters word, font_size, position, orientation,\n",
       "    font_path, random_state that returns a PIL color for each word.\n",
       "    Overwrites \"colormap\".\n",
       "    See colormap for specifying a matplotlib colormap instead.\n",
       "    To create a word cloud with a single color, use\n",
       "    ``color_func=lambda *args, **kwargs: \"white\"``.\n",
       "    The single color can also be specified using RGB code. For example\n",
       "    ``color_func=lambda *args, **kwargs: (255,0,0)`` sets color to red.\n",
       "\n",
       "regexp : string or None (optional)\n",
       "    Regular expression to split the input text into tokens in process_text.\n",
       "    If None is specified, ``r\"\\w[\\w']+\"`` is used. Ignored if using\n",
       "    generate_from_frequencies.\n",
       "\n",
       "collocations : bool, default=True\n",
       "    Whether to include collocations (bigrams) of two words. Ignored if using\n",
       "    generate_from_frequencies.\n",
       "\n",
       "\n",
       "    .. versionadded: 2.0\n",
       "\n",
       "colormap : string or matplotlib colormap, default=\"viridis\"\n",
       "    Matplotlib colormap to randomly draw colors from for each word.\n",
       "    Ignored if \"color_func\" is specified.\n",
       "\n",
       "    .. versionadded: 2.0\n",
       "\n",
       "normalize_plurals : bool, default=True\n",
       "    Whether to remove trailing 's' from words. If True and a word\n",
       "    appears with and without a trailing 's', the one with trailing 's'\n",
       "    is removed and its counts are added to the version without\n",
       "    trailing 's' -- unless the word ends with 'ss'. Ignored if using\n",
       "    generate_from_frequencies.\n",
       "\n",
       "repeat : bool, default=False\n",
       "    Whether to repeat words and phrases until max_words or min_font_size\n",
       "    is reached.\n",
       "\n",
       "include_numbers : bool, default=False\n",
       "    Whether to include numbers as phrases or not.\n",
       "\n",
       "min_word_length : int, default=0\n",
       "    Minimum number of letters a word must have to be included.\n",
       "\n",
       "collocation_threshold: int, default=30\n",
       "    Bigrams must have a Dunning likelihood collocation score greater than this\n",
       "    parameter to be counted as bigrams. Default of 30 is arbitrary.\n",
       "\n",
       "    See Manning, C.D., Manning, C.D. and Schütze, H., 1999. Foundations of\n",
       "    Statistical Natural Language Processing. MIT press, p. 162\n",
       "    https://nlp.stanford.edu/fsnlp/promo/colloc.pdf#page=22\n",
       "\n",
       "Attributes\n",
       "----------\n",
       "``words_`` : dict of string to float\n",
       "    Word tokens with associated frequency.\n",
       "\n",
       "    .. versionchanged: 2.0\n",
       "        ``words_`` is now a dictionary\n",
       "\n",
       "``layout_`` : list of tuples (string, int, (int, int), int, color))\n",
       "    Encodes the fitted word cloud. Encodes for each word the string, font\n",
       "    size, position, orientation and color.\n",
       "\n",
       "Notes\n",
       "-----\n",
       "Larger canvases with make the code significantly slower. If you need a\n",
       "large word cloud, try a lower canvas size, and set the scale parameter.\n",
       "\n",
       "The algorithm might give more weight to the ranking of the words\n",
       "than their actual frequencies, depending on the ``max_font_size`` and the\n",
       "scaling heuristic.\n",
       "\u001b[1;31mFile:\u001b[0m           c:\\users\\gss8640\\anaconda3\\envs\\dlenv\\lib\\site-packages\\wordcloud\\wordcloud.py\n",
       "\u001b[1;31mType:\u001b[0m           type\n",
       "\u001b[1;31mSubclasses:\u001b[0m     \n"
      ]
     },
     "metadata": {},
     "output_type": "display_data"
    }
   ],
   "source": []
  },
  {
   "cell_type": "code",
   "execution_count": 307,
   "metadata": {},
   "outputs": [
    {
     "data": {
      "application/vnd.plotly.v1+json": {
       "config": {
        "plotlyServerURL": "https://plot.ly"
       },
       "data": [
        {
         "alignmentgroup": "True",
         "hovertemplate": "variable=assessment<br>index=%{x}<br>value=%{y}<extra></extra>",
         "legendgroup": "assessment",
         "marker": {
          "color": "#636efa",
          "pattern": {
           "shape": ""
          }
         },
         "name": "assessment",
         "offsetgroup": "assessment",
         "orientation": "v",
         "showlegend": true,
         "textposition": "auto",
         "type": "bar",
         "x": [
          "2010-12-31T00:00:00",
          "2011-12-31T00:00:00",
          "2012-12-31T00:00:00",
          "2013-12-31T00:00:00",
          "2014-12-31T00:00:00",
          "2015-12-31T00:00:00",
          "2016-12-31T00:00:00",
          "2017-12-31T00:00:00",
          "2018-12-31T00:00:00",
          "2019-12-31T00:00:00",
          "2020-12-31T00:00:00"
         ],
         "xaxis": "x",
         "y": [
          null,
          null,
          null,
          null,
          null,
          null,
          null,
          40,
          34,
          null,
          null
         ],
         "yaxis": "y"
        },
        {
         "alignmentgroup": "True",
         "hovertemplate": "variable=cancer<br>index=%{x}<br>value=%{y}<extra></extra>",
         "legendgroup": "cancer",
         "marker": {
          "color": "#EF553B",
          "pattern": {
           "shape": ""
          }
         },
         "name": "cancer",
         "offsetgroup": "cancer",
         "orientation": "v",
         "showlegend": true,
         "textposition": "auto",
         "type": "bar",
         "x": [
          "2010-12-31T00:00:00",
          "2011-12-31T00:00:00",
          "2012-12-31T00:00:00",
          "2013-12-31T00:00:00",
          "2014-12-31T00:00:00",
          "2015-12-31T00:00:00",
          "2016-12-31T00:00:00",
          "2017-12-31T00:00:00",
          "2018-12-31T00:00:00",
          "2019-12-31T00:00:00",
          "2020-12-31T00:00:00"
         ],
         "xaxis": "x",
         "y": [
          null,
          null,
          12,
          18,
          28,
          37,
          44,
          31,
          46,
          61,
          50
         ],
         "yaxis": "y"
        },
        {
         "alignmentgroup": "True",
         "hovertemplate": "variable=carbon<br>index=%{x}<br>value=%{y}<extra></extra>",
         "legendgroup": "carbon",
         "marker": {
          "color": "#00cc96",
          "pattern": {
           "shape": ""
          }
         },
         "name": "carbon",
         "offsetgroup": "carbon",
         "orientation": "v",
         "showlegend": true,
         "textposition": "auto",
         "type": "bar",
         "x": [
          "2010-12-31T00:00:00",
          "2011-12-31T00:00:00",
          "2012-12-31T00:00:00",
          "2013-12-31T00:00:00",
          "2014-12-31T00:00:00",
          "2015-12-31T00:00:00",
          "2016-12-31T00:00:00",
          "2017-12-31T00:00:00",
          "2018-12-31T00:00:00",
          "2019-12-31T00:00:00",
          "2020-12-31T00:00:00"
         ],
         "xaxis": "x",
         "y": [
          null,
          12,
          11,
          32,
          28,
          46,
          43,
          null,
          null,
          null,
          null
         ],
         "yaxis": "y"
        },
        {
         "alignmentgroup": "True",
         "hovertemplate": "variable=cell<br>index=%{x}<br>value=%{y}<extra></extra>",
         "legendgroup": "cell",
         "marker": {
          "color": "#ab63fa",
          "pattern": {
           "shape": ""
          }
         },
         "name": "cell",
         "offsetgroup": "cell",
         "orientation": "v",
         "showlegend": true,
         "textposition": "auto",
         "type": "bar",
         "x": [
          "2010-12-31T00:00:00",
          "2011-12-31T00:00:00",
          "2012-12-31T00:00:00",
          "2013-12-31T00:00:00",
          "2014-12-31T00:00:00",
          "2015-12-31T00:00:00",
          "2016-12-31T00:00:00",
          "2017-12-31T00:00:00",
          "2018-12-31T00:00:00",
          "2019-12-31T00:00:00",
          "2020-12-31T00:00:00"
         ],
         "xaxis": "x",
         "y": [
          null,
          null,
          10,
          20,
          null,
          null,
          null,
          null,
          29,
          32,
          34
         ],
         "yaxis": "y"
        },
        {
         "alignmentgroup": "True",
         "hovertemplate": "variable=cells<br>index=%{x}<br>value=%{y}<extra></extra>",
         "legendgroup": "cells",
         "marker": {
          "color": "#FFA15A",
          "pattern": {
           "shape": ""
          }
         },
         "name": "cells",
         "offsetgroup": "cells",
         "orientation": "v",
         "showlegend": true,
         "textposition": "auto",
         "type": "bar",
         "x": [
          "2010-12-31T00:00:00",
          "2011-12-31T00:00:00",
          "2012-12-31T00:00:00",
          "2013-12-31T00:00:00",
          "2014-12-31T00:00:00",
          "2015-12-31T00:00:00",
          "2016-12-31T00:00:00",
          "2017-12-31T00:00:00",
          "2018-12-31T00:00:00",
          "2019-12-31T00:00:00",
          "2020-12-31T00:00:00"
         ],
         "xaxis": "x",
         "y": [
          5,
          7,
          18,
          24,
          21,
          35,
          31,
          39,
          null,
          35,
          42
         ],
         "yaxis": "y"
        },
        {
         "alignmentgroup": "True",
         "hovertemplate": "variable=delivery<br>index=%{x}<br>value=%{y}<extra></extra>",
         "legendgroup": "delivery",
         "marker": {
          "color": "#19d3f3",
          "pattern": {
           "shape": ""
          }
         },
         "name": "delivery",
         "offsetgroup": "delivery",
         "orientation": "v",
         "showlegend": true,
         "textposition": "auto",
         "type": "bar",
         "x": [
          "2010-12-31T00:00:00",
          "2011-12-31T00:00:00",
          "2012-12-31T00:00:00",
          "2013-12-31T00:00:00",
          "2014-12-31T00:00:00",
          "2015-12-31T00:00:00",
          "2016-12-31T00:00:00",
          "2017-12-31T00:00:00",
          "2018-12-31T00:00:00",
          "2019-12-31T00:00:00",
          "2020-12-31T00:00:00"
         ],
         "xaxis": "x",
         "y": [
          8,
          10,
          null,
          21,
          25,
          26,
          30,
          null,
          null,
          32,
          null
         ],
         "yaxis": "y"
        },
        {
         "alignmentgroup": "True",
         "hovertemplate": "variable=drug<br>index=%{x}<br>value=%{y}<extra></extra>",
         "legendgroup": "drug",
         "marker": {
          "color": "#FF6692",
          "pattern": {
           "shape": ""
          }
         },
         "name": "drug",
         "offsetgroup": "drug",
         "orientation": "v",
         "showlegend": true,
         "textposition": "auto",
         "type": "bar",
         "x": [
          "2010-12-31T00:00:00",
          "2011-12-31T00:00:00",
          "2012-12-31T00:00:00",
          "2013-12-31T00:00:00",
          "2014-12-31T00:00:00",
          "2015-12-31T00:00:00",
          "2016-12-31T00:00:00",
          "2017-12-31T00:00:00",
          "2018-12-31T00:00:00",
          "2019-12-31T00:00:00",
          "2020-12-31T00:00:00"
         ],
         "xaxis": "x",
         "y": [
          null,
          8,
          null,
          null,
          22,
          28,
          30,
          null,
          null,
          32,
          null
         ],
         "yaxis": "y"
        },
        {
         "alignmentgroup": "True",
         "hovertemplate": "variable=effects<br>index=%{x}<br>value=%{y}<extra></extra>",
         "legendgroup": "effects",
         "marker": {
          "color": "#B6E880",
          "pattern": {
           "shape": ""
          }
         },
         "name": "effects",
         "offsetgroup": "effects",
         "orientation": "v",
         "showlegend": true,
         "textposition": "auto",
         "type": "bar",
         "x": [
          "2010-12-31T00:00:00",
          "2011-12-31T00:00:00",
          "2012-12-31T00:00:00",
          "2013-12-31T00:00:00",
          "2014-12-31T00:00:00",
          "2015-12-31T00:00:00",
          "2016-12-31T00:00:00",
          "2017-12-31T00:00:00",
          "2018-12-31T00:00:00",
          "2019-12-31T00:00:00",
          "2020-12-31T00:00:00"
         ],
         "xaxis": "x",
         "y": [
          null,
          null,
          17,
          null,
          null,
          26,
          null,
          null,
          32,
          null,
          null
         ],
         "yaxis": "y"
        },
        {
         "alignmentgroup": "True",
         "hovertemplate": "variable=exposure<br>index=%{x}<br>value=%{y}<extra></extra>",
         "legendgroup": "exposure",
         "marker": {
          "color": "#FF97FF",
          "pattern": {
           "shape": ""
          }
         },
         "name": "exposure",
         "offsetgroup": "exposure",
         "orientation": "v",
         "showlegend": true,
         "textposition": "auto",
         "type": "bar",
         "x": [
          "2010-12-31T00:00:00",
          "2011-12-31T00:00:00",
          "2012-12-31T00:00:00",
          "2013-12-31T00:00:00",
          "2014-12-31T00:00:00",
          "2015-12-31T00:00:00",
          "2016-12-31T00:00:00",
          "2017-12-31T00:00:00",
          "2018-12-31T00:00:00",
          "2019-12-31T00:00:00",
          "2020-12-31T00:00:00"
         ],
         "xaxis": "x",
         "y": [
          null,
          null,
          null,
          null,
          23,
          null,
          null,
          null,
          null,
          null,
          null
         ],
         "yaxis": "y"
        },
        {
         "alignmentgroup": "True",
         "hovertemplate": "variable=gold<br>index=%{x}<br>value=%{y}<extra></extra>",
         "legendgroup": "gold",
         "marker": {
          "color": "#FECB52",
          "pattern": {
           "shape": ""
          }
         },
         "name": "gold",
         "offsetgroup": "gold",
         "orientation": "v",
         "showlegend": true,
         "textposition": "auto",
         "type": "bar",
         "x": [
          "2010-12-31T00:00:00",
          "2011-12-31T00:00:00",
          "2012-12-31T00:00:00",
          "2013-12-31T00:00:00",
          "2014-12-31T00:00:00",
          "2015-12-31T00:00:00",
          "2016-12-31T00:00:00",
          "2017-12-31T00:00:00",
          "2018-12-31T00:00:00",
          "2019-12-31T00:00:00",
          "2020-12-31T00:00:00"
         ],
         "xaxis": "x",
         "y": [
          5,
          11,
          17,
          null,
          26,
          25,
          null,
          31,
          null,
          null,
          null
         ],
         "yaxis": "y"
        },
        {
         "alignmentgroup": "True",
         "hovertemplate": "variable=graphene<br>index=%{x}<br>value=%{y}<extra></extra>",
         "legendgroup": "graphene",
         "marker": {
          "color": "#636efa",
          "pattern": {
           "shape": ""
          }
         },
         "name": "graphene",
         "offsetgroup": "graphene",
         "orientation": "v",
         "showlegend": true,
         "textposition": "auto",
         "type": "bar",
         "x": [
          "2010-12-31T00:00:00",
          "2011-12-31T00:00:00",
          "2012-12-31T00:00:00",
          "2013-12-31T00:00:00",
          "2014-12-31T00:00:00",
          "2015-12-31T00:00:00",
          "2016-12-31T00:00:00",
          "2017-12-31T00:00:00",
          "2018-12-31T00:00:00",
          "2019-12-31T00:00:00",
          "2020-12-31T00:00:00"
         ],
         "xaxis": "x",
         "y": [
          null,
          null,
          13,
          null,
          null,
          null,
          null,
          null,
          null,
          null,
          null
         ],
         "yaxis": "y"
        },
        {
         "alignmentgroup": "True",
         "hovertemplate": "variable=human<br>index=%{x}<br>value=%{y}<extra></extra>",
         "legendgroup": "human",
         "marker": {
          "color": "#EF553B",
          "pattern": {
           "shape": ""
          }
         },
         "name": "human",
         "offsetgroup": "human",
         "orientation": "v",
         "showlegend": true,
         "textposition": "auto",
         "type": "bar",
         "x": [
          "2010-12-31T00:00:00",
          "2011-12-31T00:00:00",
          "2012-12-31T00:00:00",
          "2013-12-31T00:00:00",
          "2014-12-31T00:00:00",
          "2015-12-31T00:00:00",
          "2016-12-31T00:00:00",
          "2017-12-31T00:00:00",
          "2018-12-31T00:00:00",
          "2019-12-31T00:00:00",
          "2020-12-31T00:00:00"
         ],
         "xaxis": "x",
         "y": [
          null,
          null,
          null,
          null,
          null,
          null,
          null,
          null,
          null,
          null,
          30
         ],
         "yaxis": "y"
        },
        {
         "alignmentgroup": "True",
         "hovertemplate": "variable=induced<br>index=%{x}<br>value=%{y}<extra></extra>",
         "legendgroup": "induced",
         "marker": {
          "color": "#00cc96",
          "pattern": {
           "shape": ""
          }
         },
         "name": "induced",
         "offsetgroup": "induced",
         "orientation": "v",
         "showlegend": true,
         "textposition": "auto",
         "type": "bar",
         "x": [
          "2010-12-31T00:00:00",
          "2011-12-31T00:00:00",
          "2012-12-31T00:00:00",
          "2013-12-31T00:00:00",
          "2014-12-31T00:00:00",
          "2015-12-31T00:00:00",
          "2016-12-31T00:00:00",
          "2017-12-31T00:00:00",
          "2018-12-31T00:00:00",
          "2019-12-31T00:00:00",
          "2020-12-31T00:00:00"
         ],
         "xaxis": "x",
         "y": [
          6,
          null,
          11,
          null,
          null,
          null,
          null,
          null,
          null,
          null,
          null
         ],
         "yaxis": "y"
        },
        {
         "alignmentgroup": "True",
         "hovertemplate": "variable=iron<br>index=%{x}<br>value=%{y}<extra></extra>",
         "legendgroup": "iron",
         "marker": {
          "color": "#ab63fa",
          "pattern": {
           "shape": ""
          }
         },
         "name": "iron",
         "offsetgroup": "iron",
         "orientation": "v",
         "showlegend": true,
         "textposition": "auto",
         "type": "bar",
         "x": [
          "2010-12-31T00:00:00",
          "2011-12-31T00:00:00",
          "2012-12-31T00:00:00",
          "2013-12-31T00:00:00",
          "2014-12-31T00:00:00",
          "2015-12-31T00:00:00",
          "2016-12-31T00:00:00",
          "2017-12-31T00:00:00",
          "2018-12-31T00:00:00",
          "2019-12-31T00:00:00",
          "2020-12-31T00:00:00"
         ],
         "xaxis": "x",
         "y": [
          6,
          null,
          null,
          null,
          null,
          null,
          null,
          null,
          null,
          null,
          null
         ],
         "yaxis": "y"
        },
        {
         "alignmentgroup": "True",
         "hovertemplate": "variable=metal<br>index=%{x}<br>value=%{y}<extra></extra>",
         "legendgroup": "metal",
         "marker": {
          "color": "#FFA15A",
          "pattern": {
           "shape": ""
          }
         },
         "name": "metal",
         "offsetgroup": "metal",
         "orientation": "v",
         "showlegend": true,
         "textposition": "auto",
         "type": "bar",
         "x": [
          "2010-12-31T00:00:00",
          "2011-12-31T00:00:00",
          "2012-12-31T00:00:00",
          "2013-12-31T00:00:00",
          "2014-12-31T00:00:00",
          "2015-12-31T00:00:00",
          "2016-12-31T00:00:00",
          "2017-12-31T00:00:00",
          "2018-12-31T00:00:00",
          "2019-12-31T00:00:00",
          "2020-12-31T00:00:00"
         ],
         "xaxis": "x",
         "y": [
          null,
          null,
          null,
          null,
          null,
          null,
          null,
          null,
          38,
          33,
          42
         ],
         "yaxis": "y"
        },
        {
         "alignmentgroup": "True",
         "hovertemplate": "variable=metallofullerene<br>index=%{x}<br>value=%{y}<extra></extra>",
         "legendgroup": "metallofullerene",
         "marker": {
          "color": "#19d3f3",
          "pattern": {
           "shape": ""
          }
         },
         "name": "metallofullerene",
         "offsetgroup": "metallofullerene",
         "orientation": "v",
         "showlegend": true,
         "textposition": "auto",
         "type": "bar",
         "x": [
          "2010-12-31T00:00:00",
          "2011-12-31T00:00:00",
          "2012-12-31T00:00:00",
          "2013-12-31T00:00:00",
          "2014-12-31T00:00:00",
          "2015-12-31T00:00:00",
          "2016-12-31T00:00:00",
          "2017-12-31T00:00:00",
          "2018-12-31T00:00:00",
          "2019-12-31T00:00:00",
          "2020-12-31T00:00:00"
         ],
         "xaxis": "x",
         "y": [
          7,
          null,
          null,
          null,
          null,
          null,
          null,
          null,
          null,
          null,
          null
         ],
         "yaxis": "y"
        },
        {
         "alignmentgroup": "True",
         "hovertemplate": "variable=nanomaterials<br>index=%{x}<br>value=%{y}<extra></extra>",
         "legendgroup": "nanomaterials",
         "marker": {
          "color": "#FF6692",
          "pattern": {
           "shape": ""
          }
         },
         "name": "nanomaterials",
         "offsetgroup": "nanomaterials",
         "orientation": "v",
         "showlegend": true,
         "textposition": "auto",
         "type": "bar",
         "x": [
          "2010-12-31T00:00:00",
          "2011-12-31T00:00:00",
          "2012-12-31T00:00:00",
          "2013-12-31T00:00:00",
          "2014-12-31T00:00:00",
          "2015-12-31T00:00:00",
          "2016-12-31T00:00:00",
          "2017-12-31T00:00:00",
          "2018-12-31T00:00:00",
          "2019-12-31T00:00:00",
          "2020-12-31T00:00:00"
         ],
         "xaxis": "x",
         "y": [
          null,
          15,
          16,
          40,
          39,
          53,
          76,
          75,
          69,
          64,
          62
         ],
         "yaxis": "y"
        },
        {
         "alignmentgroup": "True",
         "hovertemplate": "variable=nanoparticle<br>index=%{x}<br>value=%{y}<extra></extra>",
         "legendgroup": "nanoparticle",
         "marker": {
          "color": "#B6E880",
          "pattern": {
           "shape": ""
          }
         },
         "name": "nanoparticle",
         "offsetgroup": "nanoparticle",
         "orientation": "v",
         "showlegend": true,
         "textposition": "auto",
         "type": "bar",
         "x": [
          "2010-12-31T00:00:00",
          "2011-12-31T00:00:00",
          "2012-12-31T00:00:00",
          "2013-12-31T00:00:00",
          "2014-12-31T00:00:00",
          "2015-12-31T00:00:00",
          "2016-12-31T00:00:00",
          "2017-12-31T00:00:00",
          "2018-12-31T00:00:00",
          "2019-12-31T00:00:00",
          "2020-12-31T00:00:00"
         ],
         "xaxis": "x",
         "y": [
          null,
          null,
          null,
          null,
          null,
          null,
          32,
          null,
          null,
          null,
          null
         ],
         "yaxis": "y"
        },
        {
         "alignmentgroup": "True",
         "hovertemplate": "variable=nanoparticles<br>index=%{x}<br>value=%{y}<extra></extra>",
         "legendgroup": "nanoparticles",
         "marker": {
          "color": "#FF97FF",
          "pattern": {
           "shape": ""
          }
         },
         "name": "nanoparticles",
         "offsetgroup": "nanoparticles",
         "orientation": "v",
         "showlegend": true,
         "textposition": "auto",
         "type": "bar",
         "x": [
          "2010-12-31T00:00:00",
          "2011-12-31T00:00:00",
          "2012-12-31T00:00:00",
          "2013-12-31T00:00:00",
          "2014-12-31T00:00:00",
          "2015-12-31T00:00:00",
          "2016-12-31T00:00:00",
          "2017-12-31T00:00:00",
          "2018-12-31T00:00:00",
          "2019-12-31T00:00:00",
          "2020-12-31T00:00:00"
         ],
         "xaxis": "x",
         "y": [
          19,
          40,
          52,
          60,
          85,
          115,
          115,
          142,
          128,
          125,
          111
         ],
         "yaxis": "y"
        },
        {
         "alignmentgroup": "True",
         "hovertemplate": "variable=nanotechnology<br>index=%{x}<br>value=%{y}<extra></extra>",
         "legendgroup": "nanotechnology",
         "marker": {
          "color": "#FECB52",
          "pattern": {
           "shape": ""
          }
         },
         "name": "nanotechnology",
         "offsetgroup": "nanotechnology",
         "orientation": "v",
         "showlegend": true,
         "textposition": "auto",
         "type": "bar",
         "x": [
          "2010-12-31T00:00:00",
          "2011-12-31T00:00:00",
          "2012-12-31T00:00:00",
          "2013-12-31T00:00:00",
          "2014-12-31T00:00:00",
          "2015-12-31T00:00:00",
          "2016-12-31T00:00:00",
          "2017-12-31T00:00:00",
          "2018-12-31T00:00:00",
          "2019-12-31T00:00:00",
          "2020-12-31T00:00:00"
         ],
         "xaxis": "x",
         "y": [
          5,
          null,
          null,
          null,
          null,
          null,
          null,
          null,
          null,
          null,
          null
         ],
         "yaxis": "y"
        },
        {
         "alignmentgroup": "True",
         "hovertemplate": "variable=nanotubes<br>index=%{x}<br>value=%{y}<extra></extra>",
         "legendgroup": "nanotubes",
         "marker": {
          "color": "#636efa",
          "pattern": {
           "shape": ""
          }
         },
         "name": "nanotubes",
         "offsetgroup": "nanotubes",
         "orientation": "v",
         "showlegend": true,
         "textposition": "auto",
         "type": "bar",
         "x": [
          "2010-12-31T00:00:00",
          "2011-12-31T00:00:00",
          "2012-12-31T00:00:00",
          "2013-12-31T00:00:00",
          "2014-12-31T00:00:00",
          "2015-12-31T00:00:00",
          "2016-12-31T00:00:00",
          "2017-12-31T00:00:00",
          "2018-12-31T00:00:00",
          "2019-12-31T00:00:00",
          "2020-12-31T00:00:00"
         ],
         "xaxis": "x",
         "y": [
          null,
          11,
          null,
          22,
          null,
          null,
          null,
          null,
          null,
          null,
          null
         ],
         "yaxis": "y"
        },
        {
         "alignmentgroup": "True",
         "hovertemplate": "variable=oxide<br>index=%{x}<br>value=%{y}<extra></extra>",
         "legendgroup": "oxide",
         "marker": {
          "color": "#EF553B",
          "pattern": {
           "shape": ""
          }
         },
         "name": "oxide",
         "offsetgroup": "oxide",
         "orientation": "v",
         "showlegend": true,
         "textposition": "auto",
         "type": "bar",
         "x": [
          "2010-12-31T00:00:00",
          "2011-12-31T00:00:00",
          "2012-12-31T00:00:00",
          "2013-12-31T00:00:00",
          "2014-12-31T00:00:00",
          "2015-12-31T00:00:00",
          "2016-12-31T00:00:00",
          "2017-12-31T00:00:00",
          "2018-12-31T00:00:00",
          "2019-12-31T00:00:00",
          "2020-12-31T00:00:00"
         ],
         "xaxis": "x",
         "y": [
          7,
          null,
          null,
          null,
          24,
          null,
          29,
          31,
          39,
          null,
          34
         ],
         "yaxis": "y"
        },
        {
         "alignmentgroup": "True",
         "hovertemplate": "variable=poly<br>index=%{x}<br>value=%{y}<extra></extra>",
         "legendgroup": "poly",
         "marker": {
          "color": "#00cc96",
          "pattern": {
           "shape": ""
          }
         },
         "name": "poly",
         "offsetgroup": "poly",
         "orientation": "v",
         "showlegend": true,
         "textposition": "auto",
         "type": "bar",
         "x": [
          "2010-12-31T00:00:00",
          "2011-12-31T00:00:00",
          "2012-12-31T00:00:00",
          "2013-12-31T00:00:00",
          "2014-12-31T00:00:00",
          "2015-12-31T00:00:00",
          "2016-12-31T00:00:00",
          "2017-12-31T00:00:00",
          "2018-12-31T00:00:00",
          "2019-12-31T00:00:00",
          "2020-12-31T00:00:00"
         ],
         "xaxis": "x",
         "y": [
          null,
          9,
          null,
          null,
          null,
          null,
          null,
          null,
          null,
          null,
          null
         ],
         "yaxis": "y"
        },
        {
         "alignmentgroup": "True",
         "hovertemplate": "variable=safety<br>index=%{x}<br>value=%{y}<extra></extra>",
         "legendgroup": "safety",
         "marker": {
          "color": "#ab63fa",
          "pattern": {
           "shape": ""
          }
         },
         "name": "safety",
         "offsetgroup": "safety",
         "orientation": "v",
         "showlegend": true,
         "textposition": "auto",
         "type": "bar",
         "x": [
          "2010-12-31T00:00:00",
          "2011-12-31T00:00:00",
          "2012-12-31T00:00:00",
          "2013-12-31T00:00:00",
          "2014-12-31T00:00:00",
          "2015-12-31T00:00:00",
          "2016-12-31T00:00:00",
          "2017-12-31T00:00:00",
          "2018-12-31T00:00:00",
          "2019-12-31T00:00:00",
          "2020-12-31T00:00:00"
         ],
         "xaxis": "x",
         "y": [
          null,
          null,
          null,
          17,
          null,
          null,
          null,
          null,
          null,
          null,
          null
         ],
         "yaxis": "y"
        },
        {
         "alignmentgroup": "True",
         "hovertemplate": "variable=surface<br>index=%{x}<br>value=%{y}<extra></extra>",
         "legendgroup": "surface",
         "marker": {
          "color": "#FFA15A",
          "pattern": {
           "shape": ""
          }
         },
         "name": "surface",
         "offsetgroup": "surface",
         "orientation": "v",
         "showlegend": true,
         "textposition": "auto",
         "type": "bar",
         "x": [
          "2010-12-31T00:00:00",
          "2011-12-31T00:00:00",
          "2012-12-31T00:00:00",
          "2013-12-31T00:00:00",
          "2014-12-31T00:00:00",
          "2015-12-31T00:00:00",
          "2016-12-31T00:00:00",
          "2017-12-31T00:00:00",
          "2018-12-31T00:00:00",
          "2019-12-31T00:00:00",
          "2020-12-31T00:00:00"
         ],
         "xaxis": "x",
         "y": [
          null,
          8,
          null,
          null,
          null,
          null,
          null,
          null,
          null,
          null,
          null
         ],
         "yaxis": "y"
        },
        {
         "alignmentgroup": "True",
         "hovertemplate": "variable=therapy<br>index=%{x}<br>value=%{y}<extra></extra>",
         "legendgroup": "therapy",
         "marker": {
          "color": "#19d3f3",
          "pattern": {
           "shape": ""
          }
         },
         "name": "therapy",
         "offsetgroup": "therapy",
         "orientation": "v",
         "showlegend": true,
         "textposition": "auto",
         "type": "bar",
         "x": [
          "2010-12-31T00:00:00",
          "2011-12-31T00:00:00",
          "2012-12-31T00:00:00",
          "2013-12-31T00:00:00",
          "2014-12-31T00:00:00",
          "2015-12-31T00:00:00",
          "2016-12-31T00:00:00",
          "2017-12-31T00:00:00",
          "2018-12-31T00:00:00",
          "2019-12-31T00:00:00",
          "2020-12-31T00:00:00"
         ],
         "xaxis": "x",
         "y": [
          null,
          null,
          null,
          null,
          null,
          null,
          33,
          39,
          37,
          48,
          34
         ],
         "yaxis": "y"
        },
        {
         "alignmentgroup": "True",
         "hovertemplate": "variable=toxicity<br>index=%{x}<br>value=%{y}<extra></extra>",
         "legendgroup": "toxicity",
         "marker": {
          "color": "#FF6692",
          "pattern": {
           "shape": ""
          }
         },
         "name": "toxicity",
         "offsetgroup": "toxicity",
         "orientation": "v",
         "showlegend": true,
         "textposition": "auto",
         "type": "bar",
         "x": [
          "2010-12-31T00:00:00",
          "2011-12-31T00:00:00",
          "2012-12-31T00:00:00",
          "2013-12-31T00:00:00",
          "2014-12-31T00:00:00",
          "2015-12-31T00:00:00",
          "2016-12-31T00:00:00",
          "2017-12-31T00:00:00",
          "2018-12-31T00:00:00",
          "2019-12-31T00:00:00",
          "2020-12-31T00:00:00"
         ],
         "xaxis": "x",
         "y": [
          null,
          null,
          null,
          17,
          null,
          28,
          null,
          31,
          null,
          null,
          null
         ],
         "yaxis": "y"
        },
        {
         "alignmentgroup": "True",
         "hovertemplate": "variable=tumor<br>index=%{x}<br>value=%{y}<extra></extra>",
         "legendgroup": "tumor",
         "marker": {
          "color": "#B6E880",
          "pattern": {
           "shape": ""
          }
         },
         "name": "tumor",
         "offsetgroup": "tumor",
         "orientation": "v",
         "showlegend": true,
         "textposition": "auto",
         "type": "bar",
         "x": [
          "2010-12-31T00:00:00",
          "2011-12-31T00:00:00",
          "2012-12-31T00:00:00",
          "2013-12-31T00:00:00",
          "2014-12-31T00:00:00",
          "2015-12-31T00:00:00",
          "2016-12-31T00:00:00",
          "2017-12-31T00:00:00",
          "2018-12-31T00:00:00",
          "2019-12-31T00:00:00",
          "2020-12-31T00:00:00"
         ],
         "xaxis": "x",
         "y": [
          5,
          null,
          null,
          null,
          null,
          null,
          null,
          31,
          42,
          49,
          35
         ],
         "yaxis": "y"
        }
       ],
       "layout": {
        "autosize": true,
        "barmode": "relative",
        "legend": {
         "title": {
          "text": "variable"
         },
         "tracegroupgap": 0
        },
        "margin": {
         "t": 60
        },
        "template": {
         "data": {
          "bar": [
           {
            "error_x": {
             "color": "#2a3f5f"
            },
            "error_y": {
             "color": "#2a3f5f"
            },
            "marker": {
             "line": {
              "color": "#E5ECF6",
              "width": 0.5
             },
             "pattern": {
              "fillmode": "overlay",
              "size": 10,
              "solidity": 0.2
             }
            },
            "type": "bar"
           }
          ],
          "barpolar": [
           {
            "marker": {
             "line": {
              "color": "#E5ECF6",
              "width": 0.5
             },
             "pattern": {
              "fillmode": "overlay",
              "size": 10,
              "solidity": 0.2
             }
            },
            "type": "barpolar"
           }
          ],
          "carpet": [
           {
            "aaxis": {
             "endlinecolor": "#2a3f5f",
             "gridcolor": "white",
             "linecolor": "white",
             "minorgridcolor": "white",
             "startlinecolor": "#2a3f5f"
            },
            "baxis": {
             "endlinecolor": "#2a3f5f",
             "gridcolor": "white",
             "linecolor": "white",
             "minorgridcolor": "white",
             "startlinecolor": "#2a3f5f"
            },
            "type": "carpet"
           }
          ],
          "choropleth": [
           {
            "colorbar": {
             "outlinewidth": 0,
             "ticks": ""
            },
            "type": "choropleth"
           }
          ],
          "contour": [
           {
            "colorbar": {
             "outlinewidth": 0,
             "ticks": ""
            },
            "colorscale": [
             [
              0,
              "#0d0887"
             ],
             [
              0.1111111111111111,
              "#46039f"
             ],
             [
              0.2222222222222222,
              "#7201a8"
             ],
             [
              0.3333333333333333,
              "#9c179e"
             ],
             [
              0.4444444444444444,
              "#bd3786"
             ],
             [
              0.5555555555555556,
              "#d8576b"
             ],
             [
              0.6666666666666666,
              "#ed7953"
             ],
             [
              0.7777777777777778,
              "#fb9f3a"
             ],
             [
              0.8888888888888888,
              "#fdca26"
             ],
             [
              1,
              "#f0f921"
             ]
            ],
            "type": "contour"
           }
          ],
          "contourcarpet": [
           {
            "colorbar": {
             "outlinewidth": 0,
             "ticks": ""
            },
            "type": "contourcarpet"
           }
          ],
          "heatmap": [
           {
            "colorbar": {
             "outlinewidth": 0,
             "ticks": ""
            },
            "colorscale": [
             [
              0,
              "#0d0887"
             ],
             [
              0.1111111111111111,
              "#46039f"
             ],
             [
              0.2222222222222222,
              "#7201a8"
             ],
             [
              0.3333333333333333,
              "#9c179e"
             ],
             [
              0.4444444444444444,
              "#bd3786"
             ],
             [
              0.5555555555555556,
              "#d8576b"
             ],
             [
              0.6666666666666666,
              "#ed7953"
             ],
             [
              0.7777777777777778,
              "#fb9f3a"
             ],
             [
              0.8888888888888888,
              "#fdca26"
             ],
             [
              1,
              "#f0f921"
             ]
            ],
            "type": "heatmap"
           }
          ],
          "heatmapgl": [
           {
            "colorbar": {
             "outlinewidth": 0,
             "ticks": ""
            },
            "colorscale": [
             [
              0,
              "#0d0887"
             ],
             [
              0.1111111111111111,
              "#46039f"
             ],
             [
              0.2222222222222222,
              "#7201a8"
             ],
             [
              0.3333333333333333,
              "#9c179e"
             ],
             [
              0.4444444444444444,
              "#bd3786"
             ],
             [
              0.5555555555555556,
              "#d8576b"
             ],
             [
              0.6666666666666666,
              "#ed7953"
             ],
             [
              0.7777777777777778,
              "#fb9f3a"
             ],
             [
              0.8888888888888888,
              "#fdca26"
             ],
             [
              1,
              "#f0f921"
             ]
            ],
            "type": "heatmapgl"
           }
          ],
          "histogram": [
           {
            "marker": {
             "pattern": {
              "fillmode": "overlay",
              "size": 10,
              "solidity": 0.2
             }
            },
            "type": "histogram"
           }
          ],
          "histogram2d": [
           {
            "colorbar": {
             "outlinewidth": 0,
             "ticks": ""
            },
            "colorscale": [
             [
              0,
              "#0d0887"
             ],
             [
              0.1111111111111111,
              "#46039f"
             ],
             [
              0.2222222222222222,
              "#7201a8"
             ],
             [
              0.3333333333333333,
              "#9c179e"
             ],
             [
              0.4444444444444444,
              "#bd3786"
             ],
             [
              0.5555555555555556,
              "#d8576b"
             ],
             [
              0.6666666666666666,
              "#ed7953"
             ],
             [
              0.7777777777777778,
              "#fb9f3a"
             ],
             [
              0.8888888888888888,
              "#fdca26"
             ],
             [
              1,
              "#f0f921"
             ]
            ],
            "type": "histogram2d"
           }
          ],
          "histogram2dcontour": [
           {
            "colorbar": {
             "outlinewidth": 0,
             "ticks": ""
            },
            "colorscale": [
             [
              0,
              "#0d0887"
             ],
             [
              0.1111111111111111,
              "#46039f"
             ],
             [
              0.2222222222222222,
              "#7201a8"
             ],
             [
              0.3333333333333333,
              "#9c179e"
             ],
             [
              0.4444444444444444,
              "#bd3786"
             ],
             [
              0.5555555555555556,
              "#d8576b"
             ],
             [
              0.6666666666666666,
              "#ed7953"
             ],
             [
              0.7777777777777778,
              "#fb9f3a"
             ],
             [
              0.8888888888888888,
              "#fdca26"
             ],
             [
              1,
              "#f0f921"
             ]
            ],
            "type": "histogram2dcontour"
           }
          ],
          "mesh3d": [
           {
            "colorbar": {
             "outlinewidth": 0,
             "ticks": ""
            },
            "type": "mesh3d"
           }
          ],
          "parcoords": [
           {
            "line": {
             "colorbar": {
              "outlinewidth": 0,
              "ticks": ""
             }
            },
            "type": "parcoords"
           }
          ],
          "pie": [
           {
            "automargin": true,
            "type": "pie"
           }
          ],
          "scatter": [
           {
            "marker": {
             "colorbar": {
              "outlinewidth": 0,
              "ticks": ""
             }
            },
            "type": "scatter"
           }
          ],
          "scatter3d": [
           {
            "line": {
             "colorbar": {
              "outlinewidth": 0,
              "ticks": ""
             }
            },
            "marker": {
             "colorbar": {
              "outlinewidth": 0,
              "ticks": ""
             }
            },
            "type": "scatter3d"
           }
          ],
          "scattercarpet": [
           {
            "marker": {
             "colorbar": {
              "outlinewidth": 0,
              "ticks": ""
             }
            },
            "type": "scattercarpet"
           }
          ],
          "scattergeo": [
           {
            "marker": {
             "colorbar": {
              "outlinewidth": 0,
              "ticks": ""
             }
            },
            "type": "scattergeo"
           }
          ],
          "scattergl": [
           {
            "marker": {
             "colorbar": {
              "outlinewidth": 0,
              "ticks": ""
             }
            },
            "type": "scattergl"
           }
          ],
          "scattermapbox": [
           {
            "marker": {
             "colorbar": {
              "outlinewidth": 0,
              "ticks": ""
             }
            },
            "type": "scattermapbox"
           }
          ],
          "scatterpolar": [
           {
            "marker": {
             "colorbar": {
              "outlinewidth": 0,
              "ticks": ""
             }
            },
            "type": "scatterpolar"
           }
          ],
          "scatterpolargl": [
           {
            "marker": {
             "colorbar": {
              "outlinewidth": 0,
              "ticks": ""
             }
            },
            "type": "scatterpolargl"
           }
          ],
          "scatterternary": [
           {
            "marker": {
             "colorbar": {
              "outlinewidth": 0,
              "ticks": ""
             }
            },
            "type": "scatterternary"
           }
          ],
          "surface": [
           {
            "colorbar": {
             "outlinewidth": 0,
             "ticks": ""
            },
            "colorscale": [
             [
              0,
              "#0d0887"
             ],
             [
              0.1111111111111111,
              "#46039f"
             ],
             [
              0.2222222222222222,
              "#7201a8"
             ],
             [
              0.3333333333333333,
              "#9c179e"
             ],
             [
              0.4444444444444444,
              "#bd3786"
             ],
             [
              0.5555555555555556,
              "#d8576b"
             ],
             [
              0.6666666666666666,
              "#ed7953"
             ],
             [
              0.7777777777777778,
              "#fb9f3a"
             ],
             [
              0.8888888888888888,
              "#fdca26"
             ],
             [
              1,
              "#f0f921"
             ]
            ],
            "type": "surface"
           }
          ],
          "table": [
           {
            "cells": {
             "fill": {
              "color": "#EBF0F8"
             },
             "line": {
              "color": "white"
             }
            },
            "header": {
             "fill": {
              "color": "#C8D4E3"
             },
             "line": {
              "color": "white"
             }
            },
            "type": "table"
           }
          ]
         },
         "layout": {
          "annotationdefaults": {
           "arrowcolor": "#2a3f5f",
           "arrowhead": 0,
           "arrowwidth": 1
          },
          "autotypenumbers": "strict",
          "coloraxis": {
           "colorbar": {
            "outlinewidth": 0,
            "ticks": ""
           }
          },
          "colorscale": {
           "diverging": [
            [
             0,
             "#8e0152"
            ],
            [
             0.1,
             "#c51b7d"
            ],
            [
             0.2,
             "#de77ae"
            ],
            [
             0.3,
             "#f1b6da"
            ],
            [
             0.4,
             "#fde0ef"
            ],
            [
             0.5,
             "#f7f7f7"
            ],
            [
             0.6,
             "#e6f5d0"
            ],
            [
             0.7,
             "#b8e186"
            ],
            [
             0.8,
             "#7fbc41"
            ],
            [
             0.9,
             "#4d9221"
            ],
            [
             1,
             "#276419"
            ]
           ],
           "sequential": [
            [
             0,
             "#0d0887"
            ],
            [
             0.1111111111111111,
             "#46039f"
            ],
            [
             0.2222222222222222,
             "#7201a8"
            ],
            [
             0.3333333333333333,
             "#9c179e"
            ],
            [
             0.4444444444444444,
             "#bd3786"
            ],
            [
             0.5555555555555556,
             "#d8576b"
            ],
            [
             0.6666666666666666,
             "#ed7953"
            ],
            [
             0.7777777777777778,
             "#fb9f3a"
            ],
            [
             0.8888888888888888,
             "#fdca26"
            ],
            [
             1,
             "#f0f921"
            ]
           ],
           "sequentialminus": [
            [
             0,
             "#0d0887"
            ],
            [
             0.1111111111111111,
             "#46039f"
            ],
            [
             0.2222222222222222,
             "#7201a8"
            ],
            [
             0.3333333333333333,
             "#9c179e"
            ],
            [
             0.4444444444444444,
             "#bd3786"
            ],
            [
             0.5555555555555556,
             "#d8576b"
            ],
            [
             0.6666666666666666,
             "#ed7953"
            ],
            [
             0.7777777777777778,
             "#fb9f3a"
            ],
            [
             0.8888888888888888,
             "#fdca26"
            ],
            [
             1,
             "#f0f921"
            ]
           ]
          },
          "colorway": [
           "#636efa",
           "#EF553B",
           "#00cc96",
           "#ab63fa",
           "#FFA15A",
           "#19d3f3",
           "#FF6692",
           "#B6E880",
           "#FF97FF",
           "#FECB52"
          ],
          "font": {
           "color": "#2a3f5f"
          },
          "geo": {
           "bgcolor": "white",
           "lakecolor": "white",
           "landcolor": "#E5ECF6",
           "showlakes": true,
           "showland": true,
           "subunitcolor": "white"
          },
          "hoverlabel": {
           "align": "left"
          },
          "hovermode": "closest",
          "mapbox": {
           "style": "light"
          },
          "paper_bgcolor": "white",
          "plot_bgcolor": "#E5ECF6",
          "polar": {
           "angularaxis": {
            "gridcolor": "white",
            "linecolor": "white",
            "ticks": ""
           },
           "bgcolor": "#E5ECF6",
           "radialaxis": {
            "gridcolor": "white",
            "linecolor": "white",
            "ticks": ""
           }
          },
          "scene": {
           "xaxis": {
            "backgroundcolor": "#E5ECF6",
            "gridcolor": "white",
            "gridwidth": 2,
            "linecolor": "white",
            "showbackground": true,
            "ticks": "",
            "zerolinecolor": "white"
           },
           "yaxis": {
            "backgroundcolor": "#E5ECF6",
            "gridcolor": "white",
            "gridwidth": 2,
            "linecolor": "white",
            "showbackground": true,
            "ticks": "",
            "zerolinecolor": "white"
           },
           "zaxis": {
            "backgroundcolor": "#E5ECF6",
            "gridcolor": "white",
            "gridwidth": 2,
            "linecolor": "white",
            "showbackground": true,
            "ticks": "",
            "zerolinecolor": "white"
           }
          },
          "shapedefaults": {
           "line": {
            "color": "#2a3f5f"
           }
          },
          "ternary": {
           "aaxis": {
            "gridcolor": "white",
            "linecolor": "white",
            "ticks": ""
           },
           "baxis": {
            "gridcolor": "white",
            "linecolor": "white",
            "ticks": ""
           },
           "bgcolor": "#E5ECF6",
           "caxis": {
            "gridcolor": "white",
            "linecolor": "white",
            "ticks": ""
           }
          },
          "title": {
           "x": 0.05
          },
          "xaxis": {
           "automargin": true,
           "gridcolor": "white",
           "linecolor": "white",
           "ticks": "",
           "title": {
            "standoff": 15
           },
           "zerolinecolor": "white",
           "zerolinewidth": 2
          },
          "yaxis": {
           "automargin": true,
           "gridcolor": "white",
           "linecolor": "white",
           "ticks": "",
           "title": {
            "standoff": 15
           },
           "zerolinecolor": "white",
           "zerolinewidth": 2
          }
         }
        },
        "xaxis": {
         "anchor": "y",
         "autorange": true,
         "domain": [
          0,
          1
         ],
         "range": [
          "2010-07-01 12:00",
          "2021-07-01 12:00"
         ],
         "title": {
          "text": "index"
         },
         "type": "date"
        },
        "yaxis": {
         "anchor": "x",
         "autorange": true,
         "domain": [
          0,
          1
         ],
         "range": [
          0,
          537.8947368421053
         ],
         "title": {
          "text": "value"
         },
         "type": "linear"
        }
       }
      },
      "image/png": "[encoded data removed]",
      "text/html": [
       "<div>                            <div id=\"8bfc98d1-511e-4806-a179-afde95f5f3e7\" class=\"plotly-graph-div\" style=\"height:525px; width:100%;\"></div>            <script type=\"text/javascript\">                require([\"plotly\"], function(Plotly) {                    window.PLOTLYENV=window.PLOTLYENV || {};                                    if (document.getElementById(\"8bfc98d1-511e-4806-a179-afde95f5f3e7\")) {                    Plotly.newPlot(                        \"8bfc98d1-511e-4806-a179-afde95f5f3e7\",                        [{\"alignmentgroup\":\"True\",\"hovertemplate\":\"variable=assessment<br>index=%{x}<br>value=%{y}<extra></extra>\",\"legendgroup\":\"assessment\",\"marker\":{\"color\":\"#636efa\",\"pattern\":{\"shape\":\"\"}},\"name\":\"assessment\",\"offsetgroup\":\"assessment\",\"orientation\":\"v\",\"showlegend\":true,\"textposition\":\"auto\",\"type\":\"bar\",\"x\":[\"2010-12-31T00:00:00\",\"2011-12-31T00:00:00\",\"2012-12-31T00:00:00\",\"2013-12-31T00:00:00\",\"2014-12-31T00:00:00\",\"2015-12-31T00:00:00\",\"2016-12-31T00:00:00\",\"2017-12-31T00:00:00\",\"2018-12-31T00:00:00\",\"2019-12-31T00:00:00\",\"2020-12-31T00:00:00\"],\"xaxis\":\"x\",\"y\":[null,null,null,null,null,null,null,40.0,34.0,null,null],\"yaxis\":\"y\"},{\"alignmentgroup\":\"True\",\"hovertemplate\":\"variable=cancer<br>index=%{x}<br>value=%{y}<extra></extra>\",\"legendgroup\":\"cancer\",\"marker\":{\"color\":\"#EF553B\",\"pattern\":{\"shape\":\"\"}},\"name\":\"cancer\",\"offsetgroup\":\"cancer\",\"orientation\":\"v\",\"showlegend\":true,\"textposition\":\"auto\",\"type\":\"bar\",\"x\":[\"2010-12-31T00:00:00\",\"2011-12-31T00:00:00\",\"2012-12-31T00:00:00\",\"2013-12-31T00:00:00\",\"2014-12-31T00:00:00\",\"2015-12-31T00:00:00\",\"2016-12-31T00:00:00\",\"2017-12-31T00:00:00\",\"2018-12-31T00:00:00\",\"2019-12-31T00:00:00\",\"2020-12-31T00:00:00\"],\"xaxis\":\"x\",\"y\":[null,null,12.0,18.0,28.0,37.0,44.0,31.0,46.0,61.0,50.0],\"yaxis\":\"y\"},{\"alignmentgroup\":\"True\",\"hovertemplate\":\"variable=carbon<br>index=%{x}<br>value=%{y}<extra></extra>\",\"legendgroup\":\"carbon\",\"marker\":{\"color\":\"#00cc96\",\"pattern\":{\"shape\":\"\"}},\"name\":\"carbon\",\"offsetgroup\":\"carbon\",\"orientation\":\"v\",\"showlegend\":true,\"textposition\":\"auto\",\"type\":\"bar\",\"x\":[\"2010-12-31T00:00:00\",\"2011-12-31T00:00:00\",\"2012-12-31T00:00:00\",\"2013-12-31T00:00:00\",\"2014-12-31T00:00:00\",\"2015-12-31T00:00:00\",\"2016-12-31T00:00:00\",\"2017-12-31T00:00:00\",\"2018-12-31T00:00:00\",\"2019-12-31T00:00:00\",\"2020-12-31T00:00:00\"],\"xaxis\":\"x\",\"y\":[null,12.0,11.0,32.0,28.0,46.0,43.0,null,null,null,null],\"yaxis\":\"y\"},{\"alignmentgroup\":\"True\",\"hovertemplate\":\"variable=cell<br>index=%{x}<br>value=%{y}<extra></extra>\",\"legendgroup\":\"cell\",\"marker\":{\"color\":\"#ab63fa\",\"pattern\":{\"shape\":\"\"}},\"name\":\"cell\",\"offsetgroup\":\"cell\",\"orientation\":\"v\",\"showlegend\":true,\"textposition\":\"auto\",\"type\":\"bar\",\"x\":[\"2010-12-31T00:00:00\",\"2011-12-31T00:00:00\",\"2012-12-31T00:00:00\",\"2013-12-31T00:00:00\",\"2014-12-31T00:00:00\",\"2015-12-31T00:00:00\",\"2016-12-31T00:00:00\",\"2017-12-31T00:00:00\",\"2018-12-31T00:00:00\",\"2019-12-31T00:00:00\",\"2020-12-31T00:00:00\"],\"xaxis\":\"x\",\"y\":[null,null,10.0,20.0,null,null,null,null,29.0,32.0,34.0],\"yaxis\":\"y\"},{\"alignmentgroup\":\"True\",\"hovertemplate\":\"variable=cells<br>index=%{x}<br>value=%{y}<extra></extra>\",\"legendgroup\":\"cells\",\"marker\":{\"color\":\"#FFA15A\",\"pattern\":{\"shape\":\"\"}},\"name\":\"cells\",\"offsetgroup\":\"cells\",\"orientation\":\"v\",\"showlegend\":true,\"textposition\":\"auto\",\"type\":\"bar\",\"x\":[\"2010-12-31T00:00:00\",\"2011-12-31T00:00:00\",\"2012-12-31T00:00:00\",\"2013-12-31T00:00:00\",\"2014-12-31T00:00:00\",\"2015-12-31T00:00:00\",\"2016-12-31T00:00:00\",\"2017-12-31T00:00:00\",\"2018-12-31T00:00:00\",\"2019-12-31T00:00:00\",\"2020-12-31T00:00:00\"],\"xaxis\":\"x\",\"y\":[5.0,7.0,18.0,24.0,21.0,35.0,31.0,39.0,null,35.0,42.0],\"yaxis\":\"y\"},{\"alignmentgroup\":\"True\",\"hovertemplate\":\"variable=delivery<br>index=%{x}<br>value=%{y}<extra></extra>\",\"legendgroup\":\"delivery\",\"marker\":{\"color\":\"#19d3f3\",\"pattern\":{\"shape\":\"\"}},\"name\":\"delivery\",\"offsetgroup\":\"delivery\",\"orientation\":\"v\",\"showlegend\":true,\"textposition\":\"auto\",\"type\":\"bar\",\"x\":[\"2010-12-31T00:00:00\",\"2011-12-31T00:00:00\",\"2012-12-31T00:00:00\",\"2013-12-31T00:00:00\",\"2014-12-31T00:00:00\",\"2015-12-31T00:00:00\",\"2016-12-31T00:00:00\",\"2017-12-31T00:00:00\",\"2018-12-31T00:00:00\",\"2019-12-31T00:00:00\",\"2020-12-31T00:00:00\"],\"xaxis\":\"x\",\"y\":[8.0,10.0,null,21.0,25.0,26.0,30.0,null,null,32.0,null],\"yaxis\":\"y\"},{\"alignmentgroup\":\"True\",\"hovertemplate\":\"variable=drug<br>index=%{x}<br>value=%{y}<extra></extra>\",\"legendgroup\":\"drug\",\"marker\":{\"color\":\"#FF6692\",\"pattern\":{\"shape\":\"\"}},\"name\":\"drug\",\"offsetgroup\":\"drug\",\"orientation\":\"v\",\"showlegend\":true,\"textposition\":\"auto\",\"type\":\"bar\",\"x\":[\"2010-12-31T00:00:00\",\"2011-12-31T00:00:00\",\"2012-12-31T00:00:00\",\"2013-12-31T00:00:00\",\"2014-12-31T00:00:00\",\"2015-12-31T00:00:00\",\"2016-12-31T00:00:00\",\"2017-12-31T00:00:00\",\"2018-12-31T00:00:00\",\"2019-12-31T00:00:00\",\"2020-12-31T00:00:00\"],\"xaxis\":\"x\",\"y\":[null,8.0,null,null,22.0,28.0,30.0,null,null,32.0,null],\"yaxis\":\"y\"},{\"alignmentgroup\":\"True\",\"hovertemplate\":\"variable=effects<br>index=%{x}<br>value=%{y}<extra></extra>\",\"legendgroup\":\"effects\",\"marker\":{\"color\":\"#B6E880\",\"pattern\":{\"shape\":\"\"}},\"name\":\"effects\",\"offsetgroup\":\"effects\",\"orientation\":\"v\",\"showlegend\":true,\"textposition\":\"auto\",\"type\":\"bar\",\"x\":[\"2010-12-31T00:00:00\",\"2011-12-31T00:00:00\",\"2012-12-31T00:00:00\",\"2013-12-31T00:00:00\",\"2014-12-31T00:00:00\",\"2015-12-31T00:00:00\",\"2016-12-31T00:00:00\",\"2017-12-31T00:00:00\",\"2018-12-31T00:00:00\",\"2019-12-31T00:00:00\",\"2020-12-31T00:00:00\"],\"xaxis\":\"x\",\"y\":[null,null,17.0,null,null,26.0,null,null,32.0,null,null],\"yaxis\":\"y\"},{\"alignmentgroup\":\"True\",\"hovertemplate\":\"variable=exposure<br>index=%{x}<br>value=%{y}<extra></extra>\",\"legendgroup\":\"exposure\",\"marker\":{\"color\":\"#FF97FF\",\"pattern\":{\"shape\":\"\"}},\"name\":\"exposure\",\"offsetgroup\":\"exposure\",\"orientation\":\"v\",\"showlegend\":true,\"textposition\":\"auto\",\"type\":\"bar\",\"x\":[\"2010-12-31T00:00:00\",\"2011-12-31T00:00:00\",\"2012-12-31T00:00:00\",\"2013-12-31T00:00:00\",\"2014-12-31T00:00:00\",\"2015-12-31T00:00:00\",\"2016-12-31T00:00:00\",\"2017-12-31T00:00:00\",\"2018-12-31T00:00:00\",\"2019-12-31T00:00:00\",\"2020-12-31T00:00:00\"],\"xaxis\":\"x\",\"y\":[null,null,null,null,23.0,null,null,null,null,null,null],\"yaxis\":\"y\"},{\"alignmentgroup\":\"True\",\"hovertemplate\":\"variable=gold<br>index=%{x}<br>value=%{y}<extra></extra>\",\"legendgroup\":\"gold\",\"marker\":{\"color\":\"#FECB52\",\"pattern\":{\"shape\":\"\"}},\"name\":\"gold\",\"offsetgroup\":\"gold\",\"orientation\":\"v\",\"showlegend\":true,\"textposition\":\"auto\",\"type\":\"bar\",\"x\":[\"2010-12-31T00:00:00\",\"2011-12-31T00:00:00\",\"2012-12-31T00:00:00\",\"2013-12-31T00:00:00\",\"2014-12-31T00:00:00\",\"2015-12-31T00:00:00\",\"2016-12-31T00:00:00\",\"2017-12-31T00:00:00\",\"2018-12-31T00:00:00\",\"2019-12-31T00:00:00\",\"2020-12-31T00:00:00\"],\"xaxis\":\"x\",\"y\":[5.0,11.0,17.0,null,26.0,25.0,null,31.0,null,null,null],\"yaxis\":\"y\"},{\"alignmentgroup\":\"True\",\"hovertemplate\":\"variable=graphene<br>index=%{x}<br>value=%{y}<extra></extra>\",\"legendgroup\":\"graphene\",\"marker\":{\"color\":\"#636efa\",\"pattern\":{\"shape\":\"\"}},\"name\":\"graphene\",\"offsetgroup\":\"graphene\",\"orientation\":\"v\",\"showlegend\":true,\"textposition\":\"auto\",\"type\":\"bar\",\"x\":[\"2010-12-31T00:00:00\",\"2011-12-31T00:00:00\",\"2012-12-31T00:00:00\",\"2013-12-31T00:00:00\",\"2014-12-31T00:00:00\",\"2015-12-31T00:00:00\",\"2016-12-31T00:00:00\",\"2017-12-31T00:00:00\",\"2018-12-31T00:00:00\",\"2019-12-31T00:00:00\",\"2020-12-31T00:00:00\"],\"xaxis\":\"x\",\"y\":[null,null,13.0,null,null,null,null,null,null,null,null],\"yaxis\":\"y\"},{\"alignmentgroup\":\"True\",\"hovertemplate\":\"variable=human<br>index=%{x}<br>value=%{y}<extra></extra>\",\"legendgroup\":\"human\",\"marker\":{\"color\":\"#EF553B\",\"pattern\":{\"shape\":\"\"}},\"name\":\"human\",\"offsetgroup\":\"human\",\"orientation\":\"v\",\"showlegend\":true,\"textposition\":\"auto\",\"type\":\"bar\",\"x\":[\"2010-12-31T00:00:00\",\"2011-12-31T00:00:00\",\"2012-12-31T00:00:00\",\"2013-12-31T00:00:00\",\"2014-12-31T00:00:00\",\"2015-12-31T00:00:00\",\"2016-12-31T00:00:00\",\"2017-12-31T00:00:00\",\"2018-12-31T00:00:00\",\"2019-12-31T00:00:00\",\"2020-12-31T00:00:00\"],\"xaxis\":\"x\",\"y\":[null,null,null,null,null,null,null,null,null,null,30.0],\"yaxis\":\"y\"},{\"alignmentgroup\":\"True\",\"hovertemplate\":\"variable=induced<br>index=%{x}<br>value=%{y}<extra></extra>\",\"legendgroup\":\"induced\",\"marker\":{\"color\":\"#00cc96\",\"pattern\":{\"shape\":\"\"}},\"name\":\"induced\",\"offsetgroup\":\"induced\",\"orientation\":\"v\",\"showlegend\":true,\"textposition\":\"auto\",\"type\":\"bar\",\"x\":[\"2010-12-31T00:00:00\",\"2011-12-31T00:00:00\",\"2012-12-31T00:00:00\",\"2013-12-31T00:00:00\",\"2014-12-31T00:00:00\",\"2015-12-31T00:00:00\",\"2016-12-31T00:00:00\",\"2017-12-31T00:00:00\",\"2018-12-31T00:00:00\",\"2019-12-31T00:00:00\",\"2020-12-31T00:00:00\"],\"xaxis\":\"x\",\"y\":[6.0,null,11.0,null,null,null,null,null,null,null,null],\"yaxis\":\"y\"},{\"alignmentgroup\":\"True\",\"hovertemplate\":\"variable=iron<br>index=%{x}<br>value=%{y}<extra></extra>\",\"legendgroup\":\"iron\",\"marker\":{\"color\":\"#ab63fa\",\"pattern\":{\"shape\":\"\"}},\"name\":\"iron\",\"offsetgroup\":\"iron\",\"orientation\":\"v\",\"showlegend\":true,\"textposition\":\"auto\",\"type\":\"bar\",\"x\":[\"2010-12-31T00:00:00\",\"2011-12-31T00:00:00\",\"2012-12-31T00:00:00\",\"2013-12-31T00:00:00\",\"2014-12-31T00:00:00\",\"2015-12-31T00:00:00\",\"2016-12-31T00:00:00\",\"2017-12-31T00:00:00\",\"2018-12-31T00:00:00\",\"2019-12-31T00:00:00\",\"2020-12-31T00:00:00\"],\"xaxis\":\"x\",\"y\":[6.0,null,null,null,null,null,null,null,null,null,null],\"yaxis\":\"y\"},{\"alignmentgroup\":\"True\",\"hovertemplate\":\"variable=metal<br>index=%{x}<br>value=%{y}<extra></extra>\",\"legendgroup\":\"metal\",\"marker\":{\"color\":\"#FFA15A\",\"pattern\":{\"shape\":\"\"}},\"name\":\"metal\",\"offsetgroup\":\"metal\",\"orientation\":\"v\",\"showlegend\":true,\"textposition\":\"auto\",\"type\":\"bar\",\"x\":[\"2010-12-31T00:00:00\",\"2011-12-31T00:00:00\",\"2012-12-31T00:00:00\",\"2013-12-31T00:00:00\",\"2014-12-31T00:00:00\",\"2015-12-31T00:00:00\",\"2016-12-31T00:00:00\",\"2017-12-31T00:00:00\",\"2018-12-31T00:00:00\",\"2019-12-31T00:00:00\",\"2020-12-31T00:00:00\"],\"xaxis\":\"x\",\"y\":[null,null,null,null,null,null,null,null,38.0,33.0,42.0],\"yaxis\":\"y\"},{\"alignmentgroup\":\"True\",\"hovertemplate\":\"variable=metallofullerene<br>index=%{x}<br>value=%{y}<extra></extra>\",\"legendgroup\":\"metallofullerene\",\"marker\":{\"color\":\"#19d3f3\",\"pattern\":{\"shape\":\"\"}},\"name\":\"metallofullerene\",\"offsetgroup\":\"metallofullerene\",\"orientation\":\"v\",\"showlegend\":true,\"textposition\":\"auto\",\"type\":\"bar\",\"x\":[\"2010-12-31T00:00:00\",\"2011-12-31T00:00:00\",\"2012-12-31T00:00:00\",\"2013-12-31T00:00:00\",\"2014-12-31T00:00:00\",\"2015-12-31T00:00:00\",\"2016-12-31T00:00:00\",\"2017-12-31T00:00:00\",\"2018-12-31T00:00:00\",\"2019-12-31T00:00:00\",\"2020-12-31T00:00:00\"],\"xaxis\":\"x\",\"y\":[7.0,null,null,null,null,null,null,null,null,null,null],\"yaxis\":\"y\"},{\"alignmentgroup\":\"True\",\"hovertemplate\":\"variable=nanomaterials<br>index=%{x}<br>value=%{y}<extra></extra>\",\"legendgroup\":\"nanomaterials\",\"marker\":{\"color\":\"#FF6692\",\"pattern\":{\"shape\":\"\"}},\"name\":\"nanomaterials\",\"offsetgroup\":\"nanomaterials\",\"orientation\":\"v\",\"showlegend\":true,\"textposition\":\"auto\",\"type\":\"bar\",\"x\":[\"2010-12-31T00:00:00\",\"2011-12-31T00:00:00\",\"2012-12-31T00:00:00\",\"2013-12-31T00:00:00\",\"2014-12-31T00:00:00\",\"2015-12-31T00:00:00\",\"2016-12-31T00:00:00\",\"2017-12-31T00:00:00\",\"2018-12-31T00:00:00\",\"2019-12-31T00:00:00\",\"2020-12-31T00:00:00\"],\"xaxis\":\"x\",\"y\":[null,15.0,16.0,40.0,39.0,53.0,76.0,75.0,69.0,64.0,62.0],\"yaxis\":\"y\"},{\"alignmentgroup\":\"True\",\"hovertemplate\":\"variable=nanoparticle<br>index=%{x}<br>value=%{y}<extra></extra>\",\"legendgroup\":\"nanoparticle\",\"marker\":{\"color\":\"#B6E880\",\"pattern\":{\"shape\":\"\"}},\"name\":\"nanoparticle\",\"offsetgroup\":\"nanoparticle\",\"orientation\":\"v\",\"showlegend\":true,\"textposition\":\"auto\",\"type\":\"bar\",\"x\":[\"2010-12-31T00:00:00\",\"2011-12-31T00:00:00\",\"2012-12-31T00:00:00\",\"2013-12-31T00:00:00\",\"2014-12-31T00:00:00\",\"2015-12-31T00:00:00\",\"2016-12-31T00:00:00\",\"2017-12-31T00:00:00\",\"2018-12-31T00:00:00\",\"2019-12-31T00:00:00\",\"2020-12-31T00:00:00\"],\"xaxis\":\"x\",\"y\":[null,null,null,null,null,null,32.0,null,null,null,null],\"yaxis\":\"y\"},{\"alignmentgroup\":\"True\",\"hovertemplate\":\"variable=nanoparticles<br>index=%{x}<br>value=%{y}<extra></extra>\",\"legendgroup\":\"nanoparticles\",\"marker\":{\"color\":\"#FF97FF\",\"pattern\":{\"shape\":\"\"}},\"name\":\"nanoparticles\",\"offsetgroup\":\"nanoparticles\",\"orientation\":\"v\",\"showlegend\":true,\"textposition\":\"auto\",\"type\":\"bar\",\"x\":[\"2010-12-31T00:00:00\",\"2011-12-31T00:00:00\",\"2012-12-31T00:00:00\",\"2013-12-31T00:00:00\",\"2014-12-31T00:00:00\",\"2015-12-31T00:00:00\",\"2016-12-31T00:00:00\",\"2017-12-31T00:00:00\",\"2018-12-31T00:00:00\",\"2019-12-31T00:00:00\",\"2020-12-31T00:00:00\"],\"xaxis\":\"x\",\"y\":[19.0,40.0,52.0,60.0,85.0,115.0,115.0,142.0,128.0,125.0,111.0],\"yaxis\":\"y\"},{\"alignmentgroup\":\"True\",\"hovertemplate\":\"variable=nanotechnology<br>index=%{x}<br>value=%{y}<extra></extra>\",\"legendgroup\":\"nanotechnology\",\"marker\":{\"color\":\"#FECB52\",\"pattern\":{\"shape\":\"\"}},\"name\":\"nanotechnology\",\"offsetgroup\":\"nanotechnology\",\"orientation\":\"v\",\"showlegend\":true,\"textposition\":\"auto\",\"type\":\"bar\",\"x\":[\"2010-12-31T00:00:00\",\"2011-12-31T00:00:00\",\"2012-12-31T00:00:00\",\"2013-12-31T00:00:00\",\"2014-12-31T00:00:00\",\"2015-12-31T00:00:00\",\"2016-12-31T00:00:00\",\"2017-12-31T00:00:00\",\"2018-12-31T00:00:00\",\"2019-12-31T00:00:00\",\"2020-12-31T00:00:00\"],\"xaxis\":\"x\",\"y\":[5.0,null,null,null,null,null,null,null,null,null,null],\"yaxis\":\"y\"},{\"alignmentgroup\":\"True\",\"hovertemplate\":\"variable=nanotubes<br>index=%{x}<br>value=%{y}<extra></extra>\",\"legendgroup\":\"nanotubes\",\"marker\":{\"color\":\"#636efa\",\"pattern\":{\"shape\":\"\"}},\"name\":\"nanotubes\",\"offsetgroup\":\"nanotubes\",\"orientation\":\"v\",\"showlegend\":true,\"textposition\":\"auto\",\"type\":\"bar\",\"x\":[\"2010-12-31T00:00:00\",\"2011-12-31T00:00:00\",\"2012-12-31T00:00:00\",\"2013-12-31T00:00:00\",\"2014-12-31T00:00:00\",\"2015-12-31T00:00:00\",\"2016-12-31T00:00:00\",\"2017-12-31T00:00:00\",\"2018-12-31T00:00:00\",\"2019-12-31T00:00:00\",\"2020-12-31T00:00:00\"],\"xaxis\":\"x\",\"y\":[null,11.0,null,22.0,null,null,null,null,null,null,null],\"yaxis\":\"y\"},{\"alignmentgroup\":\"True\",\"hovertemplate\":\"variable=oxide<br>index=%{x}<br>value=%{y}<extra></extra>\",\"legendgroup\":\"oxide\",\"marker\":{\"color\":\"#EF553B\",\"pattern\":{\"shape\":\"\"}},\"name\":\"oxide\",\"offsetgroup\":\"oxide\",\"orientation\":\"v\",\"showlegend\":true,\"textposition\":\"auto\",\"type\":\"bar\",\"x\":[\"2010-12-31T00:00:00\",\"2011-12-31T00:00:00\",\"2012-12-31T00:00:00\",\"2013-12-31T00:00:00\",\"2014-12-31T00:00:00\",\"2015-12-31T00:00:00\",\"2016-12-31T00:00:00\",\"2017-12-31T00:00:00\",\"2018-12-31T00:00:00\",\"2019-12-31T00:00:00\",\"2020-12-31T00:00:00\"],\"xaxis\":\"x\",\"y\":[7.0,null,null,null,24.0,null,29.0,31.0,39.0,null,34.0],\"yaxis\":\"y\"},{\"alignmentgroup\":\"True\",\"hovertemplate\":\"variable=poly<br>index=%{x}<br>value=%{y}<extra></extra>\",\"legendgroup\":\"poly\",\"marker\":{\"color\":\"#00cc96\",\"pattern\":{\"shape\":\"\"}},\"name\":\"poly\",\"offsetgroup\":\"poly\",\"orientation\":\"v\",\"showlegend\":true,\"textposition\":\"auto\",\"type\":\"bar\",\"x\":[\"2010-12-31T00:00:00\",\"2011-12-31T00:00:00\",\"2012-12-31T00:00:00\",\"2013-12-31T00:00:00\",\"2014-12-31T00:00:00\",\"2015-12-31T00:00:00\",\"2016-12-31T00:00:00\",\"2017-12-31T00:00:00\",\"2018-12-31T00:00:00\",\"2019-12-31T00:00:00\",\"2020-12-31T00:00:00\"],\"xaxis\":\"x\",\"y\":[null,9.0,null,null,null,null,null,null,null,null,null],\"yaxis\":\"y\"},{\"alignmentgroup\":\"True\",\"hovertemplate\":\"variable=safety<br>index=%{x}<br>value=%{y}<extra></extra>\",\"legendgroup\":\"safety\",\"marker\":{\"color\":\"#ab63fa\",\"pattern\":{\"shape\":\"\"}},\"name\":\"safety\",\"offsetgroup\":\"safety\",\"orientation\":\"v\",\"showlegend\":true,\"textposition\":\"auto\",\"type\":\"bar\",\"x\":[\"2010-12-31T00:00:00\",\"2011-12-31T00:00:00\",\"2012-12-31T00:00:00\",\"2013-12-31T00:00:00\",\"2014-12-31T00:00:00\",\"2015-12-31T00:00:00\",\"2016-12-31T00:00:00\",\"2017-12-31T00:00:00\",\"2018-12-31T00:00:00\",\"2019-12-31T00:00:00\",\"2020-12-31T00:00:00\"],\"xaxis\":\"x\",\"y\":[null,null,null,17.0,null,null,null,null,null,null,null],\"yaxis\":\"y\"},{\"alignmentgroup\":\"True\",\"hovertemplate\":\"variable=surface<br>index=%{x}<br>value=%{y}<extra></extra>\",\"legendgroup\":\"surface\",\"marker\":{\"color\":\"#FFA15A\",\"pattern\":{\"shape\":\"\"}},\"name\":\"surface\",\"offsetgroup\":\"surface\",\"orientation\":\"v\",\"showlegend\":true,\"textposition\":\"auto\",\"type\":\"bar\",\"x\":[\"2010-12-31T00:00:00\",\"2011-12-31T00:00:00\",\"2012-12-31T00:00:00\",\"2013-12-31T00:00:00\",\"2014-12-31T00:00:00\",\"2015-12-31T00:00:00\",\"2016-12-31T00:00:00\",\"2017-12-31T00:00:00\",\"2018-12-31T00:00:00\",\"2019-12-31T00:00:00\",\"2020-12-31T00:00:00\"],\"xaxis\":\"x\",\"y\":[null,8.0,null,null,null,null,null,null,null,null,null],\"yaxis\":\"y\"},{\"alignmentgroup\":\"True\",\"hovertemplate\":\"variable=therapy<br>index=%{x}<br>value=%{y}<extra></extra>\",\"legendgroup\":\"therapy\",\"marker\":{\"color\":\"#19d3f3\",\"pattern\":{\"shape\":\"\"}},\"name\":\"therapy\",\"offsetgroup\":\"therapy\",\"orientation\":\"v\",\"showlegend\":true,\"textposition\":\"auto\",\"type\":\"bar\",\"x\":[\"2010-12-31T00:00:00\",\"2011-12-31T00:00:00\",\"2012-12-31T00:00:00\",\"2013-12-31T00:00:00\",\"2014-12-31T00:00:00\",\"2015-12-31T00:00:00\",\"2016-12-31T00:00:00\",\"2017-12-31T00:00:00\",\"2018-12-31T00:00:00\",\"2019-12-31T00:00:00\",\"2020-12-31T00:00:00\"],\"xaxis\":\"x\",\"y\":[null,null,null,null,null,null,33.0,39.0,37.0,48.0,34.0],\"yaxis\":\"y\"},{\"alignmentgroup\":\"True\",\"hovertemplate\":\"variable=toxicity<br>index=%{x}<br>value=%{y}<extra></extra>\",\"legendgroup\":\"toxicity\",\"marker\":{\"color\":\"#FF6692\",\"pattern\":{\"shape\":\"\"}},\"name\":\"toxicity\",\"offsetgroup\":\"toxicity\",\"orientation\":\"v\",\"showlegend\":true,\"textposition\":\"auto\",\"type\":\"bar\",\"x\":[\"2010-12-31T00:00:00\",\"2011-12-31T00:00:00\",\"2012-12-31T00:00:00\",\"2013-12-31T00:00:00\",\"2014-12-31T00:00:00\",\"2015-12-31T00:00:00\",\"2016-12-31T00:00:00\",\"2017-12-31T00:00:00\",\"2018-12-31T00:00:00\",\"2019-12-31T00:00:00\",\"2020-12-31T00:00:00\"],\"xaxis\":\"x\",\"y\":[null,null,null,17.0,null,28.0,null,31.0,null,null,null],\"yaxis\":\"y\"},{\"alignmentgroup\":\"True\",\"hovertemplate\":\"variable=tumor<br>index=%{x}<br>value=%{y}<extra></extra>\",\"legendgroup\":\"tumor\",\"marker\":{\"color\":\"#B6E880\",\"pattern\":{\"shape\":\"\"}},\"name\":\"tumor\",\"offsetgroup\":\"tumor\",\"orientation\":\"v\",\"showlegend\":true,\"textposition\":\"auto\",\"type\":\"bar\",\"x\":[\"2010-12-31T00:00:00\",\"2011-12-31T00:00:00\",\"2012-12-31T00:00:00\",\"2013-12-31T00:00:00\",\"2014-12-31T00:00:00\",\"2015-12-31T00:00:00\",\"2016-12-31T00:00:00\",\"2017-12-31T00:00:00\",\"2018-12-31T00:00:00\",\"2019-12-31T00:00:00\",\"2020-12-31T00:00:00\"],\"xaxis\":\"x\",\"y\":[5.0,null,null,null,null,null,null,31.0,42.0,49.0,35.0],\"yaxis\":\"y\"}],                        {\"barmode\":\"relative\",\"legend\":{\"title\":{\"text\":\"variable\"},\"tracegroupgap\":0},\"margin\":{\"t\":60},\"template\":{\"data\":{\"bar\":[{\"error_x\":{\"color\":\"#2a3f5f\"},\"error_y\":{\"color\":\"#2a3f5f\"},\"marker\":{\"line\":{\"color\":\"#E5ECF6\",\"width\":0.5},\"pattern\":{\"fillmode\":\"overlay\",\"size\":10,\"solidity\":0.2}},\"type\":\"bar\"}],\"barpolar\":[{\"marker\":{\"line\":{\"color\":\"#E5ECF6\",\"width\":0.5},\"pattern\":{\"fillmode\":\"overlay\",\"size\":10,\"solidity\":0.2}},\"type\":\"barpolar\"}],\"carpet\":[{\"aaxis\":{\"endlinecolor\":\"#2a3f5f\",\"gridcolor\":\"white\",\"linecolor\":\"white\",\"minorgridcolor\":\"white\",\"startlinecolor\":\"#2a3f5f\"},\"baxis\":{\"endlinecolor\":\"#2a3f5f\",\"gridcolor\":\"white\",\"linecolor\":\"white\",\"minorgridcolor\":\"white\",\"startlinecolor\":\"#2a3f5f\"},\"type\":\"carpet\"}],\"choropleth\":[{\"colorbar\":{\"outlinewidth\":0,\"ticks\":\"\"},\"type\":\"choropleth\"}],\"contour\":[{\"colorbar\":{\"outlinewidth\":0,\"ticks\":\"\"},\"colorscale\":[[0.0,\"#0d0887\"],[0.1111111111111111,\"#46039f\"],[0.2222222222222222,\"#7201a8\"],[0.3333333333333333,\"#9c179e\"],[0.4444444444444444,\"#bd3786\"],[0.5555555555555556,\"#d8576b\"],[0.6666666666666666,\"#ed7953\"],[0.7777777777777778,\"#fb9f3a\"],[0.8888888888888888,\"#fdca26\"],[1.0,\"#f0f921\"]],\"type\":\"contour\"}],\"contourcarpet\":[{\"colorbar\":{\"outlinewidth\":0,\"ticks\":\"\"},\"type\":\"contourcarpet\"}],\"heatmap\":[{\"colorbar\":{\"outlinewidth\":0,\"ticks\":\"\"},\"colorscale\":[[0.0,\"#0d0887\"],[0.1111111111111111,\"#46039f\"],[0.2222222222222222,\"#7201a8\"],[0.3333333333333333,\"#9c179e\"],[0.4444444444444444,\"#bd3786\"],[0.5555555555555556,\"#d8576b\"],[0.6666666666666666,\"#ed7953\"],[0.7777777777777778,\"#fb9f3a\"],[0.8888888888888888,\"#fdca26\"],[1.0,\"#f0f921\"]],\"type\":\"heatmap\"}],\"heatmapgl\":[{\"colorbar\":{\"outlinewidth\":0,\"ticks\":\"\"},\"colorscale\":[[0.0,\"#0d0887\"],[0.1111111111111111,\"#46039f\"],[0.2222222222222222,\"#7201a8\"],[0.3333333333333333,\"#9c179e\"],[0.4444444444444444,\"#bd3786\"],[0.5555555555555556,\"#d8576b\"],[0.6666666666666666,\"#ed7953\"],[0.7777777777777778,\"#fb9f3a\"],[0.8888888888888888,\"#fdca26\"],[1.0,\"#f0f921\"]],\"type\":\"heatmapgl\"}],\"histogram\":[{\"marker\":{\"pattern\":{\"fillmode\":\"overlay\",\"size\":10,\"solidity\":0.2}},\"type\":\"histogram\"}],\"histogram2d\":[{\"colorbar\":{\"outlinewidth\":0,\"ticks\":\"\"},\"colorscale\":[[0.0,\"#0d0887\"],[0.1111111111111111,\"#46039f\"],[0.2222222222222222,\"#7201a8\"],[0.3333333333333333,\"#9c179e\"],[0.4444444444444444,\"#bd3786\"],[0.5555555555555556,\"#d8576b\"],[0.6666666666666666,\"#ed7953\"],[0.7777777777777778,\"#fb9f3a\"],[0.8888888888888888,\"#fdca26\"],[1.0,\"#f0f921\"]],\"type\":\"histogram2d\"}],\"histogram2dcontour\":[{\"colorbar\":{\"outlinewidth\":0,\"ticks\":\"\"},\"colorscale\":[[0.0,\"#0d0887\"],[0.1111111111111111,\"#46039f\"],[0.2222222222222222,\"#7201a8\"],[0.3333333333333333,\"#9c179e\"],[0.4444444444444444,\"#bd3786\"],[0.5555555555555556,\"#d8576b\"],[0.6666666666666666,\"#ed7953\"],[0.7777777777777778,\"#fb9f3a\"],[0.8888888888888888,\"#fdca26\"],[1.0,\"#f0f921\"]],\"type\":\"histogram2dcontour\"}],\"mesh3d\":[{\"colorbar\":{\"outlinewidth\":0,\"ticks\":\"\"},\"type\":\"mesh3d\"}],\"parcoords\":[{\"line\":{\"colorbar\":{\"outlinewidth\":0,\"ticks\":\"\"}},\"type\":\"parcoords\"}],\"pie\":[{\"automargin\":true,\"type\":\"pie\"}],\"scatter\":[{\"marker\":{\"colorbar\":{\"outlinewidth\":0,\"ticks\":\"\"}},\"type\":\"scatter\"}],\"scatter3d\":[{\"line\":{\"colorbar\":{\"outlinewidth\":0,\"ticks\":\"\"}},\"marker\":{\"colorbar\":{\"outlinewidth\":0,\"ticks\":\"\"}},\"type\":\"scatter3d\"}],\"scattercarpet\":[{\"marker\":{\"colorbar\":{\"outlinewidth\":0,\"ticks\":\"\"}},\"type\":\"scattercarpet\"}],\"scattergeo\":[{\"marker\":{\"colorbar\":{\"outlinewidth\":0,\"ticks\":\"\"}},\"type\":\"scattergeo\"}],\"scattergl\":[{\"marker\":{\"colorbar\":{\"outlinewidth\":0,\"ticks\":\"\"}},\"type\":\"scattergl\"}],\"scattermapbox\":[{\"marker\":{\"colorbar\":{\"outlinewidth\":0,\"ticks\":\"\"}},\"type\":\"scattermapbox\"}],\"scatterpolar\":[{\"marker\":{\"colorbar\":{\"outlinewidth\":0,\"ticks\":\"\"}},\"type\":\"scatterpolar\"}],\"scatterpolargl\":[{\"marker\":{\"colorbar\":{\"outlinewidth\":0,\"ticks\":\"\"}},\"type\":\"scatterpolargl\"}],\"scatterternary\":[{\"marker\":{\"colorbar\":{\"outlinewidth\":0,\"ticks\":\"\"}},\"type\":\"scatterternary\"}],\"surface\":[{\"colorbar\":{\"outlinewidth\":0,\"ticks\":\"\"},\"colorscale\":[[0.0,\"#0d0887\"],[0.1111111111111111,\"#46039f\"],[0.2222222222222222,\"#7201a8\"],[0.3333333333333333,\"#9c179e\"],[0.4444444444444444,\"#bd3786\"],[0.5555555555555556,\"#d8576b\"],[0.6666666666666666,\"#ed7953\"],[0.7777777777777778,\"#fb9f3a\"],[0.8888888888888888,\"#fdca26\"],[1.0,\"#f0f921\"]],\"type\":\"surface\"}],\"table\":[{\"cells\":{\"fill\":{\"color\":\"#EBF0F8\"},\"line\":{\"color\":\"white\"}},\"header\":{\"fill\":{\"color\":\"#C8D4E3\"},\"line\":{\"color\":\"white\"}},\"type\":\"table\"}]},\"layout\":{\"annotationdefaults\":{\"arrowcolor\":\"#2a3f5f\",\"arrowhead\":0,\"arrowwidth\":1},\"autotypenumbers\":\"strict\",\"coloraxis\":{\"colorbar\":{\"outlinewidth\":0,\"ticks\":\"\"}},\"colorscale\":{\"diverging\":[[0,\"#8e0152\"],[0.1,\"#c51b7d\"],[0.2,\"#de77ae\"],[0.3,\"#f1b6da\"],[0.4,\"#fde0ef\"],[0.5,\"#f7f7f7\"],[0.6,\"#e6f5d0\"],[0.7,\"#b8e186\"],[0.8,\"#7fbc41\"],[0.9,\"#4d9221\"],[1,\"#276419\"]],\"sequential\":[[0.0,\"#0d0887\"],[0.1111111111111111,\"#46039f\"],[0.2222222222222222,\"#7201a8\"],[0.3333333333333333,\"#9c179e\"],[0.4444444444444444,\"#bd3786\"],[0.5555555555555556,\"#d8576b\"],[0.6666666666666666,\"#ed7953\"],[0.7777777777777778,\"#fb9f3a\"],[0.8888888888888888,\"#fdca26\"],[1.0,\"#f0f921\"]],\"sequentialminus\":[[0.0,\"#0d0887\"],[0.1111111111111111,\"#46039f\"],[0.2222222222222222,\"#7201a8\"],[0.3333333333333333,\"#9c179e\"],[0.4444444444444444,\"#bd3786\"],[0.5555555555555556,\"#d8576b\"],[0.6666666666666666,\"#ed7953\"],[0.7777777777777778,\"#fb9f3a\"],[0.8888888888888888,\"#fdca26\"],[1.0,\"#f0f921\"]]},\"colorway\":[\"#636efa\",\"#EF553B\",\"#00cc96\",\"#ab63fa\",\"#FFA15A\",\"#19d3f3\",\"#FF6692\",\"#B6E880\",\"#FF97FF\",\"#FECB52\"],\"font\":{\"color\":\"#2a3f5f\"},\"geo\":{\"bgcolor\":\"white\",\"lakecolor\":\"white\",\"landcolor\":\"#E5ECF6\",\"showlakes\":true,\"showland\":true,\"subunitcolor\":\"white\"},\"hoverlabel\":{\"align\":\"left\"},\"hovermode\":\"closest\",\"mapbox\":{\"style\":\"light\"},\"paper_bgcolor\":\"white\",\"plot_bgcolor\":\"#E5ECF6\",\"polar\":{\"angularaxis\":{\"gridcolor\":\"white\",\"linecolor\":\"white\",\"ticks\":\"\"},\"bgcolor\":\"#E5ECF6\",\"radialaxis\":{\"gridcolor\":\"white\",\"linecolor\":\"white\",\"ticks\":\"\"}},\"scene\":{\"xaxis\":{\"backgroundcolor\":\"#E5ECF6\",\"gridcolor\":\"white\",\"gridwidth\":2,\"linecolor\":\"white\",\"showbackground\":true,\"ticks\":\"\",\"zerolinecolor\":\"white\"},\"yaxis\":{\"backgroundcolor\":\"#E5ECF6\",\"gridcolor\":\"white\",\"gridwidth\":2,\"linecolor\":\"white\",\"showbackground\":true,\"ticks\":\"\",\"zerolinecolor\":\"white\"},\"zaxis\":{\"backgroundcolor\":\"#E5ECF6\",\"gridcolor\":\"white\",\"gridwidth\":2,\"linecolor\":\"white\",\"showbackground\":true,\"ticks\":\"\",\"zerolinecolor\":\"white\"}},\"shapedefaults\":{\"line\":{\"color\":\"#2a3f5f\"}},\"ternary\":{\"aaxis\":{\"gridcolor\":\"white\",\"linecolor\":\"white\",\"ticks\":\"\"},\"baxis\":{\"gridcolor\":\"white\",\"linecolor\":\"white\",\"ticks\":\"\"},\"bgcolor\":\"#E5ECF6\",\"caxis\":{\"gridcolor\":\"white\",\"linecolor\":\"white\",\"ticks\":\"\"}},\"title\":{\"x\":0.05},\"xaxis\":{\"automargin\":true,\"gridcolor\":\"white\",\"linecolor\":\"white\",\"ticks\":\"\",\"title\":{\"standoff\":15},\"zerolinecolor\":\"white\",\"zerolinewidth\":2},\"yaxis\":{\"automargin\":true,\"gridcolor\":\"white\",\"linecolor\":\"white\",\"ticks\":\"\",\"title\":{\"standoff\":15},\"zerolinecolor\":\"white\",\"zerolinewidth\":2}}},\"xaxis\":{\"anchor\":\"y\",\"domain\":[0.0,1.0],\"title\":{\"text\":\"index\"}},\"yaxis\":{\"anchor\":\"x\",\"domain\":[0.0,1.0],\"title\":{\"text\":\"value\"}}},                        {\"responsive\": true}                    ).then(function(){\n",
       "                            \n",
       "var gd = document.getElementById('8bfc98d1-511e-4806-a179-afde95f5f3e7');\n",
       "var x = new MutationObserver(function (mutations, observer) {{\n",
       "        var display = window.getComputedStyle(gd).display;\n",
       "        if (!display || display === 'none') {{\n",
       "            console.log([gd, 'removed!']);\n",
       "            Plotly.purge(gd);\n",
       "            observer.disconnect();\n",
       "        }}\n",
       "}});\n",
       "\n",
       "// Listen for the removal of the full notebook cells\n",
       "var notebookContainer = gd.closest('#notebook-container');\n",
       "if (notebookContainer) {{\n",
       "    x.observe(notebookContainer, {childList: true});\n",
       "}}\n",
       "\n",
       "// Listen for the clearing of the current output cell\n",
       "var outputEl = gd.closest('.output');\n",
       "if (outputEl) {{\n",
       "    x.observe(outputEl, {childList: true});\n",
       "}}\n",
       "\n",
       "                        })                };                });            </script>        </div>"
      ]
     },
     "metadata": {},
     "output_type": "display_data"
    }
   ],
   "source": [
    "fig = px.bar(big_dict_df)\n",
    "fig.show()"
   ]
  },
  {
   "cell_type": "code",
   "execution_count": 26,
   "metadata": {
    "collapsed": true,
    "jupyter": {
     "outputs_hidden": true
    }
   },
   "outputs": [
    {
     "data": {
      "text/plain": [
       "\u001b[1;31mSignature:\u001b[0m\n",
       "\u001b[0mmain_df\u001b[0m\u001b[1;33m.\u001b[0m\u001b[0msort_values\u001b[0m\u001b[1;33m(\u001b[0m\u001b[1;33m\n",
       "\u001b[0m    \u001b[0mby\u001b[0m\u001b[1;33m,\u001b[0m\u001b[1;33m\n",
       "\u001b[0m    \u001b[0maxis\u001b[0m\u001b[1;33m=\u001b[0m\u001b[1;36m0\u001b[0m\u001b[1;33m,\u001b[0m\u001b[1;33m\n",
       "\u001b[0m    \u001b[0mascending\u001b[0m\u001b[1;33m=\u001b[0m\u001b[1;32mTrue\u001b[0m\u001b[1;33m,\u001b[0m\u001b[1;33m\n",
       "\u001b[0m    \u001b[0minplace\u001b[0m\u001b[1;33m=\u001b[0m\u001b[1;32mFalse\u001b[0m\u001b[1;33m,\u001b[0m\u001b[1;33m\n",
       "\u001b[0m    \u001b[0mkind\u001b[0m\u001b[1;33m=\u001b[0m\u001b[1;34m'quicksort'\u001b[0m\u001b[1;33m,\u001b[0m\u001b[1;33m\n",
       "\u001b[0m    \u001b[0mna_position\u001b[0m\u001b[1;33m=\u001b[0m\u001b[1;34m'last'\u001b[0m\u001b[1;33m,\u001b[0m\u001b[1;33m\n",
       "\u001b[0m    \u001b[0mignore_index\u001b[0m\u001b[1;33m=\u001b[0m\u001b[1;32mFalse\u001b[0m\u001b[1;33m,\u001b[0m\u001b[1;33m\n",
       "\u001b[0m    \u001b[0mkey\u001b[0m\u001b[1;33m:\u001b[0m \u001b[0mUnion\u001b[0m\u001b[1;33m[\u001b[0m\u001b[0mCallable\u001b[0m\u001b[1;33m[\u001b[0m\u001b[1;33m[\u001b[0m\u001b[0mForwardRef\u001b[0m\u001b[1;33m(\u001b[0m\u001b[1;34m'Series'\u001b[0m\u001b[1;33m)\u001b[0m\u001b[1;33m]\u001b[0m\u001b[1;33m,\u001b[0m \u001b[0mUnion\u001b[0m\u001b[1;33m[\u001b[0m\u001b[0mForwardRef\u001b[0m\u001b[1;33m(\u001b[0m\u001b[1;34m'Series'\u001b[0m\u001b[1;33m)\u001b[0m\u001b[1;33m,\u001b[0m \u001b[1;33m~\u001b[0m\u001b[0mAnyArrayLike\u001b[0m\u001b[1;33m]\u001b[0m\u001b[1;33m]\u001b[0m\u001b[1;33m,\u001b[0m \u001b[0mNoneType\u001b[0m\u001b[1;33m]\u001b[0m \u001b[1;33m=\u001b[0m \u001b[1;32mNone\u001b[0m\u001b[1;33m,\u001b[0m\u001b[1;33m\n",
       "\u001b[0m\u001b[1;33m)\u001b[0m\u001b[1;33m\u001b[0m\u001b[1;33m\u001b[0m\u001b[0m\n",
       "\u001b[1;31mDocstring:\u001b[0m\n",
       "Sort by the values along either axis.\n",
       "\n",
       "Parameters\n",
       "----------\n",
       "        by : str or list of str\n",
       "            Name or list of names to sort by.\n",
       "\n",
       "            - if `axis` is 0 or `'index'` then `by` may contain index\n",
       "              levels and/or column labels.\n",
       "            - if `axis` is 1 or `'columns'` then `by` may contain column\n",
       "              levels and/or index labels.\n",
       "\n",
       "            .. versionchanged:: 0.23.0\n",
       "\n",
       "               Allow specifying index or column level names.\n",
       "axis : {0 or 'index', 1 or 'columns'}, default 0\n",
       "     Axis to be sorted.\n",
       "ascending : bool or list of bool, default True\n",
       "     Sort ascending vs. descending. Specify list for multiple sort\n",
       "     orders.  If this is a list of bools, must match the length of\n",
       "     the by.\n",
       "inplace : bool, default False\n",
       "     If True, perform operation in-place.\n",
       "kind : {'quicksort', 'mergesort', 'heapsort'}, default 'quicksort'\n",
       "     Choice of sorting algorithm. See also ndarray.np.sort for more\n",
       "     information.  `mergesort` is the only stable algorithm. For\n",
       "     DataFrames, this option is only applied when sorting on a single\n",
       "     column or label.\n",
       "na_position : {'first', 'last'}, default 'last'\n",
       "     Puts NaNs at the beginning if `first`; `last` puts NaNs at the\n",
       "     end.\n",
       "ignore_index : bool, default False\n",
       "     If True, the resulting axis will be labeled 0, 1, …, n - 1.\n",
       "\n",
       "     .. versionadded:: 1.0.0\n",
       "\n",
       "key : callable, optional\n",
       "    Apply the key function to the values\n",
       "    before sorting. This is similar to the `key` argument in the\n",
       "    builtin :meth:`sorted` function, with the notable difference that\n",
       "    this `key` function should be *vectorized*. It should expect a\n",
       "    ``Series`` and return a Series with the same shape as the input.\n",
       "    It will be applied to each column in `by` independently.\n",
       "\n",
       "    .. versionadded:: 1.1.0\n",
       "\n",
       "Returns\n",
       "-------\n",
       "DataFrame or None\n",
       "    DataFrame with sorted values if inplace=False, None otherwise.\n",
       "\n",
       "See Also\n",
       "--------\n",
       "DataFrame.sort_index : Sort a DataFrame by the index.\n",
       "Series.sort_values : Similar method for a Series.\n",
       "\n",
       "Examples\n",
       "--------\n",
       ">>> df = pd.DataFrame({\n",
       "...     'col1': ['A', 'A', 'B', np.nan, 'D', 'C'],\n",
       "...     'col2': [2, 1, 9, 8, 7, 4],\n",
       "...     'col3': [0, 1, 9, 4, 2, 3],\n",
       "...     'col4': ['a', 'B', 'c', 'D', 'e', 'F']\n",
       "... })\n",
       ">>> df\n",
       "  col1  col2  col3 col4\n",
       "0    A     2     0    a\n",
       "1    A     1     1    B\n",
       "2    B     9     9    c\n",
       "3  NaN     8     4    D\n",
       "4    D     7     2    e\n",
       "5    C     4     3    F\n",
       "\n",
       "Sort by col1\n",
       "\n",
       ">>> df.sort_values(by=['col1'])\n",
       "  col1  col2  col3 col4\n",
       "0    A     2     0    a\n",
       "1    A     1     1    B\n",
       "2    B     9     9    c\n",
       "5    C     4     3    F\n",
       "4    D     7     2    e\n",
       "3  NaN     8     4    D\n",
       "\n",
       "Sort by multiple columns\n",
       "\n",
       ">>> df.sort_values(by=['col1', 'col2'])\n",
       "  col1  col2  col3 col4\n",
       "1    A     1     1    B\n",
       "0    A     2     0    a\n",
       "2    B     9     9    c\n",
       "5    C     4     3    F\n",
       "4    D     7     2    e\n",
       "3  NaN     8     4    D\n",
       "\n",
       "Sort Descending\n",
       "\n",
       ">>> df.sort_values(by='col1', ascending=False)\n",
       "  col1  col2  col3 col4\n",
       "4    D     7     2    e\n",
       "5    C     4     3    F\n",
       "2    B     9     9    c\n",
       "0    A     2     0    a\n",
       "1    A     1     1    B\n",
       "3  NaN     8     4    D\n",
       "\n",
       "Putting NAs first\n",
       "\n",
       ">>> df.sort_values(by='col1', ascending=False, na_position='first')\n",
       "  col1  col2  col3 col4\n",
       "3  NaN     8     4    D\n",
       "4    D     7     2    e\n",
       "5    C     4     3    F\n",
       "2    B     9     9    c\n",
       "0    A     2     0    a\n",
       "1    A     1     1    B\n",
       "\n",
       "Sorting with a key function\n",
       "\n",
       ">>> df.sort_values(by='col4', key=lambda col: col.str.lower())\n",
       "   col1  col2  col3 col4\n",
       "0    A     2     0    a\n",
       "1    A     1     1    B\n",
       "2    B     9     9    c\n",
       "3  NaN     8     4    D\n",
       "4    D     7     2    e\n",
       "5    C     4     3    F\n",
       "\u001b[1;31mFile:\u001b[0m      c:\\users\\glen\\anaconda3\\envs\\pyvizenv\\lib\\site-packages\\pandas\\core\\frame.py\n",
       "\u001b[1;31mType:\u001b[0m      method\n"
      ]
     },
     "metadata": {},
     "output_type": "display_data"
    }
   ],
   "source": [
    "?main_df.sort_values"
   ]
  },
  {
   "cell_type": "code",
   "execution_count": 82,
   "metadata": {
    "collapsed": true,
    "jupyter": {
     "outputs_hidden": true
    }
   },
   "outputs": [
    {
     "data": {
      "image/png": "[encoded data removed]",
      "text/plain": [
       "<Figure size 864x576 with 1 Axes>"
      ]
     },
     "metadata": {
      "needs_background": "light"
     },
     "output_type": "display_data"
    }
   ],
   "source": [
    "plt.rcParams['figure.figsize'] = [12, 8]\n",
    "plt.rc('font', size=15) \n",
    "bar = plt.bar(*zip(*text_top20.items()), width = .6, orientation = 'vertical')\n",
    "plt.xticks(rotation = 90)\n",
    "plt.xlabel(\"Words\")\n",
    "plt.ylabel(\"Count\")\n",
    "plt.title(\"Top 10 Frequent Words\")\n",
    "plt.show()"
   ]
  },
  {
   "cell_type": "code",
   "execution_count": null,
   "metadata": {},
   "outputs": [],
   "source": [
    "rel_freq=wordcloud.words_\n",
    "print(list(word_freq.items())[:10])\n",
    "print(list(rel_freq.items())[:10])"
   ]
  },
  {
   "cell_type": "code",
   "execution_count": null,
   "metadata": {},
   "outputs": [],
   "source": []
  },
  {
   "cell_type": "code",
   "execution_count": null,
   "metadata": {},
   "outputs": [],
   "source": [
    "df = pd.DataFrame.from_dict(text2_dict.items())\n",
    "df.columns = ['Word', 'Count']"
   ]
  },
  {
   "cell_type": "code",
   "execution_count": null,
   "metadata": {},
   "outputs": [],
   "source": [
    "\n"
   ]
  },
  {
   "cell_type": "code",
   "execution_count": null,
   "metadata": {},
   "outputs": [],
   "source": [
    "fig = px.bar(df, x='Word', y='Count')\n",
    "fig.show()"
   ]
  },
  {
   "cell_type": "code",
   "execution_count": null,
   "metadata": {},
   "outputs": [],
   "source": []
  }
 ],
 "metadata": {
  "kernelspec": {
   "display_name": "Python 3",
   "language": "python",
   "name": "python3"
  },
  "language_info": {
   "codemirror_mode": {
    "name": "ipython",
    "version": 3
   },
   "file_extension": ".py",
   "mimetype": "text/x-python",
   "name": "python",
   "nbconvert_exporter": "python",
   "pygments_lexer": "ipython3",
   "version": "3.7.9"
  }
 },
 "nbformat": 4,
 "nbformat_minor": 4
}
