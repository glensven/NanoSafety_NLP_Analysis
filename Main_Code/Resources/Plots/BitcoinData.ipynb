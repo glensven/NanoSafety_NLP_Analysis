{
 "cells": [
  {
   "cell_type": "code",
   "execution_count": 1,
   "metadata": {},
   "outputs": [
    {
     "name": "stdout",
     "output_type": "stream",
     "text": [
      "Collecting datanews\n",
      "  Downloading datanews-0.0.7-py3-none-any.whl (5.3 kB)\n",
      "Requirement already satisfied: urllib3 in c:\\users\\jesus\\anaconda3\\envs\\pyvizenv\\lib\\site-packages (from datanews) (1.24.3)\n",
      "Requirement already satisfied: requests in c:\\users\\jesus\\anaconda3\\envs\\pyvizenv\\lib\\site-packages (from datanews) (2.25.1)\n",
      "Requirement already satisfied: idna<3,>=2.5 in c:\\users\\jesus\\anaconda3\\envs\\pyvizenv\\lib\\site-packages (from requests->datanews) (2.8)\n",
      "Requirement already satisfied: chardet<5,>=3.0.2 in c:\\users\\jesus\\anaconda3\\envs\\pyvizenv\\lib\\site-packages (from requests->datanews) (3.0.4)\n",
      "Requirement already satisfied: certifi>=2017.4.17 in c:\\users\\jesus\\anaconda3\\envs\\pyvizenv\\lib\\site-packages (from requests->datanews) (2020.12.5)\n",
      "Installing collected packages: datanewsNote: you may need to restart the kernel to use updated packages.\n",
      "\n",
      "Successfully installed datanews-0.0.7\n"
     ]
    }
   ],
   "source": [
    "pip install datanews"
   ]
  },
  {
   "cell_type": "code",
   "execution_count": 1,
   "metadata": {},
   "outputs": [],
   "source": [
    "import requests\n",
    "import pandas as pd\n",
    "import json\n",
    "from path import Path\n",
    "from dotenv import load_dotenv\n",
    "import os\n",
    "import requests\n",
    "import datanews\n",
    "from datetime import datetime\n",
    "import asyncio\n",
    "import time"
   ]
  },
  {
   "cell_type": "code",
   "execution_count": 2,
   "metadata": {},
   "outputs": [
    {
     "data": {
      "text/plain": [
       "True"
      ]
     },
     "execution_count": 2,
     "metadata": {},
     "output_type": "execute_result"
    }
   ],
   "source": [
    "# Laod .env environment\n",
    "load_dotenv()"
   ]
  },
  {
   "cell_type": "code",
   "execution_count": 3,
   "metadata": {},
   "outputs": [
    {
     "data": {
      "text/plain": [
       "str"
      ]
     },
     "execution_count": 3,
     "metadata": {},
     "output_type": "execute_result"
    }
   ],
   "source": [
    "# Load API Key\n",
    "datanews.api_key = os.getenv(\"datanews_api_key\")\n",
    "type(datanews.api_key)"
   ]
  },
  {
   "cell_type": "code",
   "execution_count": 4,
   "metadata": {},
   "outputs": [],
   "source": [
    "# Create a desired date range for news articles\n",
    "datelist = pd.DataFrame(pd.period_range(start ='5/5/2016', end = '5/8/2021', freq ='D'), columns = ['Date'])"
   ]
  },
  {
   "cell_type": "code",
   "execution_count": 6,
   "metadata": {},
   "outputs": [
    {
     "ename": "KeyError",
     "evalue": "'hits'",
     "output_type": "error",
     "traceback": [
      "\u001b[1;31m---------------------------------------------------------------------------\u001b[0m",
      "\u001b[1;31mKeyError\u001b[0m                                  Traceback (most recent call last)",
      "\u001b[1;32m<ipython-input-6-f315c44b69ac>\u001b[0m in \u001b[0;36m<module>\u001b[1;34m\u001b[0m\n\u001b[0;32m      4\u001b[0m         \u001b[0mtime\u001b[0m\u001b[1;33m.\u001b[0m\u001b[0msleep\u001b[0m\u001b[1;33m(\u001b[0m\u001b[1;36m.3\u001b[0m\u001b[1;33m)\u001b[0m\u001b[1;33m\u001b[0m\u001b[1;33m\u001b[0m\u001b[0m\n\u001b[0;32m      5\u001b[0m         \u001b[0mresponse\u001b[0m \u001b[1;33m=\u001b[0m \u001b[0mdatanews\u001b[0m\u001b[1;33m.\u001b[0m\u001b[0mnews\u001b[0m\u001b[1;33m(\u001b[0m\u001b[0mq\u001b[0m\u001b[1;33m=\u001b[0m\u001b[1;34m'Bitcoin'\u001b[0m \u001b[1;32mor\u001b[0m \u001b[1;34m'bitcoin'\u001b[0m\u001b[1;33m,\u001b[0m \u001b[0mlanguage\u001b[0m\u001b[1;33m=\u001b[0m\u001b[1;33m[\u001b[0m\u001b[1;34m'en'\u001b[0m\u001b[1;33m]\u001b[0m\u001b[1;33m,\u001b[0m \u001b[0mfrom_date\u001b[0m \u001b[1;33m=\u001b[0m \u001b[0mstr\u001b[0m\u001b[1;33m(\u001b[0m\u001b[0mdatelist\u001b[0m\u001b[1;33m[\u001b[0m\u001b[1;34m'Date'\u001b[0m\u001b[1;33m]\u001b[0m\u001b[1;33m.\u001b[0m\u001b[0mvalues\u001b[0m\u001b[1;33m[\u001b[0m\u001b[0mi\u001b[0m\u001b[1;33m]\u001b[0m\u001b[1;33m)\u001b[0m\u001b[1;33m,\u001b[0m \u001b[0mto_date\u001b[0m \u001b[1;33m=\u001b[0m \u001b[0mstr\u001b[0m\u001b[1;33m(\u001b[0m\u001b[0mdatelist\u001b[0m\u001b[1;33m[\u001b[0m\u001b[1;34m'Date'\u001b[0m\u001b[1;33m]\u001b[0m\u001b[1;33m.\u001b[0m\u001b[0mvalues\u001b[0m\u001b[1;33m[\u001b[0m\u001b[0mi\u001b[0m\u001b[1;33m]\u001b[0m\u001b[1;33m)\u001b[0m\u001b[1;33m)\u001b[0m\u001b[1;33m\u001b[0m\u001b[1;33m\u001b[0m\u001b[0m\n\u001b[1;32m----> 6\u001b[1;33m         \u001b[1;32mif\u001b[0m \u001b[0mlen\u001b[0m\u001b[1;33m(\u001b[0m\u001b[0mresponse\u001b[0m\u001b[1;33m[\u001b[0m\u001b[1;34m'hits'\u001b[0m\u001b[1;33m]\u001b[0m\u001b[1;33m)\u001b[0m \u001b[1;33m>\u001b[0m \u001b[1;36m0\u001b[0m\u001b[1;33m:\u001b[0m\u001b[1;33m\u001b[0m\u001b[1;33m\u001b[0m\u001b[0m\n\u001b[0m\u001b[0;32m      7\u001b[0m             \u001b[0marticles\u001b[0m \u001b[1;33m=\u001b[0m \u001b[0mresponse\u001b[0m\u001b[1;33m[\u001b[0m\u001b[1;34m'hits'\u001b[0m\u001b[1;33m]\u001b[0m\u001b[1;33m\u001b[0m\u001b[1;33m\u001b[0m\u001b[0m\n\u001b[0;32m      8\u001b[0m             \u001b[0mbitcoin_df\u001b[0m \u001b[1;33m=\u001b[0m \u001b[0mpd\u001b[0m\u001b[1;33m.\u001b[0m\u001b[0mDataFrame\u001b[0m\u001b[1;33m(\u001b[0m\u001b[0marticles\u001b[0m\u001b[1;33m)\u001b[0m\u001b[1;33m.\u001b[0m\u001b[0mfillna\u001b[0m\u001b[1;33m(\u001b[0m\u001b[1;36m0\u001b[0m\u001b[1;33m)\u001b[0m\u001b[1;33m\u001b[0m\u001b[1;33m\u001b[0m\u001b[0m\n",
      "\u001b[1;31mKeyError\u001b[0m: 'hits'"
     ]
    }
   ],
   "source": [
    "# Grab Bitcoin data from DataNews Api and load it into a dataframe\n",
    "bitcoin_appended_df = pd.DataFrame()\n",
    "for i in datelist.index:\n",
    "        time.sleep(.3)\n",
    "        response = datanews.news(q='Bitcoin' or 'bitcoin', language=['en'], from_date = str(datelist['Date'].values[i]), to_date = str(datelist['Date'].values[i]))\n",
    "        if len(response['hits']) > 0:\n",
    "            articles = response['hits']\n",
    "            bitcoin_df = pd.DataFrame(articles).fillna(0)\n",
    "            bitcoin_summary_df = bitcoin_df.loc[:,['pubDate','title','content']]\n",
    "            bitcoin_summary_df.pubDate = pd.to_datetime(bitcoin_summary_df.pubDate)\n",
    "            bitcoin_summary_df.set_index('pubDate', inplace = True)\n",
    "            bitcoin_summary_df.columns = ['Title','Content']\n",
    "            bitcoin_summary_df.index.names = ['Published Date']\n",
    "            bitcoin_appended_df = bitcoin_appended_df.append(bitcoin_summary_df)"
   ]
  },
  {
   "cell_type": "code",
   "execution_count": 9,
   "metadata": {},
   "outputs": [
    {
     "data": {
      "text/plain": [
       "{'status': 429,\n",
       " 'message': 'You have reached your monthly quota. Please wait, or upgrade your monthly plan.',\n",
       " 'timestamp': 1620670868273}"
      ]
     },
     "execution_count": 9,
     "metadata": {},
     "output_type": "execute_result"
    }
   ],
   "source": [
    "response"
   ]
  },
  {
   "cell_type": "code",
   "execution_count": 10,
   "metadata": {},
   "outputs": [],
   "source": [
    "# Grab Ethereum data from DataNews Api and load it into a dataframe\n",
    "ethereum_appended_df = pd.DataFrame()\n",
    "for i in datelist.index:\n",
    "        time.sleep(.3)\n",
    "        #print(str(datelist['Date'].values[i]))\n",
    "        response = datanews.news(q='Ethereum' or 'ethereum', language=['en'], from_date = str(datelist['Date'].values[i]), to_date = str(datelist['Date'].values[i]))\n",
    "        if len(response['hits']) > 0:\n",
    "            articles = response['hits']\n",
    "            ethereum_df = pd.DataFrame(articles).fillna(0)\n",
    "            ethereum_summary_df = ethereum_df.loc[:,['pubDate','title','content']]\n",
    "            ethereum_summary_df.pubDate = pd.to_datetime(ethereum_summary_df.pubDate)\n",
    "            ethereum_summary_df.set_index('pubDate', inplace = True)\n",
    "            ethereum_summary_df.columns = ['Title','Content']\n",
    "            ethereum_summary_df.index.names = ['Published Date']\n",
    "            ethereum_appended_df = ethereum_appended_df.append(ethereum_summary_df)"
   ]
  },
  {
   "cell_type": "code",
   "execution_count": 11,
   "metadata": {},
   "outputs": [],
   "source": [
    "# Grab Dogecoin data from DataNews Api and load it into a dataframe\n",
    "dogecoin_appended_df = pd.DataFrame()\n",
    "for i in datelist.index:\n",
    "        time.sleep(.3)\n",
    "        #print(str(datelist['Date'].values[i]))\n",
    "        response = datanews.news(q='Dogecoin' or 'dogecoin', language=['en'], from_date = str(datelist['Date'].values[i]), to_date = str(datelist['Date'].values[i]))\n",
    "        if len(response['hits']) > 0:\n",
    "            articles = response['hits']\n",
    "            dogecoin_df = pd.DataFrame(articles).fillna(0)\n",
    "            dogecoin_summary_df = dogecoin_df.loc[:,['pubDate','title','content']]\n",
    "            dogecoin_summary_df.pubDate = pd.to_datetime(dogecoin_summary_df.pubDate)\n",
    "            dogecoin_summary_df.set_index('pubDate', inplace = True)\n",
    "            dogecoin_summary_df.columns = ['Title','Content']\n",
    "            dogecoin_summary_df.index.names = ['Published Date']\n",
    "            dogecoin_appended_df = dogecoin_appended_df.append(dogecoin_summary_df)"
   ]
  },
  {
   "cell_type": "code",
   "execution_count": 15,
   "metadata": {},
   "outputs": [
    {
     "data": {
      "text/html": [
       "<div>\n",
       "<style scoped>\n",
       "    .dataframe tbody tr th:only-of-type {\n",
       "        vertical-align: middle;\n",
       "    }\n",
       "\n",
       "    .dataframe tbody tr th {\n",
       "        vertical-align: top;\n",
       "    }\n",
       "\n",
       "    .dataframe thead th {\n",
       "        text-align: right;\n",
       "    }\n",
       "</style>\n",
       "<table border=\"1\" class=\"dataframe\">\n",
       "  <thead>\n",
       "    <tr style=\"text-align: right;\">\n",
       "      <th></th>\n",
       "      <th>Title</th>\n",
       "      <th>Content</th>\n",
       "    </tr>\n",
       "    <tr>\n",
       "      <th>Published Date</th>\n",
       "      <th></th>\n",
       "      <th></th>\n",
       "    </tr>\n",
       "  </thead>\n",
       "  <tbody>\n",
       "    <tr>\n",
       "      <th>2017-09-15 21:01:43+00:00</th>\n",
       "      <td>Is There a Cryptocurrency Bubble? Just Ask Doge.</td>\n",
       "      <td>Jackson Palmer, creator of Dogecoin, in San Fr...</td>\n",
       "    </tr>\n",
       "    <tr>\n",
       "      <th>2017-11-08 19:19:22+00:00</th>\n",
       "      <td>SegWit2x Hard Fork Called Off: ‘Common Sense’ ...</td>\n",
       "      <td>The controversial SegWit2x fork has been suspe...</td>\n",
       "    </tr>\n",
       "    <tr>\n",
       "      <th>2018-01-25 16:59:08+00:00</th>\n",
       "      <td>Cryptocurrency Scammers Are Running Wild On Te...</td>\n",
       "      <td>Messaging app Telegram started out as a WhatsA...</td>\n",
       "    </tr>\n",
       "    <tr>\n",
       "      <th>2018-10-20 11:45:03+00:00</th>\n",
       "      <td>UK Money Management App Emma Makes Crypto Push</td>\n",
       "      <td>The startup is behind the Emma app for iOS and...</td>\n",
       "    </tr>\n",
       "    <tr>\n",
       "      <th>2019-04-25 00:51:55+00:00</th>\n",
       "      <td>Yelp's Bitcoin Filter Could Kickstart Weak Cry...</td>\n",
       "      <td>By CCN: As bitcoin’s price experienced a surge...</td>\n",
       "    </tr>\n",
       "  </tbody>\n",
       "</table>\n",
       "</div>"
      ],
      "text/plain": [
       "                                                                       Title  \\\n",
       "Published Date                                                                 \n",
       "2017-09-15 21:01:43+00:00   Is There a Cryptocurrency Bubble? Just Ask Doge.   \n",
       "2017-11-08 19:19:22+00:00  SegWit2x Hard Fork Called Off: ‘Common Sense’ ...   \n",
       "2018-01-25 16:59:08+00:00  Cryptocurrency Scammers Are Running Wild On Te...   \n",
       "2018-10-20 11:45:03+00:00     UK Money Management App Emma Makes Crypto Push   \n",
       "2019-04-25 00:51:55+00:00  Yelp's Bitcoin Filter Could Kickstart Weak Cry...   \n",
       "\n",
       "                                                                     Content  \n",
       "Published Date                                                                \n",
       "2017-09-15 21:01:43+00:00  Jackson Palmer, creator of Dogecoin, in San Fr...  \n",
       "2017-11-08 19:19:22+00:00  The controversial SegWit2x fork has been suspe...  \n",
       "2018-01-25 16:59:08+00:00  Messaging app Telegram started out as a WhatsA...  \n",
       "2018-10-20 11:45:03+00:00  The startup is behind the Emma app for iOS and...  \n",
       "2019-04-25 00:51:55+00:00  By CCN: As bitcoin’s price experienced a surge...  "
      ]
     },
     "execution_count": 15,
     "metadata": {},
     "output_type": "execute_result"
    }
   ],
   "source": [
    "# Check dataframe\n",
    "# bitcoin_appended_df.head()\n",
    "# ethereum_appended_df.tail()\n",
    "dogecoin_appended_df.head()"
   ]
  },
  {
   "cell_type": "code",
   "execution_count": 14,
   "metadata": {},
   "outputs": [],
   "source": [
    "# Turn dataframes into csv\n",
    "bitcoin_appended_df.to_csv('DataNews_Bitcoin.csv',  index = True)\n",
    "ethereum_appended_df.to_csv('DataNews_Ethereum.csv',  index = True)\n",
    "dogecoin_appended_df.to_csv('DataNews_Dogecoin.csv',  index = True)"
   ]
  },
  {
   "cell_type": "code",
   "execution_count": null,
   "metadata": {},
   "outputs": [],
   "source": []
  }
 ],
 "metadata": {
  "kernelspec": {
   "display_name": "Python 3",
   "language": "python",
   "name": "python3"
  },
  "language_info": {
   "codemirror_mode": {
    "name": "ipython",
    "version": 3
   },
   "file_extension": ".py",
   "mimetype": "text/x-python",
   "name": "python",
   "nbconvert_exporter": "python",
   "pygments_lexer": "ipython3",
   "version": "3.7.9"
  }
 },
 "nbformat": 4,
 "nbformat_minor": 4
}
