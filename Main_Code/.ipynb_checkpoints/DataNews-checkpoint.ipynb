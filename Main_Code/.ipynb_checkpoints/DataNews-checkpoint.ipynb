{
 "cells": [
  {
   "cell_type": "markdown",
   "metadata": {},
   "source": [
    "# Install DataNews Package"
   ]
  },
  {
   "cell_type": "code",
   "execution_count": null,
   "metadata": {},
   "outputs": [],
   "source": [
    "#pip install datanews"
   ]
  },
  {
   "cell_type": "markdown",
   "metadata": {},
   "source": [
    "# Import all other pacakges"
   ]
  },
  {
   "cell_type": "code",
   "execution_count": 17,
   "metadata": {},
   "outputs": [],
   "source": [
    "import requests\n",
    "import pandas as pd\n",
    "import json\n",
    "from path import Path\n",
    "from dotenv import load_dotenv\n",
    "import os\n",
    "import requests\n",
    "import datanews\n",
    "from datetime import datetime\n",
    "import asyncio\n",
    "import time"
   ]
  },
  {
   "cell_type": "markdown",
   "metadata": {},
   "source": [
    "# DataNews API Key"
   ]
  },
  {
   "cell_type": "code",
   "execution_count": 18,
   "metadata": {},
   "outputs": [
    {
     "data": {
      "text/plain": [
       "True"
      ]
     },
     "execution_count": 18,
     "metadata": {},
     "output_type": "execute_result"
    }
   ],
   "source": [
    "# Laod .env environment\n",
    "load_dotenv()\n"
   ]
  },
  {
   "cell_type": "code",
   "execution_count": 19,
   "metadata": {},
   "outputs": [
    {
     "data": {
      "text/plain": [
       "str"
      ]
     },
     "execution_count": 19,
     "metadata": {},
     "output_type": "execute_result"
    }
   ],
   "source": [
    "# Load API Key\n",
    "datanews.api_key = os.getenv(\"datanews.api_key\")\n",
    "type(datanews.api_key)"
   ]
  },
  {
   "cell_type": "markdown",
   "metadata": {},
   "source": [
    "# Create Dataframes for Each Coin"
   ]
  },
  {
   "cell_type": "code",
   "execution_count": 20,
   "metadata": {},
   "outputs": [],
   "source": [
    "# Create a desired date range for news articles\n",
    "datelist = pd.DataFrame(pd.period_range(start ='5/5/2016', end = '5/5/2021', freq ='D'), columns = ['Date'])"
   ]
  },
  {
   "cell_type": "code",
   "execution_count": 22,
   "metadata": {},
   "outputs": [],
   "source": [
    "# Grab Bitcoin data from DataNews Api and load it into a dataframe\n",
    "bitcoin_appended_df = pd.DataFrame()\n",
    "for i in datelist.index:\n",
    "        time.sleep(.35)\n",
    "        response = datanews.news(q='Bitcoin' or 'bitcoin', language=['en'], from_date = str(datelist['Date'].values[i]), to_date = str(datelist['Date'].values[i]))\n",
    "        if len(response['hits']) > 0:\n",
    "            articles = response['hits']\n",
    "            bitcoin_df = pd.DataFrame(articles).fillna(0)\n",
    "            bitcoin_summary_df = bitcoin_df.loc[:,['pubDate','title','content']]\n",
    "            bitcoin_summary_df.pubDate = pd.to_datetime(bitcoin_summary_df.pubDate)\n",
    "            bitcoin_summary_df.set_index('pubDate', inplace = True)\n",
    "            bitcoin_summary_df.columns = ['Title','Content']\n",
    "            bitcoin_summary_df.index.names = ['Published Date']\n",
    "            bitcoin_appended_df = bitcoin_appended_df.append(bitcoin_summary_df)\n",
    "\n",
    "        \n"
   ]
  },
  {
   "cell_type": "code",
   "execution_count": 23,
   "metadata": {},
   "outputs": [],
   "source": [
    "# Grab Ethereum data from DataNews Api and load it into a dataframe\n",
    "ethereum_appended_df = pd.DataFrame()\n",
    "for i in datelist.index:\n",
    "        time.sleep(.35)\n",
    "        #print(str(datelist['Date'].values[i]))\n",
    "        response = datanews.news(q='Ethereum' or 'ethereum', language=['en'], from_date = str(datelist['Date'].values[i]), to_date = str(datelist['Date'].values[i]))\n",
    "        if len(response['hits']) > 0:\n",
    "            articles = response['hits']\n",
    "            ethereum_df = pd.DataFrame(articles).fillna(0)\n",
    "            ethereum_summary_df = bitcoin_df.loc[:,['pubDate','title','content']]\n",
    "            ethereum_summary_df.pubDate = pd.to_datetime(ethereum_summary_df.pubDate)\n",
    "            ethereum_summary_df.set_index('pubDate', inplace = True)\n",
    "            ethereum_summary_df.columns = ['Title','Content']\n",
    "            ethereum_summary_df.index.names = ['Published Date']\n",
    "            ethereum_appended_df = ethereum_appended_df.append(ethereum_summary_df)"
   ]
  },
  {
   "cell_type": "code",
   "execution_count": 25,
   "metadata": {},
   "outputs": [],
   "source": [
    "# Grab Dogecoin data from DataNews Api and load it into a dataframe\n",
    "dogecoin_appended_df = pd.DataFrame()\n",
    "for i in datelist.index:\n",
    "        time.sleep(.35)\n",
    "        #print(str(datelist['Date'].values[i]))\n",
    "        response = datanews.news(q='Dogecoin' or 'dogecoin', language=['en'], from_date = str(datelist['Date'].values[i]), to_date = str(datelist['Date'].values[i]))\n",
    "        if len(response['hits']) > 0:\n",
    "            articles = response['hits']\n",
    "            dogecoin_df = pd.DataFrame(articles).fillna(0)\n",
    "            dogecoin_summary_df = bitcoin_df.loc[:,['pubDate','title','content']]\n",
    "            dogecoin_summary_df.pubDate = pd.to_datetime(dogecoin_summary_df.pubDate)\n",
    "            dogecoin_summary_df.set_index('pubDate', inplace = True)\n",
    "            dogecoin_summary_df.columns = ['Title','Content']\n",
    "            dogecoin_summary_df.index.names = ['Published Date']\n",
    "            dogecoin_appended_df = dogecoin_appended_df.append(dogecoin_summary_df)"
   ]
  },
  {
   "cell_type": "code",
   "execution_count": 28,
   "metadata": {},
   "outputs": [],
   "source": [
    "# Check dataframe\n",
    "# bitcoin_appended_df.head()\n",
    "# ethereum_appended_df.head()\n",
    "# dogecoin_appended_df.head()"
   ]
  },
  {
   "cell_type": "markdown",
   "metadata": {},
   "source": [
    "# Create CSVs"
   ]
  },
  {
   "cell_type": "code",
   "execution_count": 29,
   "metadata": {},
   "outputs": [],
   "source": [
    "# Turn dataframes into csv\n",
    "bitcoin_appended_df.to_csv('DataNews_Bitcoin.csv',  index = True)\n",
    "ethereum_appended_df.to_csv('DataNews_Ethereum.csv',  index = True)\n",
    "dogecoin_appended_df.to_csv('DataNews_Dogecoin.csv',  index = True)"
   ]
  },
  {
   "cell_type": "code",
   "execution_count": null,
   "metadata": {},
   "outputs": [],
   "source": []
  }
 ],
 "metadata": {
  "kernelspec": {
   "display_name": "Python [conda env:dlenv] *",
   "language": "python",
   "name": "conda-env-dlenv-py"
  },
  "language_info": {
   "codemirror_mode": {
    "name": "ipython",
    "version": 3
   },
   "file_extension": ".py",
   "mimetype": "text/x-python",
   "name": "python",
   "nbconvert_exporter": "python",
   "pygments_lexer": "ipython3",
   "version": "3.7.9"
  }
 },
 "nbformat": 4,
 "nbformat_minor": 4
}
