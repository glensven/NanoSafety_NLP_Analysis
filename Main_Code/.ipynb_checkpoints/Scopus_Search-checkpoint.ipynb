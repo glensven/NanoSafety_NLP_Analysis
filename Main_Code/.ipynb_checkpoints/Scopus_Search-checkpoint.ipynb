{
 "cells": [
  {
   "cell_type": "markdown",
   "metadata": {},
   "source": [
    "## Use multiple Scopus Author IDs to retrieve lists of articles by author"
   ]
  },
  {
   "cell_type": "code",
   "execution_count": 4,
   "metadata": {},
   "outputs": [
    {
     "name": "stdout",
     "output_type": "stream",
     "text": [
      "Requirement already satisfied: numpy in c:\\users\\gss8640\\anaconda3\\envs\\pyvizenv\\lib\\site-packages (1.21.1)\n",
      "Note: you may need to restart the kernel to use updated packages.\n"
     ]
    }
   ],
   "source": [
    "pip install numpy --upgrade --user"
   ]
  },
  {
   "cell_type": "code",
   "execution_count": 1,
   "metadata": {},
   "outputs": [
    {
     "name": "stderr",
     "output_type": "stream",
     "text": [
      "\n",
      "Bad key savefig.frameon in file C:\\Users\\gss8640\\Anaconda3\\envs\\pyvizenv\\lib\\site-packages\\matplotlib\\mpl-data\\stylelib\\_classic_test.mplstyle, line 421 ('savefig.frameon : True')\n",
      "You probably need to get an updated matplotlibrc file from\n",
      "https://github.com/matplotlib/matplotlib/blob/v3.3.4/matplotlibrc.template\n",
      "or from the matplotlib source distribution\n",
      "\n",
      "Bad key verbose.level in file C:\\Users\\gss8640\\Anaconda3\\envs\\pyvizenv\\lib\\site-packages\\matplotlib\\mpl-data\\stylelib\\_classic_test.mplstyle, line 472 ('verbose.level  : silent      # one of silent, helpful, debug, debug-annoying')\n",
      "You probably need to get an updated matplotlibrc file from\n",
      "https://github.com/matplotlib/matplotlib/blob/v3.3.4/matplotlibrc.template\n",
      "or from the matplotlib source distribution\n",
      "\n",
      "Bad key verbose.fileo in file C:\\Users\\gss8640\\Anaconda3\\envs\\pyvizenv\\lib\\site-packages\\matplotlib\\mpl-data\\stylelib\\_classic_test.mplstyle, line 473 ('verbose.fileo  : sys.stdout  # a log filename, sys.stdout or sys.stderr')\n",
      "You probably need to get an updated matplotlibrc file from\n",
      "https://github.com/matplotlib/matplotlib/blob/v3.3.4/matplotlibrc.template\n",
      "or from the matplotlib source distribution\n",
      "In C:\\Users\\gss8640\\Anaconda3\\envs\\pyvizenv\\lib\\site-packages\\matplotlib\\mpl-data\\stylelib\\_classic_test.mplstyle: \n",
      "The text.latex.preview rcparam was deprecated in Matplotlib 3.3 and will be removed two minor releases later.\n",
      "In C:\\Users\\gss8640\\Anaconda3\\envs\\pyvizenv\\lib\\site-packages\\matplotlib\\mpl-data\\stylelib\\_classic_test.mplstyle: \n",
      "The mathtext.fallback_to_cm rcparam was deprecated in Matplotlib 3.3 and will be removed two minor releases later.\n",
      "In C:\\Users\\gss8640\\Anaconda3\\envs\\pyvizenv\\lib\\site-packages\\matplotlib\\mpl-data\\stylelib\\_classic_test.mplstyle: Support for setting the 'mathtext.fallback_to_cm' rcParam is deprecated since 3.3 and will be removed two minor releases later; use 'mathtext.fallback : 'cm' instead.\n",
      "In C:\\Users\\gss8640\\Anaconda3\\envs\\pyvizenv\\lib\\site-packages\\matplotlib\\mpl-data\\stylelib\\_classic_test.mplstyle: \n",
      "The validate_bool_maybe_none function was deprecated in Matplotlib 3.3 and will be removed two minor releases later.\n",
      "In C:\\Users\\gss8640\\Anaconda3\\envs\\pyvizenv\\lib\\site-packages\\matplotlib\\mpl-data\\stylelib\\_classic_test.mplstyle: \n",
      "The savefig.jpeg_quality rcparam was deprecated in Matplotlib 3.3 and will be removed two minor releases later.\n",
      "In C:\\Users\\gss8640\\Anaconda3\\envs\\pyvizenv\\lib\\site-packages\\matplotlib\\mpl-data\\stylelib\\_classic_test.mplstyle: \n",
      "The keymap.all_axes rcparam was deprecated in Matplotlib 3.3 and will be removed two minor releases later.\n",
      "In C:\\Users\\gss8640\\Anaconda3\\envs\\pyvizenv\\lib\\site-packages\\matplotlib\\mpl-data\\stylelib\\_classic_test.mplstyle: \n",
      "The animation.avconv_path rcparam was deprecated in Matplotlib 3.3 and will be removed two minor releases later.\n",
      "In C:\\Users\\gss8640\\Anaconda3\\envs\\pyvizenv\\lib\\site-packages\\matplotlib\\mpl-data\\stylelib\\_classic_test.mplstyle: \n",
      "The animation.avconv_args rcparam was deprecated in Matplotlib 3.3 and will be removed two minor releases later.\n"
     ]
    }
   ],
   "source": [
    "# Dependencies\n",
    "import requests\n",
    "import json\n",
    "import pandas as pd\n",
    "import numpy as np\n",
    "import re\n",
    "import io\n",
    "from config import api_key\n",
    "from collections import OrderedDict\n",
    "from pandas.io.json import json_normalize  \n",
    "from nltk.corpus import stopwords, reuters\n",
    "from nltk.tokenize import word_tokenize\n",
    "from nltk.stem import WordNetLemmatizer\n",
    "from wordcloud import WordCloud\n",
    "import re\n",
    "import matplotlib.pyplot as plt\n",
    "import time\n",
    "\n",
    "# Code to download corpora\n",
    "import nltk\n",
    "lemmatizer = WordNetLemmatizer()"
   ]
  },
  {
   "cell_type": "code",
   "execution_count": 2,
   "metadata": {},
   "outputs": [],
   "source": [
    "# Declare necessary parameters for Scopus request API search tool\n",
    "url = \"http://api.elsevier.com/content/search/scopus?\" + \"?format=json\"\n",
    "headers = {\"X-ELS-APIKey\": api_key, 'Accept':'application/json'}\n",
    "view = \"Complete\""
   ]
  },
  {
   "cell_type": "code",
   "execution_count": 48,
   "metadata": {
    "tags": []
   },
   "outputs": [
    {
     "data": {
      "text/plain": [
       "[2020, 2021]"
      ]
     },
     "execution_count": 48,
     "metadata": {},
     "output_type": "execute_result"
    }
   ],
   "source": [
    "# Declare the timeframe to search by start and end years\n",
    "# Year is the lowest granularity for this search function\n",
    "start_year = 2020\n",
    "end_year = 2021\n",
    "if start_year == end_year:\n",
    "    date = str(start_year)\n",
    "else: \n",
    "    date = str(start_year) + \"-\" + str(end_year)\n",
    "\n",
    "# Generate a lists of dates for the requested timeframe\n",
    "date_list = []\n",
    "for date in range(start_year, end_year + 1):\n",
    "    date_list.append(int(date))\n",
    "    \n",
    "date_list"
   ]
  },
  {
   "cell_type": "code",
   "execution_count": 60,
   "metadata": {},
   "outputs": [],
   "source": [
    "# Input the query search term\n",
    "query = \"nano AND safety\""
   ]
  },
  {
   "cell_type": "code",
   "execution_count": 61,
   "metadata": {
    "tags": []
   },
   "outputs": [
    {
     "data": {
      "text/plain": [
       "[29364, 24388]"
      ]
     },
     "execution_count": 61,
     "metadata": {},
     "output_type": "execute_result"
    }
   ],
   "source": [
    "# Test search function to determine the total results from the Get Request for the Specified Date Range\n",
    "def total_results_funt(date_list):\n",
    "    total_results = []\n",
    "    for i in date_list:\n",
    "        parameters = {\"query\": query, \"view\": view, \"date\": str(i), \"count\": 25, \"start\": 0}\n",
    "        article_response = requests.get(url, headers=headers, params=parameters)\n",
    "        article_response_json = article_response.json()\n",
    "        total_results.append(int(article_response_json['search-results']['opensearch:totalResults']))\n",
    "    return total_results\n",
    "\n",
    "total_results = total_results_funt(date_list)\n",
    "total_results"
   ]
  },
  {
   "cell_type": "code",
   "execution_count": 47,
   "metadata": {},
   "outputs": [
    {
     "data": {
      "image/png": "[encoded data removed]",
      "text/plain": [
       "<Figure size 1008x720 with 1 Axes>"
      ]
     },
     "metadata": {
      "needs_background": "light"
     },
     "output_type": "display_data"
    }
   ],
   "source": [
    "# Create an annual frequency bar plot for query search\n",
    "frequency_df = pd.DataFrame([date_list, total_results]).T\n",
    "frequency_df.columns = ['Year', 'Frequency']\n",
    "plt.figure(figsize =(14, 10))\n",
    "plt.bar(frequency_df['Year'], frequency_df['Frequency'])\n",
    "plt.xlabel('Year')\n",
    "plt.xticks(frequency_df['Year'], date_list)\n",
    "plt.ylabel('Frequency')\n",
    "plt.title('Annual Frequency of Nanosafety')\n",
    "plt.savefig('Title_Query_Frequency.jpeg')"
   ]
  },
  {
   "cell_type": "code",
   "execution_count": 46,
   "metadata": {},
   "outputs": [
    {
     "name": "stdout",
     "output_type": "stream",
     "text": [
      "Help on function xticks in module matplotlib.pyplot:\n",
      "\n",
      "xticks(ticks=None, labels=None, **kwargs)\n",
      "    Get or set the current tick locations and labels of the x-axis.\n",
      "    \n",
      "    Pass no arguments to return the current values without modifying them.\n",
      "    \n",
      "    Parameters\n",
      "    ----------\n",
      "    ticks : array-like, optional\n",
      "        The list of xtick locations.  Passing an empty list removes all xticks.\n",
      "    labels : array-like, optional\n",
      "        The labels to place at the given *ticks* locations.  This argument can\n",
      "        only be passed if *ticks* is passed as well.\n",
      "    **kwargs\n",
      "        `.Text` properties can be used to control the appearance of the labels.\n",
      "    \n",
      "    Returns\n",
      "    -------\n",
      "    locs\n",
      "        The list of xtick locations.\n",
      "    labels\n",
      "        The list of xlabel `.Text` objects.\n",
      "    \n",
      "    Notes\n",
      "    -----\n",
      "    Calling this function with no arguments (e.g. ``xticks()``) is the pyplot\n",
      "    equivalent of calling `~.Axes.get_xticks` and `~.Axes.get_xticklabels` on\n",
      "    the current axes.\n",
      "    Calling this function with arguments is the pyplot equivalent of calling\n",
      "    `~.Axes.set_xticks` and `~.Axes.set_xticklabels` on the current axes.\n",
      "    \n",
      "    Examples\n",
      "    --------\n",
      "    >>> locs, labels = xticks()  # Get the current locations and labels.\n",
      "    >>> xticks(np.arange(0, 1, step=0.2))  # Set label locations.\n",
      "    >>> xticks(np.arange(3), ['Tom', 'Dick', 'Sue'])  # Set text labels.\n",
      "    >>> xticks([0, 1, 2], ['January', 'February', 'March'],\n",
      "    ...        rotation=20)  # Set text labels and properties.\n",
      "    >>> xticks([])  # Disable xticks.\n",
      "\n"
     ]
    }
   ],
   "source": [
    "help(plt.xticks)"
   ]
  },
  {
   "cell_type": "code",
   "execution_count": null,
   "metadata": {},
   "outputs": [],
   "source": []
  },
  {
   "cell_type": "code",
   "execution_count": null,
   "metadata": {
    "tags": []
   },
   "outputs": [],
   "source": [
    "# Search request function \n",
    "# Scopus request has a maximum of 5000 articles returned per year\n",
    "def search_request_funt(total_results, query, date_list):\n",
    "    scopus_search_appended_df = pd.DataFrame()\n",
    "    for i in date_list:\n",
    "        parameters = {\"query\": query, \"view\": view, \"date\": str(i), \"count\": 25}\n",
    "        article_response = requests.get(url, headers=headers, params=parameters)\n",
    "        article_response_json = article_response.json()\n",
    "        Total_Results = int(article_response_json['search-results']['opensearch:totalResults'])\n",
    "        for n in range(0, total_results, 25):\n",
    "            parameters_2 = {\"query\": query, \"view\": view, \"count\": 25, \"start\": n}\n",
    "            article_response = requests.get(url, headers=headers, params=parameters_2)\n",
    "            article_response_json = article_response.json()\n",
    "            scopus_articles_df = pd.DataFrame.from_dict(json_normalize(article_response_json, meta=[\"search-results\"], record_path=[\"search-results\", \"entry\"]), orient=\"columns\")\n",
    "            date_title_description_df = scopus_articles_df[[\"prism:coverDate\", \"dc:title\", \"dc:description\"]]\n",
    "            date_title_description_df.columns = ['Date','Title','Content']\n",
    "            pd.to_datetime(date_title_description_df['Date'], format = \"%Y-%m-%d\")\n",
    "            date_title_description_df.sort_values(by='Date')\n",
    "            date_title_description_df = date_title_description_df.set_index('Date')\n",
    "            scopus_search_appended_df = scopus_search_appended_df.append(date_title_description_df)\n",
    "\n",
    "    return scopus_search_appended_df\n",
    "\n",
    "# Create and check scopus search dataframe\n",
    "scopus_search_appended_df = search_request_funt(total_results, query, date_list)\n",
    "scopus_search_appended_df"
   ]
  },
  {
   "cell_type": "code",
   "execution_count": null,
   "metadata": {
    "tags": []
   },
   "outputs": [],
   "source": [
    "# Convert dataframe title column to string text\n",
    "def dataframe_to_string(scopus_search_appended_df):\n",
    "    for row in scopus_search_appended_df['Title']:\n",
    "        big_title_string = ' '.join(scopus_search_appended_df['Title'])\n",
    "    return big_title_string\n",
    "big_title_string = dataframe_to_string(scopus_search_appended_df)\n",
    "# big_title_string"
   ]
  },
  {
   "cell_type": "code",
   "execution_count": null,
   "metadata": {},
   "outputs": [],
   "source": [
    "# Natural language toolkit function to process string of text\n",
    "def process_text(doc):\n",
    "    sw = set(stopwords.words('english'))\n",
    "    regex = re.compile(\"[^a-zA-Z ]\")\n",
    "    sw_addons = {'using', 'via'}\n",
    "    re_clean = regex.sub('', doc)\n",
    "    words = word_tokenize(re_clean)\n",
    "    lem = [lemmatizer.lemmatize(word) for word in words]\n",
    "    output = [word.lower() for word in lem if word.lower() not in sw.union(sw_addons)]\n",
    "    return ' '.join(output)\n",
    "input_text_title = process_text(big_title_string)"
   ]
  },
  {
   "cell_type": "code",
   "execution_count": null,
   "metadata": {},
   "outputs": [],
   "source": [
    "# Generate WordCloud for titles pulled for the seleted query within the timeframe\n",
    "wc_title = WordCloud(width=1200, height=800, max_words=25, background_color=\"white\").generate(input_text_title)\n",
    "plt.figure()\n",
    "plt.imshow(wc_title, interpolation='bilinear')\n",
    "plt.axis(\"off\")\n",
    "plt.show()"
   ]
  },
  {
   "cell_type": "code",
   "execution_count": null,
   "metadata": {},
   "outputs": [],
   "source": [
    "# Output image of WordCloud\n",
    "image_title = wc_title.to_image()\n",
    "image_title.save(\"Title_WordCloud.jpg\") "
   ]
  },
  {
   "cell_type": "code",
   "execution_count": null,
   "metadata": {
    "tags": []
   },
   "outputs": [],
   "source": [
    "for row in nanosafety_appended_df:\n",
    "    big_string_content = str(nanosafety_appended_df['Content'].to_list())\n",
    "    \n",
    "big_string_content"
   ]
  },
  {
   "cell_type": "code",
   "execution_count": null,
   "metadata": {},
   "outputs": [],
   "source": [
    "input_text_content = process_text(big_string_content)"
   ]
  },
  {
   "cell_type": "code",
   "execution_count": null,
   "metadata": {},
   "outputs": [],
   "source": [
    "wc_content = WordCloud(width=1200, height=800, background_color=\"white\", max_words=30).generate(input_text_content)\n",
    "plt.figure()\n",
    "plt.imshow(wc_content, interpolation='bilinear')\n",
    "plt.axis(\"off\")\n",
    "plt.show()"
   ]
  },
  {
   "cell_type": "code",
   "execution_count": null,
   "metadata": {},
   "outputs": [],
   "source": [
    "image_content = wc_content.to_image()\n",
    "image_content.show()"
   ]
  },
  {
   "cell_type": "code",
   "execution_count": null,
   "metadata": {
    "tags": []
   },
   "outputs": [],
   "source": [
    "data = pd.DataFrame(nanosafety_appended_df.groupby(\"Date\").size())\n",
    "data = data.reset_index()\n",
    "data.columns = ['Date', 'Count']\n",
    "data['Date'] = pd.to_datetime(data['Date'], infer_datetime_format = True).apply(lambda x: x.strftime('%Y-%m'))\n",
    "data_month = pd.DataFrame(data.groupby(\"Date\").size())\n",
    "data_month = data_month.reset_index()\n",
    "data_month.columns = ['Date', 'Count']\n",
    "#data_month.plot(x ='Date', y='Count', kind = 'bar')\n",
    "# data_month"
   ]
  },
  {
   "cell_type": "code",
   "execution_count": null,
   "metadata": {},
   "outputs": [],
   "source": []
  },
  {
   "cell_type": "code",
   "execution_count": null,
   "metadata": {},
   "outputs": [],
   "source": []
  }
 ],
 "metadata": {
  "kernelspec": {
   "display_name": "Python 3",
   "language": "python",
   "name": "python3"
  },
  "language_info": {
   "codemirror_mode": {
    "name": "ipython",
    "version": 3
   },
   "file_extension": ".py",
   "mimetype": "text/x-python",
   "name": "python",
   "nbconvert_exporter": "python",
   "pygments_lexer": "ipython3",
   "version": "3.7.10"
  }
 },
 "nbformat": 4,
 "nbformat_minor": 4
}
